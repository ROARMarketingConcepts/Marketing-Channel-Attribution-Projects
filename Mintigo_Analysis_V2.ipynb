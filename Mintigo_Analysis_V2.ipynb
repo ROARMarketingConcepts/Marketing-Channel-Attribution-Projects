{
  "nbformat": 4,
  "nbformat_minor": 0,
  "metadata": {
    "colab": {
      "name": "Mintigo Analysis V2.ipynb",
      "version": "0.3.2",
      "provenance": [],
      "collapsed_sections": [],
      "include_colab_link": true
    },
    "kernelspec": {
      "name": "python3",
      "display_name": "Python 3"
    },
    "accelerator": "TPU"
  },
  "cells": [
    {
      "cell_type": "markdown",
      "metadata": {
        "id": "view-in-github",
        "colab_type": "text"
      },
      "source": [
        "<a href=\"https://colab.research.google.com/github/ROARMarketingConcepts/SugarCRM/blob/master/Mintigo_Analysis_V2.ipynb\" target=\"_parent\"><img src=\"https://colab.research.google.com/assets/colab-badge.svg\" alt=\"Open In Colab\"/></a>"
      ]
    },
    {
      "cell_type": "markdown",
      "metadata": {
        "id": "sScafKGTibzK",
        "colab_type": "text"
      },
      "source": [
        "# Mintigo Analysis\n",
        "\n",
        "### This notebook performs a series of regressor analyses on Customer Scoring data provided by Mintigo. Algorithms considered include: linear regression, decision tree, and random forest.\n",
        "\n",
        "Analysis perfomed by:\n",
        "\n",
        "Ken Wood\n",
        "\n",
        "Marketing Data Scientist\n",
        "\n",
        "SugarCRM\n",
        "\n",
        "kwood@sugarcrm.com"
      ]
    },
    {
      "cell_type": "markdown",
      "metadata": {
        "id": "7rwdcJgfjLyH",
        "colab_type": "text"
      },
      "source": [
        "### Mount the Google Drive where the Mintigo data is located..."
      ]
    },
    {
      "cell_type": "code",
      "metadata": {
        "id": "btsw0QdYz4KB",
        "colab_type": "code",
        "outputId": "cca91049-5d7d-48b0-f161-ba261c458075",
        "colab": {
          "base_uri": "https://localhost:8080/",
          "height": 34
        }
      },
      "source": [
        "from google.colab import drive\n",
        "drive.mount('/content/drive/')"
      ],
      "execution_count": 1,
      "outputs": [
        {
          "output_type": "stream",
          "text": [
            "Drive already mounted at /content/drive/; to attempt to forcibly remount, call drive.mount(\"/content/drive/\", force_remount=True).\n"
          ],
          "name": "stdout"
        }
      ]
    },
    {
      "cell_type": "markdown",
      "metadata": {
        "id": "pf15xwmBbxvp",
        "colab_type": "text"
      },
      "source": [
        "### Set up the programming enviroment"
      ]
    },
    {
      "cell_type": "code",
      "metadata": {
        "id": "8upvJ9atbjsT",
        "colab_type": "code",
        "outputId": "f3ddf5f8-e896-4926-b87f-ffed76e51a5a",
        "colab": {
          "base_uri": "https://localhost:8080/",
          "height": 85
        }
      },
      "source": [
        "# To support both python 2 and python 3\n",
        "from __future__ import division, print_function, unicode_literals\n",
        "\n",
        "# Common imports\n",
        "import re\n",
        "import locale\n",
        "import numpy as np\n",
        "import os\n",
        "import tarfile\n",
        "import hashlib\n",
        "import pandas as pd\n",
        "from six.moves import urllib\n",
        "!pip install -U scikit-learn\n",
        "\n",
        "# to make this notebook's output stable across runs\n",
        "np.random.seed(42)\n",
        "\n",
        "# To plot pretty figures\n",
        "%matplotlib inline\n",
        "import matplotlib\n",
        "import matplotlib.pyplot as plt\n",
        "from pylab import scatter, show, legend, xlabel, ylabel\n",
        "plt.rcParams['axes.labelsize'] = 14\n",
        "plt.rcParams['xtick.labelsize'] = 12\n",
        "plt.rcParams['ytick.labelsize'] = 12\n",
        "\n",
        "# Where to save the figures\n",
        "PROJECT_ROOT_DIR = \".\"\n",
        "CHAPTER_ID = \"end_to_end_project\"\n",
        "IMAGES_PATH = os.path.join(PROJECT_ROOT_DIR, \"images\", CHAPTER_ID)\n",
        "\n",
        "def save_fig(fig_id, tight_layout=True, fig_extension=\"png\", resolution=300):\n",
        "    path = os.path.join(IMAGES_PATH, fig_id + \".\" + fig_extension)\n",
        "    print(\"Saving figure\", fig_id)\n",
        "    if tight_layout:\n",
        "        plt.tight_layout()\n",
        "    plt.savefig(path, format=fig_extension, dpi=resolution)\n",
        "\n",
        "# Ignore useless warnings (see SciPy issue #5998)\n",
        "import warnings\n",
        "warnings.filterwarnings(action=\"ignore\", message=\"^internal gelsd\")"
      ],
      "execution_count": 2,
      "outputs": [
        {
          "output_type": "stream",
          "text": [
            "Requirement already up-to-date: scikit-learn in /usr/local/lib/python3.6/dist-packages (0.21.2)\n",
            "Requirement already satisfied, skipping upgrade: joblib>=0.11 in /usr/local/lib/python3.6/dist-packages (from scikit-learn) (0.13.2)\n",
            "Requirement already satisfied, skipping upgrade: numpy>=1.11.0 in /usr/local/lib/python3.6/dist-packages (from scikit-learn) (1.16.4)\n",
            "Requirement already satisfied, skipping upgrade: scipy>=0.17.0 in /usr/local/lib/python3.6/dist-packages (from scikit-learn) (1.3.0)\n"
          ],
          "name": "stdout"
        }
      ]
    },
    {
      "cell_type": "markdown",
      "metadata": {
        "id": "6eZ5-8UrwJ8v",
        "colab_type": "text"
      },
      "source": [
        "### Load the Mintigo dataset..."
      ]
    },
    {
      "cell_type": "code",
      "metadata": {
        "id": "GFxYFaERcV2o",
        "colab_type": "code",
        "colab": {}
      },
      "source": [
        "df = pd.read_csv('//content/drive/My Drive/Colab Notebooks/Mintigo/Mintigo Data.csv')"
      ],
      "execution_count": 0,
      "outputs": []
    },
    {
      "cell_type": "code",
      "metadata": {
        "id": "GplsW9ElctLC",
        "colab_type": "code",
        "outputId": "1fa41d47-a0af-4efa-8d76-c51b7503c9dd",
        "colab": {
          "base_uri": "https://localhost:8080/",
          "height": 901
        }
      },
      "source": [
        "df.info()"
      ],
      "execution_count": 4,
      "outputs": [
        {
          "output_type": "stream",
          "text": [
            "<class 'pandas.core.frame.DataFrame'>\n",
            "RangeIndex: 230 entries, 0 to 229\n",
            "Data columns (total 47 columns):\n",
            "Mintigo - Annual Revenue 1M-10M                                                     230 non-null int64\n",
            "Mintigo - Annual Revenue 10M-50M                                                    230 non-null int64\n",
            "Mintigo - Annual Revenue 50M-100M                                                   230 non-null int64\n",
            "Mintigo - Annual Revenue 100M-200M                                                  230 non-null int64\n",
            "Mintigo - Annual Revenue 200M-1B                                                    230 non-null int64\n",
            "Mintigo - Annual Revenue > 1B                                                       230 non-null int64\n",
            "Mintigo - Number of Employees 10-50                                                 230 non-null int64\n",
            "Mintigo - Number of Employees 50-200                                                230 non-null int64\n",
            "Mintigo - Number of Employees 200-500                                               230 non-null int64\n",
            "Mintigo - Number of Employees 500-1000                                              230 non-null int64\n",
            "Mintigo - Number of Employees 1000-5000                                             230 non-null int64\n",
            "Mintigo - Number of Employees > 10000                                               230 non-null int64\n",
            "Mintigo - Company Profile: Number of Locations 10-50                                230 non-null int64\n",
            "Mintigo - Company Profile: Number of Locations 51-200                               230 non-null int64\n",
            "Mintigo - Company Profile: Number of Locations > 200                                230 non-null int64\n",
            "Mintigo - Marketing Automation Technology                                           230 non-null int64\n",
            "Mintigo - Marketing Automation: Marketo                                             230 non-null int64\n",
            "Mintigo - Marketing Automation: Hubspot                                             230 non-null int64\n",
            "Mintigo - Marketing Automation: Pardot                                              230 non-null int64\n",
            "Mintigo - Email Marketing: MailChimp                                                230 non-null int64\n",
            "Mintigo - CRM: Salesforce                                                           230 non-null int64\n",
            "Mintigo - Intent Marketing - Microsoft Dynamics CRM                                 230 non-null int64\n",
            "Mintigo - Intent Business - Sales Automation                                        230 non-null int64\n",
            "Mintigo - Intent Marketing - CRM - Salesforce                                       230 non-null int64\n",
            "Mintigo - Intent Marketing - Marketing Automation Tools                             230 non-null int64\n",
            "Mintigo - Intent Marketing - CRM                                                    230 non-null int64\n",
            "Mintigo - Intent Marketing - Sales Force Automation (SFA)                           230 non-null int64\n",
            "Mintigo - Intent Business - Sales - Sales Software                                  230 non-null int64\n",
            "Mintigo - Intent Marketing - Lead Generation Software                               230 non-null int64\n",
            "Mintigo - Intent Marketing - Internet Marketing Automation                          230 non-null int64\n",
            "Mintigo - Email Service: Microsoft Exchange                                         230 non-null int64\n",
            "Mintigo - Email Service: Gmail                                                      230 non-null int64\n",
            "Mintigo - Software Suite: Google G suite                                            230 non-null int64\n",
            "Mintigo - Software Suite: Microsoft Office 365                                      230 non-null int64\n",
            "Mintigo - Intent Business - Sales - Proposal / Quote Generation                     230 non-null int64\n",
            "Mintigo - Intent Business - Sales - Sales Analytics                                 230 non-null int64\n",
            "Mintigo - Intent Business - Sales - Effective Selling                               230 non-null int64\n",
            "Mintigo - Intent Business - Sales - Sales Performance                               230 non-null int64\n",
            "Mintigo - Intent Business - Sales - Sales Performance Management                    230 non-null int64\n",
            "Mintigo - Intent Business - Sales - Sales Productivity                              230 non-null int64\n",
            "Mintigo - Intent Marketing - Campaigns                                              230 non-null int64\n",
            "Mintigo - Intent Business - Sales - Cross-Selling                                   230 non-null int64\n",
            "Mintigo - Intent Business - Sales - Configure Price Quote (CPQ)                     230 non-null int64\n",
            "Mintigo - Intent Technology - Messaging - Salesforce Chatter                        230 non-null int64\n",
            "Mintigo - Intent Business - Sales - Guided Selling                                  230 non-null int64\n",
            "Mintigo - Intent Technology - Software Engineering - Quote And Proposal Software    230 non-null int64\n",
            "Mintigo - Predictive Account Score                                                  230 non-null int64\n",
            "dtypes: int64(47)\n",
            "memory usage: 84.5 KB\n"
          ],
          "name": "stdout"
        }
      ]
    },
    {
      "cell_type": "code",
      "metadata": {
        "id": "nwCV9SgedF0X",
        "colab_type": "code",
        "outputId": "6dcd5bd9-c76b-44e8-e879-af06be11b65c",
        "colab": {
          "base_uri": "https://localhost:8080/",
          "height": 343
        }
      },
      "source": [
        "df.head()"
      ],
      "execution_count": 5,
      "outputs": [
        {
          "output_type": "execute_result",
          "data": {
            "text/html": [
              "<div>\n",
              "<style scoped>\n",
              "    .dataframe tbody tr th:only-of-type {\n",
              "        vertical-align: middle;\n",
              "    }\n",
              "\n",
              "    .dataframe tbody tr th {\n",
              "        vertical-align: top;\n",
              "    }\n",
              "\n",
              "    .dataframe thead th {\n",
              "        text-align: right;\n",
              "    }\n",
              "</style>\n",
              "<table border=\"1\" class=\"dataframe\">\n",
              "  <thead>\n",
              "    <tr style=\"text-align: right;\">\n",
              "      <th></th>\n",
              "      <th>Mintigo - Annual Revenue 1M-10M</th>\n",
              "      <th>Mintigo - Annual Revenue 10M-50M</th>\n",
              "      <th>Mintigo - Annual Revenue 50M-100M</th>\n",
              "      <th>Mintigo - Annual Revenue 100M-200M</th>\n",
              "      <th>Mintigo - Annual Revenue 200M-1B</th>\n",
              "      <th>Mintigo - Annual Revenue &gt; 1B</th>\n",
              "      <th>Mintigo - Number of Employees 10-50</th>\n",
              "      <th>Mintigo - Number of Employees 50-200</th>\n",
              "      <th>Mintigo - Number of Employees 200-500</th>\n",
              "      <th>Mintigo - Number of Employees 500-1000</th>\n",
              "      <th>Mintigo - Number of Employees 1000-5000</th>\n",
              "      <th>Mintigo - Number of Employees &gt; 10000</th>\n",
              "      <th>Mintigo - Company Profile: Number of Locations 10-50</th>\n",
              "      <th>Mintigo - Company Profile: Number of Locations 51-200</th>\n",
              "      <th>Mintigo - Company Profile: Number of Locations &gt; 200</th>\n",
              "      <th>Mintigo - Marketing Automation Technology</th>\n",
              "      <th>Mintigo - Marketing Automation: Marketo</th>\n",
              "      <th>Mintigo - Marketing Automation: Hubspot</th>\n",
              "      <th>Mintigo - Marketing Automation: Pardot</th>\n",
              "      <th>Mintigo - Email Marketing: MailChimp</th>\n",
              "      <th>Mintigo - CRM: Salesforce</th>\n",
              "      <th>Mintigo - Intent Marketing - Microsoft Dynamics CRM</th>\n",
              "      <th>Mintigo - Intent Business - Sales Automation</th>\n",
              "      <th>Mintigo - Intent Marketing - CRM - Salesforce</th>\n",
              "      <th>Mintigo - Intent Marketing - Marketing Automation Tools</th>\n",
              "      <th>Mintigo - Intent Marketing - CRM</th>\n",
              "      <th>Mintigo - Intent Marketing - Sales Force Automation (SFA)</th>\n",
              "      <th>Mintigo - Intent Business - Sales - Sales Software</th>\n",
              "      <th>Mintigo - Intent Marketing - Lead Generation Software</th>\n",
              "      <th>Mintigo - Intent Marketing - Internet Marketing Automation</th>\n",
              "      <th>Mintigo - Email Service: Microsoft Exchange</th>\n",
              "      <th>Mintigo - Email Service: Gmail</th>\n",
              "      <th>Mintigo - Software Suite: Google G suite</th>\n",
              "      <th>Mintigo - Software Suite: Microsoft Office 365</th>\n",
              "      <th>Mintigo - Intent Business - Sales - Proposal / Quote Generation</th>\n",
              "      <th>Mintigo - Intent Business - Sales - Sales Analytics</th>\n",
              "      <th>Mintigo - Intent Business - Sales - Effective Selling</th>\n",
              "      <th>Mintigo - Intent Business - Sales - Sales Performance</th>\n",
              "      <th>Mintigo - Intent Business - Sales - Sales Performance Management</th>\n",
              "      <th>Mintigo - Intent Business - Sales - Sales Productivity</th>\n",
              "      <th>Mintigo - Intent Marketing - Campaigns</th>\n",
              "      <th>Mintigo - Intent Business - Sales - Cross-Selling</th>\n",
              "      <th>Mintigo - Intent Business - Sales - Configure Price Quote (CPQ)</th>\n",
              "      <th>Mintigo - Intent Technology - Messaging - Salesforce Chatter</th>\n",
              "      <th>Mintigo - Intent Business - Sales - Guided Selling</th>\n",
              "      <th>Mintigo - Intent Technology - Software Engineering - Quote And Proposal Software</th>\n",
              "      <th>Mintigo - Predictive Account Score</th>\n",
              "    </tr>\n",
              "  </thead>\n",
              "  <tbody>\n",
              "    <tr>\n",
              "      <th>0</th>\n",
              "      <td>1</td>\n",
              "      <td>0</td>\n",
              "      <td>0</td>\n",
              "      <td>0</td>\n",
              "      <td>0</td>\n",
              "      <td>0</td>\n",
              "      <td>1</td>\n",
              "      <td>0</td>\n",
              "      <td>0</td>\n",
              "      <td>0</td>\n",
              "      <td>0</td>\n",
              "      <td>0</td>\n",
              "      <td>0</td>\n",
              "      <td>0</td>\n",
              "      <td>0</td>\n",
              "      <td>0</td>\n",
              "      <td>0</td>\n",
              "      <td>0</td>\n",
              "      <td>0</td>\n",
              "      <td>1</td>\n",
              "      <td>0</td>\n",
              "      <td>0</td>\n",
              "      <td>0</td>\n",
              "      <td>0</td>\n",
              "      <td>0</td>\n",
              "      <td>1</td>\n",
              "      <td>0</td>\n",
              "      <td>1</td>\n",
              "      <td>0</td>\n",
              "      <td>0</td>\n",
              "      <td>0</td>\n",
              "      <td>0</td>\n",
              "      <td>0</td>\n",
              "      <td>1</td>\n",
              "      <td>0</td>\n",
              "      <td>0</td>\n",
              "      <td>0</td>\n",
              "      <td>0</td>\n",
              "      <td>1</td>\n",
              "      <td>0</td>\n",
              "      <td>1</td>\n",
              "      <td>0</td>\n",
              "      <td>0</td>\n",
              "      <td>0</td>\n",
              "      <td>0</td>\n",
              "      <td>0</td>\n",
              "      <td>100</td>\n",
              "    </tr>\n",
              "    <tr>\n",
              "      <th>1</th>\n",
              "      <td>1</td>\n",
              "      <td>0</td>\n",
              "      <td>0</td>\n",
              "      <td>0</td>\n",
              "      <td>0</td>\n",
              "      <td>0</td>\n",
              "      <td>0</td>\n",
              "      <td>1</td>\n",
              "      <td>0</td>\n",
              "      <td>0</td>\n",
              "      <td>0</td>\n",
              "      <td>0</td>\n",
              "      <td>0</td>\n",
              "      <td>0</td>\n",
              "      <td>0</td>\n",
              "      <td>1</td>\n",
              "      <td>0</td>\n",
              "      <td>1</td>\n",
              "      <td>0</td>\n",
              "      <td>0</td>\n",
              "      <td>0</td>\n",
              "      <td>0</td>\n",
              "      <td>0</td>\n",
              "      <td>0</td>\n",
              "      <td>0</td>\n",
              "      <td>0</td>\n",
              "      <td>0</td>\n",
              "      <td>0</td>\n",
              "      <td>0</td>\n",
              "      <td>0</td>\n",
              "      <td>0</td>\n",
              "      <td>0</td>\n",
              "      <td>0</td>\n",
              "      <td>0</td>\n",
              "      <td>0</td>\n",
              "      <td>1</td>\n",
              "      <td>0</td>\n",
              "      <td>0</td>\n",
              "      <td>0</td>\n",
              "      <td>0</td>\n",
              "      <td>0</td>\n",
              "      <td>0</td>\n",
              "      <td>0</td>\n",
              "      <td>0</td>\n",
              "      <td>0</td>\n",
              "      <td>0</td>\n",
              "      <td>100</td>\n",
              "    </tr>\n",
              "    <tr>\n",
              "      <th>2</th>\n",
              "      <td>0</td>\n",
              "      <td>1</td>\n",
              "      <td>0</td>\n",
              "      <td>0</td>\n",
              "      <td>0</td>\n",
              "      <td>0</td>\n",
              "      <td>0</td>\n",
              "      <td>1</td>\n",
              "      <td>0</td>\n",
              "      <td>0</td>\n",
              "      <td>0</td>\n",
              "      <td>0</td>\n",
              "      <td>0</td>\n",
              "      <td>0</td>\n",
              "      <td>0</td>\n",
              "      <td>0</td>\n",
              "      <td>0</td>\n",
              "      <td>0</td>\n",
              "      <td>0</td>\n",
              "      <td>0</td>\n",
              "      <td>0</td>\n",
              "      <td>0</td>\n",
              "      <td>0</td>\n",
              "      <td>1</td>\n",
              "      <td>0</td>\n",
              "      <td>1</td>\n",
              "      <td>0</td>\n",
              "      <td>0</td>\n",
              "      <td>0</td>\n",
              "      <td>0</td>\n",
              "      <td>1</td>\n",
              "      <td>0</td>\n",
              "      <td>0</td>\n",
              "      <td>0</td>\n",
              "      <td>0</td>\n",
              "      <td>0</td>\n",
              "      <td>0</td>\n",
              "      <td>0</td>\n",
              "      <td>0</td>\n",
              "      <td>0</td>\n",
              "      <td>1</td>\n",
              "      <td>0</td>\n",
              "      <td>0</td>\n",
              "      <td>0</td>\n",
              "      <td>0</td>\n",
              "      <td>0</td>\n",
              "      <td>100</td>\n",
              "    </tr>\n",
              "    <tr>\n",
              "      <th>3</th>\n",
              "      <td>1</td>\n",
              "      <td>0</td>\n",
              "      <td>0</td>\n",
              "      <td>0</td>\n",
              "      <td>0</td>\n",
              "      <td>0</td>\n",
              "      <td>1</td>\n",
              "      <td>0</td>\n",
              "      <td>0</td>\n",
              "      <td>0</td>\n",
              "      <td>0</td>\n",
              "      <td>0</td>\n",
              "      <td>0</td>\n",
              "      <td>0</td>\n",
              "      <td>0</td>\n",
              "      <td>0</td>\n",
              "      <td>0</td>\n",
              "      <td>0</td>\n",
              "      <td>0</td>\n",
              "      <td>0</td>\n",
              "      <td>0</td>\n",
              "      <td>0</td>\n",
              "      <td>0</td>\n",
              "      <td>0</td>\n",
              "      <td>0</td>\n",
              "      <td>1</td>\n",
              "      <td>0</td>\n",
              "      <td>0</td>\n",
              "      <td>0</td>\n",
              "      <td>0</td>\n",
              "      <td>0</td>\n",
              "      <td>0</td>\n",
              "      <td>0</td>\n",
              "      <td>0</td>\n",
              "      <td>0</td>\n",
              "      <td>0</td>\n",
              "      <td>0</td>\n",
              "      <td>0</td>\n",
              "      <td>0</td>\n",
              "      <td>0</td>\n",
              "      <td>1</td>\n",
              "      <td>0</td>\n",
              "      <td>0</td>\n",
              "      <td>0</td>\n",
              "      <td>0</td>\n",
              "      <td>0</td>\n",
              "      <td>100</td>\n",
              "    </tr>\n",
              "    <tr>\n",
              "      <th>4</th>\n",
              "      <td>0</td>\n",
              "      <td>1</td>\n",
              "      <td>0</td>\n",
              "      <td>0</td>\n",
              "      <td>0</td>\n",
              "      <td>0</td>\n",
              "      <td>0</td>\n",
              "      <td>1</td>\n",
              "      <td>0</td>\n",
              "      <td>0</td>\n",
              "      <td>0</td>\n",
              "      <td>0</td>\n",
              "      <td>1</td>\n",
              "      <td>0</td>\n",
              "      <td>0</td>\n",
              "      <td>0</td>\n",
              "      <td>0</td>\n",
              "      <td>0</td>\n",
              "      <td>0</td>\n",
              "      <td>0</td>\n",
              "      <td>0</td>\n",
              "      <td>0</td>\n",
              "      <td>0</td>\n",
              "      <td>0</td>\n",
              "      <td>0</td>\n",
              "      <td>0</td>\n",
              "      <td>0</td>\n",
              "      <td>0</td>\n",
              "      <td>0</td>\n",
              "      <td>0</td>\n",
              "      <td>1</td>\n",
              "      <td>0</td>\n",
              "      <td>0</td>\n",
              "      <td>0</td>\n",
              "      <td>0</td>\n",
              "      <td>0</td>\n",
              "      <td>0</td>\n",
              "      <td>0</td>\n",
              "      <td>0</td>\n",
              "      <td>1</td>\n",
              "      <td>1</td>\n",
              "      <td>0</td>\n",
              "      <td>0</td>\n",
              "      <td>0</td>\n",
              "      <td>1</td>\n",
              "      <td>0</td>\n",
              "      <td>100</td>\n",
              "    </tr>\n",
              "  </tbody>\n",
              "</table>\n",
              "</div>"
            ],
            "text/plain": [
              "   Mintigo - Annual Revenue 1M-10M  ...  Mintigo - Predictive Account Score\n",
              "0                                1  ...                                 100\n",
              "1                                1  ...                                 100\n",
              "2                                0  ...                                 100\n",
              "3                                1  ...                                 100\n",
              "4                                0  ...                                 100\n",
              "\n",
              "[5 rows x 47 columns]"
            ]
          },
          "metadata": {
            "tags": []
          },
          "execution_count": 5
        }
      ]
    },
    {
      "cell_type": "code",
      "metadata": {
        "id": "-cYM5iAj3sDo",
        "colab_type": "code",
        "outputId": "c52df85d-9040-4d7f-d08a-8d52f1d09c98",
        "colab": {
          "base_uri": "https://localhost:8080/",
          "height": 436
        }
      },
      "source": [
        "df.describe()"
      ],
      "execution_count": 6,
      "outputs": [
        {
          "output_type": "execute_result",
          "data": {
            "text/html": [
              "<div>\n",
              "<style scoped>\n",
              "    .dataframe tbody tr th:only-of-type {\n",
              "        vertical-align: middle;\n",
              "    }\n",
              "\n",
              "    .dataframe tbody tr th {\n",
              "        vertical-align: top;\n",
              "    }\n",
              "\n",
              "    .dataframe thead th {\n",
              "        text-align: right;\n",
              "    }\n",
              "</style>\n",
              "<table border=\"1\" class=\"dataframe\">\n",
              "  <thead>\n",
              "    <tr style=\"text-align: right;\">\n",
              "      <th></th>\n",
              "      <th>Mintigo - Annual Revenue 1M-10M</th>\n",
              "      <th>Mintigo - Annual Revenue 10M-50M</th>\n",
              "      <th>Mintigo - Annual Revenue 50M-100M</th>\n",
              "      <th>Mintigo - Annual Revenue 100M-200M</th>\n",
              "      <th>Mintigo - Annual Revenue 200M-1B</th>\n",
              "      <th>Mintigo - Annual Revenue &gt; 1B</th>\n",
              "      <th>Mintigo - Number of Employees 10-50</th>\n",
              "      <th>Mintigo - Number of Employees 50-200</th>\n",
              "      <th>Mintigo - Number of Employees 200-500</th>\n",
              "      <th>Mintigo - Number of Employees 500-1000</th>\n",
              "      <th>Mintigo - Number of Employees 1000-5000</th>\n",
              "      <th>Mintigo - Number of Employees &gt; 10000</th>\n",
              "      <th>Mintigo - Company Profile: Number of Locations 10-50</th>\n",
              "      <th>Mintigo - Company Profile: Number of Locations 51-200</th>\n",
              "      <th>Mintigo - Company Profile: Number of Locations &gt; 200</th>\n",
              "      <th>Mintigo - Marketing Automation Technology</th>\n",
              "      <th>Mintigo - Marketing Automation: Marketo</th>\n",
              "      <th>Mintigo - Marketing Automation: Hubspot</th>\n",
              "      <th>Mintigo - Marketing Automation: Pardot</th>\n",
              "      <th>Mintigo - Email Marketing: MailChimp</th>\n",
              "      <th>Mintigo - CRM: Salesforce</th>\n",
              "      <th>Mintigo - Intent Marketing - Microsoft Dynamics CRM</th>\n",
              "      <th>Mintigo - Intent Business - Sales Automation</th>\n",
              "      <th>Mintigo - Intent Marketing - CRM - Salesforce</th>\n",
              "      <th>Mintigo - Intent Marketing - Marketing Automation Tools</th>\n",
              "      <th>Mintigo - Intent Marketing - CRM</th>\n",
              "      <th>Mintigo - Intent Marketing - Sales Force Automation (SFA)</th>\n",
              "      <th>Mintigo - Intent Business - Sales - Sales Software</th>\n",
              "      <th>Mintigo - Intent Marketing - Lead Generation Software</th>\n",
              "      <th>Mintigo - Intent Marketing - Internet Marketing Automation</th>\n",
              "      <th>Mintigo - Email Service: Microsoft Exchange</th>\n",
              "      <th>Mintigo - Email Service: Gmail</th>\n",
              "      <th>Mintigo - Software Suite: Google G suite</th>\n",
              "      <th>Mintigo - Software Suite: Microsoft Office 365</th>\n",
              "      <th>Mintigo - Intent Business - Sales - Proposal / Quote Generation</th>\n",
              "      <th>Mintigo - Intent Business - Sales - Sales Analytics</th>\n",
              "      <th>Mintigo - Intent Business - Sales - Effective Selling</th>\n",
              "      <th>Mintigo - Intent Business - Sales - Sales Performance</th>\n",
              "      <th>Mintigo - Intent Business - Sales - Sales Performance Management</th>\n",
              "      <th>Mintigo - Intent Business - Sales - Sales Productivity</th>\n",
              "      <th>Mintigo - Intent Marketing - Campaigns</th>\n",
              "      <th>Mintigo - Intent Business - Sales - Cross-Selling</th>\n",
              "      <th>Mintigo - Intent Business - Sales - Configure Price Quote (CPQ)</th>\n",
              "      <th>Mintigo - Intent Technology - Messaging - Salesforce Chatter</th>\n",
              "      <th>Mintigo - Intent Business - Sales - Guided Selling</th>\n",
              "      <th>Mintigo - Intent Technology - Software Engineering - Quote And Proposal Software</th>\n",
              "      <th>Mintigo - Predictive Account Score</th>\n",
              "    </tr>\n",
              "  </thead>\n",
              "  <tbody>\n",
              "    <tr>\n",
              "      <th>count</th>\n",
              "      <td>230.000000</td>\n",
              "      <td>230.000000</td>\n",
              "      <td>230.000000</td>\n",
              "      <td>230.000000</td>\n",
              "      <td>230.000000</td>\n",
              "      <td>230.000000</td>\n",
              "      <td>230.000000</td>\n",
              "      <td>230.000000</td>\n",
              "      <td>230.000000</td>\n",
              "      <td>230.000000</td>\n",
              "      <td>230.000000</td>\n",
              "      <td>230.000000</td>\n",
              "      <td>230.000000</td>\n",
              "      <td>230.000000</td>\n",
              "      <td>230.000000</td>\n",
              "      <td>230.000000</td>\n",
              "      <td>230.000000</td>\n",
              "      <td>230.000000</td>\n",
              "      <td>230.000000</td>\n",
              "      <td>230.000000</td>\n",
              "      <td>230.000000</td>\n",
              "      <td>230.000000</td>\n",
              "      <td>230.000000</td>\n",
              "      <td>230.000000</td>\n",
              "      <td>230.000000</td>\n",
              "      <td>230.000000</td>\n",
              "      <td>230.000000</td>\n",
              "      <td>230.000000</td>\n",
              "      <td>230.000000</td>\n",
              "      <td>230.000000</td>\n",
              "      <td>230.000000</td>\n",
              "      <td>230.000000</td>\n",
              "      <td>230.000000</td>\n",
              "      <td>230.000000</td>\n",
              "      <td>230.000000</td>\n",
              "      <td>230.000000</td>\n",
              "      <td>230.000000</td>\n",
              "      <td>230.000000</td>\n",
              "      <td>230.000000</td>\n",
              "      <td>230.000000</td>\n",
              "      <td>230.000000</td>\n",
              "      <td>230.000000</td>\n",
              "      <td>230.000000</td>\n",
              "      <td>230.000000</td>\n",
              "      <td>230.000000</td>\n",
              "      <td>230.000000</td>\n",
              "      <td>230.000000</td>\n",
              "    </tr>\n",
              "    <tr>\n",
              "      <th>mean</th>\n",
              "      <td>0.530435</td>\n",
              "      <td>0.352174</td>\n",
              "      <td>0.039130</td>\n",
              "      <td>0.017391</td>\n",
              "      <td>0.004348</td>\n",
              "      <td>0.017391</td>\n",
              "      <td>0.452174</td>\n",
              "      <td>0.373913</td>\n",
              "      <td>0.065217</td>\n",
              "      <td>0.021739</td>\n",
              "      <td>0.008696</td>\n",
              "      <td>0.017391</td>\n",
              "      <td>0.104348</td>\n",
              "      <td>0.039130</td>\n",
              "      <td>0.004348</td>\n",
              "      <td>0.173913</td>\n",
              "      <td>0.043478</td>\n",
              "      <td>0.113043</td>\n",
              "      <td>0.026087</td>\n",
              "      <td>0.147826</td>\n",
              "      <td>0.043478</td>\n",
              "      <td>0.091304</td>\n",
              "      <td>0.086957</td>\n",
              "      <td>0.126087</td>\n",
              "      <td>0.073913</td>\n",
              "      <td>0.556522</td>\n",
              "      <td>0.026087</td>\n",
              "      <td>0.082609</td>\n",
              "      <td>0.073913</td>\n",
              "      <td>0.073913</td>\n",
              "      <td>0.408696</td>\n",
              "      <td>0.130435</td>\n",
              "      <td>0.139130</td>\n",
              "      <td>0.434783</td>\n",
              "      <td>0.056522</td>\n",
              "      <td>0.034783</td>\n",
              "      <td>0.091304</td>\n",
              "      <td>0.030435</td>\n",
              "      <td>0.060870</td>\n",
              "      <td>0.073913</td>\n",
              "      <td>0.517391</td>\n",
              "      <td>0.160870</td>\n",
              "      <td>0.178261</td>\n",
              "      <td>0.030435</td>\n",
              "      <td>0.091304</td>\n",
              "      <td>0.030435</td>\n",
              "      <td>91.469565</td>\n",
              "    </tr>\n",
              "    <tr>\n",
              "      <th>std</th>\n",
              "      <td>0.500161</td>\n",
              "      <td>0.478690</td>\n",
              "      <td>0.194328</td>\n",
              "      <td>0.131009</td>\n",
              "      <td>0.065938</td>\n",
              "      <td>0.131009</td>\n",
              "      <td>0.498793</td>\n",
              "      <td>0.484896</td>\n",
              "      <td>0.247448</td>\n",
              "      <td>0.146149</td>\n",
              "      <td>0.093047</td>\n",
              "      <td>0.131009</td>\n",
              "      <td>0.306378</td>\n",
              "      <td>0.194328</td>\n",
              "      <td>0.065938</td>\n",
              "      <td>0.379861</td>\n",
              "      <td>0.204376</td>\n",
              "      <td>0.317337</td>\n",
              "      <td>0.159742</td>\n",
              "      <td>0.355702</td>\n",
              "      <td>0.204376</td>\n",
              "      <td>0.288670</td>\n",
              "      <td>0.282386</td>\n",
              "      <td>0.332671</td>\n",
              "      <td>0.262200</td>\n",
              "      <td>0.497879</td>\n",
              "      <td>0.159742</td>\n",
              "      <td>0.275890</td>\n",
              "      <td>0.262200</td>\n",
              "      <td>0.262200</td>\n",
              "      <td>0.492665</td>\n",
              "      <td>0.337516</td>\n",
              "      <td>0.346837</td>\n",
              "      <td>0.496810</td>\n",
              "      <td>0.231430</td>\n",
              "      <td>0.183628</td>\n",
              "      <td>0.288670</td>\n",
              "      <td>0.172155</td>\n",
              "      <td>0.239612</td>\n",
              "      <td>0.262200</td>\n",
              "      <td>0.500787</td>\n",
              "      <td>0.368212</td>\n",
              "      <td>0.383567</td>\n",
              "      <td>0.172155</td>\n",
              "      <td>0.288670</td>\n",
              "      <td>0.172155</td>\n",
              "      <td>4.410828</td>\n",
              "    </tr>\n",
              "    <tr>\n",
              "      <th>min</th>\n",
              "      <td>0.000000</td>\n",
              "      <td>0.000000</td>\n",
              "      <td>0.000000</td>\n",
              "      <td>0.000000</td>\n",
              "      <td>0.000000</td>\n",
              "      <td>0.000000</td>\n",
              "      <td>0.000000</td>\n",
              "      <td>0.000000</td>\n",
              "      <td>0.000000</td>\n",
              "      <td>0.000000</td>\n",
              "      <td>0.000000</td>\n",
              "      <td>0.000000</td>\n",
              "      <td>0.000000</td>\n",
              "      <td>0.000000</td>\n",
              "      <td>0.000000</td>\n",
              "      <td>0.000000</td>\n",
              "      <td>0.000000</td>\n",
              "      <td>0.000000</td>\n",
              "      <td>0.000000</td>\n",
              "      <td>0.000000</td>\n",
              "      <td>0.000000</td>\n",
              "      <td>0.000000</td>\n",
              "      <td>0.000000</td>\n",
              "      <td>0.000000</td>\n",
              "      <td>0.000000</td>\n",
              "      <td>0.000000</td>\n",
              "      <td>0.000000</td>\n",
              "      <td>0.000000</td>\n",
              "      <td>0.000000</td>\n",
              "      <td>0.000000</td>\n",
              "      <td>0.000000</td>\n",
              "      <td>0.000000</td>\n",
              "      <td>0.000000</td>\n",
              "      <td>0.000000</td>\n",
              "      <td>0.000000</td>\n",
              "      <td>0.000000</td>\n",
              "      <td>0.000000</td>\n",
              "      <td>0.000000</td>\n",
              "      <td>0.000000</td>\n",
              "      <td>0.000000</td>\n",
              "      <td>0.000000</td>\n",
              "      <td>0.000000</td>\n",
              "      <td>0.000000</td>\n",
              "      <td>0.000000</td>\n",
              "      <td>0.000000</td>\n",
              "      <td>0.000000</td>\n",
              "      <td>85.000000</td>\n",
              "    </tr>\n",
              "    <tr>\n",
              "      <th>25%</th>\n",
              "      <td>0.000000</td>\n",
              "      <td>0.000000</td>\n",
              "      <td>0.000000</td>\n",
              "      <td>0.000000</td>\n",
              "      <td>0.000000</td>\n",
              "      <td>0.000000</td>\n",
              "      <td>0.000000</td>\n",
              "      <td>0.000000</td>\n",
              "      <td>0.000000</td>\n",
              "      <td>0.000000</td>\n",
              "      <td>0.000000</td>\n",
              "      <td>0.000000</td>\n",
              "      <td>0.000000</td>\n",
              "      <td>0.000000</td>\n",
              "      <td>0.000000</td>\n",
              "      <td>0.000000</td>\n",
              "      <td>0.000000</td>\n",
              "      <td>0.000000</td>\n",
              "      <td>0.000000</td>\n",
              "      <td>0.000000</td>\n",
              "      <td>0.000000</td>\n",
              "      <td>0.000000</td>\n",
              "      <td>0.000000</td>\n",
              "      <td>0.000000</td>\n",
              "      <td>0.000000</td>\n",
              "      <td>0.000000</td>\n",
              "      <td>0.000000</td>\n",
              "      <td>0.000000</td>\n",
              "      <td>0.000000</td>\n",
              "      <td>0.000000</td>\n",
              "      <td>0.000000</td>\n",
              "      <td>0.000000</td>\n",
              "      <td>0.000000</td>\n",
              "      <td>0.000000</td>\n",
              "      <td>0.000000</td>\n",
              "      <td>0.000000</td>\n",
              "      <td>0.000000</td>\n",
              "      <td>0.000000</td>\n",
              "      <td>0.000000</td>\n",
              "      <td>0.000000</td>\n",
              "      <td>0.000000</td>\n",
              "      <td>0.000000</td>\n",
              "      <td>0.000000</td>\n",
              "      <td>0.000000</td>\n",
              "      <td>0.000000</td>\n",
              "      <td>0.000000</td>\n",
              "      <td>87.250000</td>\n",
              "    </tr>\n",
              "    <tr>\n",
              "      <th>50%</th>\n",
              "      <td>1.000000</td>\n",
              "      <td>0.000000</td>\n",
              "      <td>0.000000</td>\n",
              "      <td>0.000000</td>\n",
              "      <td>0.000000</td>\n",
              "      <td>0.000000</td>\n",
              "      <td>0.000000</td>\n",
              "      <td>0.000000</td>\n",
              "      <td>0.000000</td>\n",
              "      <td>0.000000</td>\n",
              "      <td>0.000000</td>\n",
              "      <td>0.000000</td>\n",
              "      <td>0.000000</td>\n",
              "      <td>0.000000</td>\n",
              "      <td>0.000000</td>\n",
              "      <td>0.000000</td>\n",
              "      <td>0.000000</td>\n",
              "      <td>0.000000</td>\n",
              "      <td>0.000000</td>\n",
              "      <td>0.000000</td>\n",
              "      <td>0.000000</td>\n",
              "      <td>0.000000</td>\n",
              "      <td>0.000000</td>\n",
              "      <td>0.000000</td>\n",
              "      <td>0.000000</td>\n",
              "      <td>1.000000</td>\n",
              "      <td>0.000000</td>\n",
              "      <td>0.000000</td>\n",
              "      <td>0.000000</td>\n",
              "      <td>0.000000</td>\n",
              "      <td>0.000000</td>\n",
              "      <td>0.000000</td>\n",
              "      <td>0.000000</td>\n",
              "      <td>0.000000</td>\n",
              "      <td>0.000000</td>\n",
              "      <td>0.000000</td>\n",
              "      <td>0.000000</td>\n",
              "      <td>0.000000</td>\n",
              "      <td>0.000000</td>\n",
              "      <td>0.000000</td>\n",
              "      <td>1.000000</td>\n",
              "      <td>0.000000</td>\n",
              "      <td>0.000000</td>\n",
              "      <td>0.000000</td>\n",
              "      <td>0.000000</td>\n",
              "      <td>0.000000</td>\n",
              "      <td>91.000000</td>\n",
              "    </tr>\n",
              "    <tr>\n",
              "      <th>75%</th>\n",
              "      <td>1.000000</td>\n",
              "      <td>1.000000</td>\n",
              "      <td>0.000000</td>\n",
              "      <td>0.000000</td>\n",
              "      <td>0.000000</td>\n",
              "      <td>0.000000</td>\n",
              "      <td>1.000000</td>\n",
              "      <td>1.000000</td>\n",
              "      <td>0.000000</td>\n",
              "      <td>0.000000</td>\n",
              "      <td>0.000000</td>\n",
              "      <td>0.000000</td>\n",
              "      <td>0.000000</td>\n",
              "      <td>0.000000</td>\n",
              "      <td>0.000000</td>\n",
              "      <td>0.000000</td>\n",
              "      <td>0.000000</td>\n",
              "      <td>0.000000</td>\n",
              "      <td>0.000000</td>\n",
              "      <td>0.000000</td>\n",
              "      <td>0.000000</td>\n",
              "      <td>0.000000</td>\n",
              "      <td>0.000000</td>\n",
              "      <td>0.000000</td>\n",
              "      <td>0.000000</td>\n",
              "      <td>1.000000</td>\n",
              "      <td>0.000000</td>\n",
              "      <td>0.000000</td>\n",
              "      <td>0.000000</td>\n",
              "      <td>0.000000</td>\n",
              "      <td>1.000000</td>\n",
              "      <td>0.000000</td>\n",
              "      <td>0.000000</td>\n",
              "      <td>1.000000</td>\n",
              "      <td>0.000000</td>\n",
              "      <td>0.000000</td>\n",
              "      <td>0.000000</td>\n",
              "      <td>0.000000</td>\n",
              "      <td>0.000000</td>\n",
              "      <td>0.000000</td>\n",
              "      <td>1.000000</td>\n",
              "      <td>0.000000</td>\n",
              "      <td>0.000000</td>\n",
              "      <td>0.000000</td>\n",
              "      <td>0.000000</td>\n",
              "      <td>0.000000</td>\n",
              "      <td>95.000000</td>\n",
              "    </tr>\n",
              "    <tr>\n",
              "      <th>max</th>\n",
              "      <td>1.000000</td>\n",
              "      <td>1.000000</td>\n",
              "      <td>1.000000</td>\n",
              "      <td>1.000000</td>\n",
              "      <td>1.000000</td>\n",
              "      <td>1.000000</td>\n",
              "      <td>1.000000</td>\n",
              "      <td>1.000000</td>\n",
              "      <td>1.000000</td>\n",
              "      <td>1.000000</td>\n",
              "      <td>1.000000</td>\n",
              "      <td>1.000000</td>\n",
              "      <td>1.000000</td>\n",
              "      <td>1.000000</td>\n",
              "      <td>1.000000</td>\n",
              "      <td>1.000000</td>\n",
              "      <td>1.000000</td>\n",
              "      <td>1.000000</td>\n",
              "      <td>1.000000</td>\n",
              "      <td>1.000000</td>\n",
              "      <td>1.000000</td>\n",
              "      <td>1.000000</td>\n",
              "      <td>1.000000</td>\n",
              "      <td>1.000000</td>\n",
              "      <td>1.000000</td>\n",
              "      <td>1.000000</td>\n",
              "      <td>1.000000</td>\n",
              "      <td>1.000000</td>\n",
              "      <td>1.000000</td>\n",
              "      <td>1.000000</td>\n",
              "      <td>1.000000</td>\n",
              "      <td>1.000000</td>\n",
              "      <td>1.000000</td>\n",
              "      <td>1.000000</td>\n",
              "      <td>1.000000</td>\n",
              "      <td>1.000000</td>\n",
              "      <td>1.000000</td>\n",
              "      <td>1.000000</td>\n",
              "      <td>1.000000</td>\n",
              "      <td>1.000000</td>\n",
              "      <td>1.000000</td>\n",
              "      <td>1.000000</td>\n",
              "      <td>1.000000</td>\n",
              "      <td>1.000000</td>\n",
              "      <td>1.000000</td>\n",
              "      <td>1.000000</td>\n",
              "      <td>100.000000</td>\n",
              "    </tr>\n",
              "  </tbody>\n",
              "</table>\n",
              "</div>"
            ],
            "text/plain": [
              "       Mintigo - Annual Revenue 1M-10M  ...  Mintigo - Predictive Account Score\n",
              "count                       230.000000  ...                          230.000000\n",
              "mean                          0.530435  ...                           91.469565\n",
              "std                           0.500161  ...                            4.410828\n",
              "min                           0.000000  ...                           85.000000\n",
              "25%                           0.000000  ...                           87.250000\n",
              "50%                           1.000000  ...                           91.000000\n",
              "75%                           1.000000  ...                           95.000000\n",
              "max                           1.000000  ...                          100.000000\n",
              "\n",
              "[8 rows x 47 columns]"
            ]
          },
          "metadata": {
            "tags": []
          },
          "execution_count": 6
        }
      ]
    },
    {
      "cell_type": "markdown",
      "metadata": {
        "id": "Q9k7mVlBqJ4Y",
        "colab_type": "text"
      },
      "source": [
        "### Let's see how each of Mintigo's independent variables correlate with the Predictive Account Score."
      ]
    },
    {
      "cell_type": "code",
      "metadata": {
        "id": "GK1qjpiu9_2X",
        "colab_type": "code",
        "outputId": "a4cc4538-77b5-4161-8e56-c6521f2472d2",
        "colab": {
          "base_uri": "https://localhost:8080/",
          "height": 611
        }
      },
      "source": [
        "import seaborn as sns\n",
        "\n",
        "corr = df.corrwith(df['Mintigo - Predictive Account Score']).reset_index()\n",
        "corr.columns = ['Index','Correlations']\n",
        "corr = corr.set_index('Index')\n",
        "corr = corr.sort_values(by=['Correlations'], ascending = False)\n",
        "plt.figure(figsize=(3,10))\n",
        "fig = sns.heatmap(corr, annot=True, fmt=\"g\", cmap='YlGnBu')\n",
        "plt.title(\"Correlation of Mintigo Features with Predictive Account Score\")\n",
        "plt.show()"
      ],
      "execution_count": 7,
      "outputs": [
        {
          "output_type": "display_data",
          "data": {
            "image/png": "[encoded data removed]",
            "text/plain": [
              "<Figure size 216x720 with 2 Axes>"
            ]
          },
          "metadata": {
            "tags": []
          }
        }
      ]
    },
    {
      "cell_type": "markdown",
      "metadata": {
        "id": "XIHEA-CSssaO",
        "colab_type": "text"
      },
      "source": [
        "### Separate the dataframe into the 'X' matrix and 'y' vector...."
      ]
    },
    {
      "cell_type": "code",
      "metadata": {
        "id": "rXlAjsGWs4NV",
        "colab_type": "code",
        "colab": {}
      },
      "source": [
        "y = df['Mintigo - Predictive Account Score']\n",
        "X = df.drop(['Mintigo - Predictive Account Score'],axis = 1)"
      ],
      "execution_count": 0,
      "outputs": []
    },
    {
      "cell_type": "code",
      "metadata": {
        "id": "C3yriKi5tZsV",
        "colab_type": "code",
        "outputId": "ce3cd092-733f-422d-bd3d-9ec06ca09c9b",
        "colab": {
          "base_uri": "https://localhost:8080/",
          "height": 51
        }
      },
      "source": [
        "print(\"Shape of 'X' matrix: \",X.shape)\n",
        "print(\"Shape of 'y' vector: \",y.shape)"
      ],
      "execution_count": 9,
      "outputs": [
        {
          "output_type": "stream",
          "text": [
            "Shape of 'X' matrix:  (230, 46)\n",
            "Shape of 'y' vector:  (230,)\n"
          ],
          "name": "stdout"
        }
      ]
    },
    {
      "cell_type": "markdown",
      "metadata": {
        "id": "HFvqHBtHKv6k",
        "colab_type": "text"
      },
      "source": [
        "### The following code ensures that, when we get new data, we will add the appropriate amounts to the train and test sets. It also makes sure we don't move previous training samples over to the test set."
      ]
    },
    {
      "cell_type": "code",
      "metadata": {
        "id": "slht9MpUGN5H",
        "colab_type": "code",
        "colab": {}
      },
      "source": [
        "from sklearn.model_selection import train_test_split \n",
        "\n",
        "X_train,X_test,y_train,y_test = train_test_split(X,y, test_size = 0.1, random_state = 42)"
      ],
      "execution_count": 0,
      "outputs": []
    },
    {
      "cell_type": "markdown",
      "metadata": {
        "id": "4q5eh2SdKifN",
        "colab_type": "text"
      },
      "source": [
        "### Select and train a ML algorithm.\n",
        "Let's first look at a linear regression."
      ]
    },
    {
      "cell_type": "code",
      "metadata": {
        "id": "Al3RZso0_0jo",
        "colab_type": "code",
        "outputId": "2e0269c6-bfd7-496d-acee-e508245e2aba",
        "colab": {
          "base_uri": "https://localhost:8080/",
          "height": 34
        }
      },
      "source": [
        "from sklearn.linear_model import LinearRegression \n",
        "lin_reg = LinearRegression() \n",
        "lin_reg.fit(X_train,y_train)"
      ],
      "execution_count": 11,
      "outputs": [
        {
          "output_type": "execute_result",
          "data": {
            "text/plain": [
              "LinearRegression(copy_X=True, fit_intercept=True, n_jobs=None, normalize=False)"
            ]
          },
          "metadata": {
            "tags": []
          },
          "execution_count": 11
        }
      ]
    },
    {
      "cell_type": "markdown",
      "metadata": {
        "id": "Yu_l8JjrjtHm",
        "colab_type": "text"
      },
      "source": [
        "### Print out the regression coefficients..."
      ]
    },
    {
      "cell_type": "code",
      "metadata": {
        "id": "tu5hD9jgexl4",
        "colab_type": "code",
        "outputId": "c2fff788-e26c-41a1-e558-b7a95c879f05",
        "colab": {
          "base_uri": "https://localhost:8080/",
          "height": 799
        }
      },
      "source": [
        "for idx, col_name in enumerate(X_train.columns):\n",
        "  print(\"The coefficient for {} is {}\".format(col_name, lin_reg.coef_[idx]))"
      ],
      "execution_count": 12,
      "outputs": [
        {
          "output_type": "stream",
          "text": [
            "The coefficient for Mintigo - Annual Revenue 1M-10M is 1.0404746341354263\n",
            "The coefficient for Mintigo - Annual Revenue 10M-50M is 2.3194012551863064\n",
            "The coefficient for Mintigo - Annual Revenue 50M-100M is 2.053683255927355\n",
            "The coefficient for Mintigo - Annual Revenue 100M-200M is 6.004557320435442\n",
            "The coefficient for Mintigo - Annual Revenue 200M-1B is -5.076361254270963\n",
            "The coefficient for Mintigo - Annual Revenue > 1B is 2.2430596808528014\n",
            "The coefficient for Mintigo - Number of Employees 10-50 is 0.5933962768384885\n",
            "The coefficient for Mintigo - Number of Employees 50-200 is 1.021287737728185\n",
            "The coefficient for Mintigo - Number of Employees 200-500 is -0.07367264776876274\n",
            "The coefficient for Mintigo - Number of Employees 500-1000 is -2.2051451211369932\n",
            "The coefficient for Mintigo - Number of Employees 1000-5000 is -0.11687999752972719\n",
            "The coefficient for Mintigo - Number of Employees > 10000 is 2.2430596808527894\n",
            "The coefficient for Mintigo - Company Profile: Number of Locations 10-50 is -1.541612898980481\n",
            "The coefficient for Mintigo - Company Profile: Number of Locations 51-200 is -2.839390543411541\n",
            "The coefficient for Mintigo - Company Profile: Number of Locations > 200 is 7.16060945658848\n",
            "The coefficient for Mintigo - Marketing Automation Technology is 0.34347367400144596\n",
            "The coefficient for Mintigo - Marketing Automation: Marketo is -2.2856147939439575\n",
            "The coefficient for Mintigo - Marketing Automation: Hubspot is -1.613962395189716\n",
            "The coefficient for Mintigo - Marketing Automation: Pardot is -2.732750885992049\n",
            "The coefficient for Mintigo - Email Marketing: MailChimp is 1.0481301042300954\n",
            "The coefficient for Mintigo - CRM: Salesforce is 1.1759309961475721\n",
            "The coefficient for Mintigo - Intent Marketing - Microsoft Dynamics CRM is 0.40274077678872067\n",
            "The coefficient for Mintigo - Intent Business - Sales Automation is 0.19023390508708474\n",
            "The coefficient for Mintigo - Intent Marketing - CRM - Salesforce is 0.9579724716354558\n",
            "The coefficient for Mintigo - Intent Marketing - Marketing Automation Tools is -1.2802593726409732\n",
            "The coefficient for Mintigo - Intent Marketing - CRM is -0.2652791180510652\n",
            "The coefficient for Mintigo - Intent Marketing - Sales Force Automation (SFA) is 4.515548562947985\n",
            "The coefficient for Mintigo - Intent Business - Sales - Sales Software is -0.33383317169415705\n",
            "The coefficient for Mintigo - Intent Marketing - Lead Generation Software is -1.4820323931809667\n",
            "The coefficient for Mintigo - Intent Marketing - Internet Marketing Automation is -1.3708349532023218\n",
            "The coefficient for Mintigo - Email Service: Microsoft Exchange is -0.277634193355957\n",
            "The coefficient for Mintigo - Email Service: Gmail is -3.395672510565703\n",
            "The coefficient for Mintigo - Software Suite: Google G suite is 0.7235680460240794\n",
            "The coefficient for Mintigo - Software Suite: Microsoft Office 365 is 0.36634291582057776\n",
            "The coefficient for Mintigo - Intent Business - Sales - Proposal / Quote Generation is -0.05998602456780913\n",
            "The coefficient for Mintigo - Intent Business - Sales - Sales Analytics is 0.7618990910275445\n",
            "The coefficient for Mintigo - Intent Business - Sales - Effective Selling is 0.3913356864090045\n",
            "The coefficient for Mintigo - Intent Business - Sales - Sales Performance is -2.3120633774341033\n",
            "The coefficient for Mintigo - Intent Business - Sales - Sales Performance Management is -0.6193106258282941\n",
            "The coefficient for Mintigo - Intent Business - Sales - Sales Productivity is -0.8601137143042196\n",
            "The coefficient for Mintigo - Intent Marketing - Campaigns is 0.6083828328033469\n",
            "The coefficient for Mintigo - Intent Business - Sales - Cross-Selling is 1.0853105364379456\n",
            "The coefficient for Mintigo - Intent Business - Sales - Configure Price Quote (CPQ) is 2.658298388381082\n",
            "The coefficient for Mintigo - Intent Technology - Messaging - Salesforce Chatter is -2.4864910231128188\n",
            "The coefficient for Mintigo - Intent Business - Sales - Guided Selling is 1.2374006020459385\n",
            "The coefficient for Mintigo - Intent Technology - Software Engineering - Quote And Proposal Software is -7.607384458051988\n"
          ],
          "name": "stdout"
        }
      ]
    },
    {
      "cell_type": "markdown",
      "metadata": {
        "id": "cdon6t8lj1ED",
        "colab_type": "text"
      },
      "source": [
        "### Print out the intercept as well..."
      ]
    },
    {
      "cell_type": "code",
      "metadata": {
        "id": "8bhXAvz8g3s5",
        "colab_type": "code",
        "colab": {
          "base_uri": "https://localhost:8080/",
          "height": 34
        },
        "outputId": "22a80109-10f9-4540-f10b-6875f553b391"
      },
      "source": [
        "intercept = lin_reg.intercept_\n",
        "\n",
        "print(\"The intercept for this model is {}\".format(intercept))"
      ],
      "execution_count": 13,
      "outputs": [
        {
          "output_type": "stream",
          "text": [
            "The intercept for this model is 89.6216037681849\n"
          ],
          "name": "stdout"
        }
      ]
    },
    {
      "cell_type": "markdown",
      "metadata": {
        "id": "5dFj3Zvtl-9D",
        "colab_type": "text"
      },
      "source": [
        "### Print out the $R^2$ statistic..."
      ]
    },
    {
      "cell_type": "code",
      "metadata": {
        "id": "2yy32kximkk9",
        "colab_type": "code",
        "colab": {
          "base_uri": "https://localhost:8080/",
          "height": 34
        },
        "outputId": "dc9c4abb-cf57-4070-c26a-7a0a422351b9"
      },
      "source": [
        "print(\"R2 for this model is: \",lin_reg.score(X_train,y_train))"
      ],
      "execution_count": 14,
      "outputs": [
        {
          "output_type": "stream",
          "text": [
            "R2 for this model is:  0.248735894084391\n"
          ],
          "name": "stdout"
        }
      ]
    },
    {
      "cell_type": "markdown",
      "metadata": {
        "id": "zo19ZIj1Lfsm",
        "colab_type": "text"
      },
      "source": [
        "### Let's calculate the Root-Mean-Squared Error..."
      ]
    },
    {
      "cell_type": "code",
      "metadata": {
        "id": "KKkFa82qklxt",
        "colab_type": "code",
        "colab": {}
      },
      "source": [
        "from sklearn.metrics import mean_squared_error\n",
        "\n",
        "def Calculate_RMSE(X,y,model):\n",
        "  predictions = model.predict(X)\n",
        "  lin_mse = mean_squared_error(y,predictions)\n",
        "  lin_rmse = np.sqrt(lin_mse)\n",
        "  return lin_rmse"
      ],
      "execution_count": 0,
      "outputs": []
    },
    {
      "cell_type": "code",
      "metadata": {
        "id": "9D1O5Vujk0wf",
        "colab_type": "code",
        "colab": {
          "base_uri": "https://localhost:8080/",
          "height": 34
        },
        "outputId": "87ba0f71-8431-4f09-e1fa-b02793a0b2d2"
      },
      "source": [
        "Calculate_RMSE(X_train,y_train,lin_reg)"
      ],
      "execution_count": 16,
      "outputs": [
        {
          "output_type": "execute_result",
          "data": {
            "text/plain": [
              "3.7471588706789625"
            ]
          },
          "metadata": {
            "tags": []
          },
          "execution_count": 16
        }
      ]
    },
    {
      "cell_type": "code",
      "metadata": {
        "id": "76XqhGSHJKwo",
        "colab_type": "code",
        "colab": {
          "base_uri": "https://localhost:8080/",
          "height": 34
        },
        "outputId": "a8905552-41a7-4e37-cee4-60c0251a94f8"
      },
      "source": [
        "Calculate_RMSE(X_test,y_test,lin_reg)"
      ],
      "execution_count": 17,
      "outputs": [
        {
          "output_type": "execute_result",
          "data": {
            "text/plain": [
              "5.235351250205508"
            ]
          },
          "metadata": {
            "tags": []
          },
          "execution_count": 17
        }
      ]
    },
    {
      "cell_type": "markdown",
      "metadata": {
        "id": "mkVggyHHLk4T",
        "colab_type": "text"
      },
      "source": [
        "### Let's calculate the mean absolute error..."
      ]
    },
    {
      "cell_type": "code",
      "metadata": {
        "id": "yH4EXT_fLN-O",
        "colab_type": "code",
        "colab": {}
      },
      "source": [
        "from sklearn.metrics import mean_absolute_error\n",
        "\n",
        "def Calculate_MAE(X,y,model):\n",
        "  predictions = model.predict(X)\n",
        "  lin_mae = mean_absolute_error(y,predictions)\n",
        "  return lin_mae"
      ],
      "execution_count": 0,
      "outputs": []
    },
    {
      "cell_type": "code",
      "metadata": {
        "id": "-dUVn3JTMiGc",
        "colab_type": "code",
        "colab": {
          "base_uri": "https://localhost:8080/",
          "height": 34
        },
        "outputId": "dd28030d-7910-4269-c85b-4c05bb5b2628"
      },
      "source": [
        "Calculate_MAE(X_train,y_train,lin_reg)"
      ],
      "execution_count": 19,
      "outputs": [
        {
          "output_type": "execute_result",
          "data": {
            "text/plain": [
              "3.077493948744825"
            ]
          },
          "metadata": {
            "tags": []
          },
          "execution_count": 19
        }
      ]
    },
    {
      "cell_type": "code",
      "metadata": {
        "id": "oNPL1yUUMtR3",
        "colab_type": "code",
        "colab": {
          "base_uri": "https://localhost:8080/",
          "height": 34
        },
        "outputId": "5b434751-eaa4-4fc5-b20b-67b2521df049"
      },
      "source": [
        "Calculate_MAE(X_test,y_test,lin_reg)"
      ],
      "execution_count": 20,
      "outputs": [
        {
          "output_type": "execute_result",
          "data": {
            "text/plain": [
              "4.520981944510195"
            ]
          },
          "metadata": {
            "tags": []
          },
          "execution_count": 20
        }
      ]
    },
    {
      "cell_type": "markdown",
      "metadata": {
        "id": "Pnl1cquXD5MY",
        "colab_type": "text"
      },
      "source": [
        "### Let’s train a **DecisionTreeRegressor.** This is a powerful model, capable of finding potentially complex nonlinear relationships in the data.\n",
        "\n"
      ]
    },
    {
      "cell_type": "code",
      "metadata": {
        "id": "d7smvhH_D4hN",
        "colab_type": "code",
        "colab": {
          "base_uri": "https://localhost:8080/",
          "height": 102
        },
        "outputId": "7fe104b8-6a0e-4017-990e-208f5ef00ad7"
      },
      "source": [
        "from sklearn.tree import DecisionTreeRegressor \n",
        "tree_reg = DecisionTreeRegressor() \n",
        "tree_reg.fit(X_train,y_train) "
      ],
      "execution_count": 21,
      "outputs": [
        {
          "output_type": "execute_result",
          "data": {
            "text/plain": [
              "DecisionTreeRegressor(criterion='mse', max_depth=None, max_features=None,\n",
              "                      max_leaf_nodes=None, min_impurity_decrease=0.0,\n",
              "                      min_impurity_split=None, min_samples_leaf=1,\n",
              "                      min_samples_split=2, min_weight_fraction_leaf=0.0,\n",
              "                      presort=False, random_state=None, splitter='best')"
            ]
          },
          "metadata": {
            "tags": []
          },
          "execution_count": 21
        }
      ]
    },
    {
      "cell_type": "markdown",
      "metadata": {
        "id": "Q5qKUhULEhzf",
        "colab_type": "text"
      },
      "source": [
        "### Now that the DecisionTree model is trained, let’s evaluate it on the training set:\n",
        "\n"
      ]
    },
    {
      "cell_type": "code",
      "metadata": {
        "id": "ENSR0iz4E7qb",
        "colab_type": "code",
        "colab": {
          "base_uri": "https://localhost:8080/",
          "height": 34
        },
        "outputId": "b5e1fccc-26eb-488b-ebeb-32240f919c43"
      },
      "source": [
        "y_pred = tree_reg.predict(X_train)\n",
        "lin_mse = mean_squared_error(y_train, y_pred)\n",
        "lin_rmse = np.sqrt(lin_mse)\n",
        "lin_rmse"
      ],
      "execution_count": 22,
      "outputs": [
        {
          "output_type": "execute_result",
          "data": {
            "text/plain": [
              "1.7370739221184779"
            ]
          },
          "metadata": {
            "tags": []
          },
          "execution_count": 22
        }
      ]
    },
    {
      "cell_type": "markdown",
      "metadata": {
        "id": "pfSQsePYFcqP",
        "colab_type": "text"
      },
      "source": [
        "One way to evaluate the efficacy of the Decision Tree model would be to use the train_test_split function to split the training set into smaller training and test sets, then train our model against the smaller training sets and evaluate them against the test set. \n",
        "\n",
        "We can accomplish this using **Scikit-Learn’s cross-validation** feature. The following code performs a K-fold cross-validation: meaning it randomly splits the training set into 10 distinct subsets called folds, then it trains and evaluates the Decision Tree model 10 times, picking a different fold for evaluation every time and training on the other 9 folds. The result is an array containing the 10 evaluation scores:"
      ]
    },
    {
      "cell_type": "code",
      "metadata": {
        "id": "TEKw1CnDG2Ch",
        "colab_type": "code",
        "colab": {}
      },
      "source": [
        "from sklearn.model_selection import cross_val_score\n",
        "\n",
        "scores = cross_val_score(tree_reg,X_train,y_train,scoring=\"neg_mean_squared_error\", cv=10)\n",
        "tree_rmse_scores = np.sqrt(-scores)"
      ],
      "execution_count": 0,
      "outputs": []
    },
    {
      "cell_type": "code",
      "metadata": {
        "id": "sTKJwdp4HHhZ",
        "colab_type": "code",
        "colab": {
          "base_uri": "https://localhost:8080/",
          "height": 85
        },
        "outputId": "0fc577fb-0666-46ff-e9a8-9ca8eae5babc"
      },
      "source": [
        "def display_scores(scores):\n",
        "    print(\"Scores:\", scores)\n",
        "    print(\"Mean:\", scores.mean())\n",
        "    print(\"Standard deviation:\", scores.std())\n",
        "\n",
        "display_scores(tree_rmse_scores)"
      ],
      "execution_count": 24,
      "outputs": [
        {
          "output_type": "stream",
          "text": [
            "Scores: [6.08832694 4.28884365 5.30773245 5.27045775 6.56819739 6.66152977\n",
            " 6.65743408 5.72599515 5.58697021 5.66760531]\n",
            "Mean: 5.782309269872028\n",
            "Standard deviation: 0.7086804196936877\n"
          ],
          "name": "stdout"
        }
      ]
    },
    {
      "cell_type": "markdown",
      "metadata": {
        "id": "5mgdXQIiHig1",
        "colab_type": "text"
      },
      "source": [
        "Now the Decision Tree doesn’t look as good as it did earlier. **In fact, it seems to perform worse than the Linear Regression model!** Notice that cross-validation allows us to get not only an estimate of the performance of our model, but also a measure of how precise this estimate is (i.e., its standard deviation). The Decision Tree has a score of approximately 5.78, generally ± 0.71. We would not have this information if we just used one validation set. But cross-validation comes at the cost of training the model several times, so it is not always possible.\n"
      ]
    },
    {
      "cell_type": "markdown",
      "metadata": {
        "id": "LqOnkSNMH7AR",
        "colab_type": "text"
      },
      "source": [
        "### Let’s compute the same scores for the Linear Regression model just to be sure:\n"
      ]
    },
    {
      "cell_type": "code",
      "metadata": {
        "id": "AfYWCiNvHiFI",
        "colab_type": "code",
        "colab": {
          "base_uri": "https://localhost:8080/",
          "height": 85
        },
        "outputId": "3940a4fc-753e-4ea3-da14-1b3f7669fbf7"
      },
      "source": [
        "lin_scores = cross_val_score(lin_reg, X_train, y_train,scoring=\"neg_mean_squared_error\", cv=10)\n",
        "lin_rmse_scores = np.sqrt(-lin_scores)\n",
        "display_scores(lin_rmse_scores)"
      ],
      "execution_count": 25,
      "outputs": [
        {
          "output_type": "stream",
          "text": [
            "Scores: [5.4668456  3.7043698  4.41457393 5.16648158 5.18326728 5.50389836\n",
            " 8.20113094 4.91951501 6.63909898 3.50229513]\n",
            "Mean: 5.270147660685656\n",
            "Standard deviation: 1.3041559555914137\n"
          ],
          "name": "stdout"
        }
      ]
    },
    {
      "cell_type": "markdown",
      "metadata": {
        "id": "ynKthl0aIXyK",
        "colab_type": "text"
      },
      "source": [
        "**We have verified that the Decision Tree model is overfitting and that it performs worse than the Linear Regression model.**\n"
      ]
    },
    {
      "cell_type": "markdown",
      "metadata": {
        "id": "3Ew1uHg_IrbC",
        "colab_type": "text"
      },
      "source": [
        "Let's try one more model: the **RandomForestRegressor**. Random Forests work by training many Decision Trees on random subsets of the features, then averaging out their predictions. **Building a model on top of many other models is called Ensemble Learning , and it is often a great way to push ML algorithms even further.**\n"
      ]
    },
    {
      "cell_type": "code",
      "metadata": {
        "id": "bl2u0Ha_JL5q",
        "colab_type": "code",
        "colab": {
          "base_uri": "https://localhost:8080/",
          "height": 190
        },
        "outputId": "b1734dc4-01ed-4806-cdd6-74dbc0213c1c"
      },
      "source": [
        "from sklearn.ensemble import RandomForestRegressor\n",
        "\n",
        "forest_reg = RandomForestRegressor(random_state=42)\n",
        "forest_reg.fit(X_train, y_train)"
      ],
      "execution_count": 26,
      "outputs": [
        {
          "output_type": "stream",
          "text": [
            "/usr/local/lib/python3.6/dist-packages/sklearn/ensemble/forest.py:245: FutureWarning: The default value of n_estimators will change from 10 in version 0.20 to 100 in 0.22.\n",
            "  \"10 in version 0.20 to 100 in 0.22.\", FutureWarning)\n"
          ],
          "name": "stderr"
        },
        {
          "output_type": "execute_result",
          "data": {
            "text/plain": [
              "RandomForestRegressor(bootstrap=True, criterion='mse', max_depth=None,\n",
              "                      max_features='auto', max_leaf_nodes=None,\n",
              "                      min_impurity_decrease=0.0, min_impurity_split=None,\n",
              "                      min_samples_leaf=1, min_samples_split=2,\n",
              "                      min_weight_fraction_leaf=0.0, n_estimators=10,\n",
              "                      n_jobs=None, oob_score=False, random_state=42, verbose=0,\n",
              "                      warm_start=False)"
            ]
          },
          "metadata": {
            "tags": []
          },
          "execution_count": 26
        }
      ]
    },
    {
      "cell_type": "code",
      "metadata": {
        "id": "4vJ6ToN0JZ-o",
        "colab_type": "code",
        "colab": {
          "base_uri": "https://localhost:8080/",
          "height": 34
        },
        "outputId": "5621d284-81c3-4c77-bf2b-4ed8811bbe3a"
      },
      "source": [
        "y_pred = forest_reg.predict(X_train)\n",
        "forest_mse = mean_squared_error(y_train, y_pred)\n",
        "forest_rmse = np.sqrt(forest_mse)\n",
        "forest_rmse"
      ],
      "execution_count": 27,
      "outputs": [
        {
          "output_type": "execute_result",
          "data": {
            "text/plain": [
              "2.3603126302455117"
            ]
          },
          "metadata": {
            "tags": []
          },
          "execution_count": 27
        }
      ]
    },
    {
      "cell_type": "code",
      "metadata": {
        "id": "Mkh3v-cgOnOp",
        "colab_type": "code",
        "colab": {
          "base_uri": "https://localhost:8080/",
          "height": 34
        },
        "outputId": "aed129aa-9625-43c2-b2a3-ef99f57081bb"
      },
      "source": [
        "y_pred_test = forest_reg.predict(X_test)\n",
        "forest_mse = mean_squared_error(y_test, y_pred_test)\n",
        "forest_rmse = np.sqrt(forest_mse)\n",
        "forest_rmse"
      ],
      "execution_count": 28,
      "outputs": [
        {
          "output_type": "execute_result",
          "data": {
            "text/plain": [
              "5.538700328239261"
            ]
          },
          "metadata": {
            "tags": []
          },
          "execution_count": 28
        }
      ]
    },
    {
      "cell_type": "code",
      "metadata": {
        "id": "4MexrqieJkab",
        "colab_type": "code",
        "colab": {
          "base_uri": "https://localhost:8080/",
          "height": 85
        },
        "outputId": "bf362de5-1a3c-4f28-89ec-0fe43fd2758d"
      },
      "source": [
        "forest_scores = cross_val_score(forest_reg, X_train, y_train,scoring=\"neg_mean_squared_error\", cv=10)\n",
        "forest_rmse_scores = np.sqrt(-forest_scores)\n",
        "display_scores(forest_rmse_scores)"
      ],
      "execution_count": 29,
      "outputs": [
        {
          "output_type": "stream",
          "text": [
            "Scores: [4.3550466  3.88018604 4.26320268 4.25359926 5.62324627 6.12021538\n",
            " 4.29623148 5.28955268 4.94158875 4.33564216]\n",
            "Mean: 4.735851128968605\n",
            "Standard deviation: 0.6884343688051869\n"
          ],
          "name": "stdout"
        }
      ]
    },
    {
      "cell_type": "markdown",
      "metadata": {
        "id": "qOuBvdATKDOW",
        "colab_type": "text"
      },
      "source": [
        "Wow, this is much better: Random Forests look very promising. However, note that the score on the training set is still much lower than on the validation sets, meaning that the model is still overfitting the training set. Possible solutions for overfitting are to simplify the model, constrain it (i.e., regularize it), or get a lot more training data.\n"
      ]
    },
    {
      "cell_type": "markdown",
      "metadata": {
        "id": "S-K6crW99lpQ",
        "colab_type": "text"
      },
      "source": [
        "Let's write a function to compute a 95% confidence interval for the test RMSE:"
      ]
    },
    {
      "cell_type": "code",
      "metadata": {
        "id": "7egnGL4292By",
        "colab_type": "code",
        "colab": {}
      },
      "source": [
        "from scipy import stats\n",
        "\n",
        "def ComputeConfidenceInterval(y_pred_test):\n",
        "  confidence = 0.95\n",
        "  squared_errors = (y_pred_test - y_test) ** 2\n",
        "  mean = squared_errors.mean()\n",
        "  m = len(squared_errors)\n",
        "  return np.sqrt(stats.t.interval(confidence, m - 1,loc=np.mean(squared_errors),\n",
        "                         scale=stats.sem(squared_errors)))"
      ],
      "execution_count": 0,
      "outputs": []
    },
    {
      "cell_type": "code",
      "metadata": {
        "id": "c-8cHQW6_pfV",
        "colab_type": "code",
        "colab": {
          "base_uri": "https://localhost:8080/",
          "height": 34
        },
        "outputId": "6e04e20d-41ba-424f-be0d-76212bfd618a"
      },
      "source": [
        "conf_interval_grid = ComputeConfidenceInterval(y_pred_test)\n",
        "print(conf_interval_grid)"
      ],
      "execution_count": 31,
      "outputs": [
        {
          "output_type": "stream",
          "text": [
            "[4.1792387  6.62482955]\n"
          ],
          "name": "stdout"
        }
      ]
    }
  ]
}