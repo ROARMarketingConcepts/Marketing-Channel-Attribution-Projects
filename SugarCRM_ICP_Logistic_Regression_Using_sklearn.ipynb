{
  "nbformat": 4,
  "nbformat_minor": 0,
  "metadata": {
    "colab": {
      "name": "SugarCRM ICP Logistic Regression Using sklearn.ipynb",
      "version": "0.3.2",
      "provenance": [],
      "collapsed_sections": []
    },
    "kernelspec": {
      "name": "python3",
      "display_name": "Python 3"
    }
  },
  "cells": [
    {
      "cell_type": "markdown",
      "metadata": {
        "id": "jERAcrZJ8jNL",
        "colab_type": "text"
      },
      "source": [
        "## SugarCRM ICP Analysis Using Logistic Regression"
      ]
    },
    {
      "cell_type": "markdown",
      "metadata": {
        "id": "MVsOTX3f9BP-",
        "colab_type": "text"
      },
      "source": [
        "Performed by:\n",
        "\n",
        "Ken Wood\n",
        "\n",
        "Marketing Data Scientist\n",
        "\n",
        "SugarCRM\n",
        "\n",
        "kwood@sugarcrm.com\n",
        "\n",
        "(919) 802-0065\n",
        "\n"
      ]
    },
    {
      "cell_type": "markdown",
      "metadata": {
        "id": "XhwsQEl58tcx",
        "colab_type": "text"
      },
      "source": [
        "### Mount the Google Drive where the data files are located."
      ]
    },
    {
      "cell_type": "code",
      "metadata": {
        "id": "9f2B1jVo5WzN",
        "colab_type": "code",
        "outputId": "e9251815-7aa0-4a53-97a4-88250da147df",
        "colab": {
          "base_uri": "https://localhost:8080/",
          "height": 34
        }
      },
      "source": [
        "from google.colab import drive\n",
        "drive.mount('/content/drive/')"
      ],
      "execution_count": 0,
      "outputs": [
        {
          "output_type": "stream",
          "text": [
            "Drive already mounted at /content/drive/; to attempt to forcibly remount, call drive.mount(\"/content/drive/\", force_remount=True).\n"
          ],
          "name": "stdout"
        }
      ]
    },
    {
      "cell_type": "markdown",
      "metadata": {
        "id": "ovVN_46lxUC6",
        "colab_type": "text"
      },
      "source": [
        "### Load the necessary Python software packages to perform the logistic regression..."
      ]
    },
    {
      "cell_type": "code",
      "metadata": {
        "id": "p7WqPuZNxQb_",
        "colab_type": "code",
        "colab": {}
      },
      "source": [
        "import pandas as pd\n",
        "import numpy as np\n",
        "from sklearn import preprocessing\n",
        "import matplotlib.pyplot as plt \n",
        "plt.rc(\"font\", size=14)\n",
        "from sklearn.linear_model import LogisticRegression\n",
        "from sklearn.model_selection import train_test_split\n",
        "import seaborn as sns\n",
        "sns.set(style=\"white\")\n",
        "sns.set(style=\"whitegrid\", color_codes=True)"
      ],
      "execution_count": 0,
      "outputs": []
    },
    {
      "cell_type": "markdown",
      "metadata": {
        "id": "A4WjZDWv4S3A",
        "colab_type": "text"
      },
      "source": [
        "### Load the 'opp_data' file from location *''/content/drive/My Drive/Colab Notebooks/SugarCRM ICP Analysis/'* and develop some summary statistics.\n",
        "\n",
        "## Input (independent) variables\n",
        "\n",
        "1.   **Opportunity Creation Date**\n",
        "2.   **Qualified Sales Opportunity Date**\n",
        "3. **Aging Date Modified** \n",
        "4. **Opportunity Date Modified** \n",
        "5. **Aging Date Created** \n",
        "6. **Opportunity Name** \n",
        "7. **# of Employees**\n",
        "8. **# of Employees Group 1** (categorical: “10-100”, “100-1000”, \"1000+\")\n",
        "9.  **# of Employees Group 2** (categorical: “0-100”, “100-1000”, \"1000+\")\n",
        "10. **Opportunity Type** (categorical: \"New\"”, “Additional”, “Upgrade”)\n",
        "11. **Industry**\n",
        "12. **Industry Code** \n",
        "13. **Region**\n",
        "14. **Region Code** (categorical: \"APAC\", \"NAM\", \"EMEA\", \"LATAM\")\n",
        "15. **Customer Full Name** \n",
        "16. **Opportunity ID** \n",
        "17. **Sales Stage - Before Value**\n",
        "18.**Sales Stage - After Value**\n",
        "19.**Sales Stage**\n",
        "20. **Last Sales Stage 1** \n",
        "21. **Last Sales Stage 2** \n",
        "22. **Last Sales Stage 3** \n",
        "23. **Revenue Line Item Coded** (SugarCRM product)\n",
        "24. **Time in Previous Value**\n",
        "25. **Time Since Creation**\n",
        "26. **Gross ARR** (Gross Annual Recurring Revenue)\n",
        "27. **Net ARR** (Net Annual Recurring Revenue)\n",
        "\n",
        "## Dependent variable (desired target):\n",
        "\n",
        "28. **Converted?** (binary variable: 1 = \"Yes\", 0 = \"No\")\n",
        "\n"
      ]
    },
    {
      "cell_type": "code",
      "metadata": {
        "colab_type": "code",
        "id": "R5pqHgvG8c87",
        "outputId": "4b57bf79-fdda-4261-d120-8868958b112e",
        "colab": {
          "base_uri": "https://localhost:8080/",
          "height": 561
        }
      },
      "source": [
        "date_columns = [\"Opportunity Creation Date\",\"Qualified Sales Opportunity Date\",\"Aging Date Modified\",\"Opportunity Date Modified\",\"Aging Date Created\"]\n",
        "df = pd.read_csv('/content/drive/My Drive/Colab Notebooks/SugarCRM ICP Analysis/opp_data.csv',parse_dates=date_columns)\n",
        "df[\"Gross ARR\"] = df[\"Gross ARR\"].astype(float)\n",
        "df[\"Net ARR\"] = df[\"Net ARR\"].astype(float)\n",
        "df.info()"
      ],
      "execution_count": 0,
      "outputs": [
        {
          "output_type": "stream",
          "text": [
            "<class 'pandas.core.frame.DataFrame'>\n",
            "RangeIndex: 41324 entries, 0 to 41323\n",
            "Data columns (total 27 columns):\n",
            "Opportunity Creation Date           41324 non-null datetime64[ns]\n",
            "Qualified Sales Opportunity Date    40056 non-null datetime64[ns]\n",
            "Aging Date Modified                 41324 non-null datetime64[ns]\n",
            "Opportunity Date Modified           41324 non-null datetime64[ns]\n",
            "Aging Date Created                  41324 non-null datetime64[ns]\n",
            "Opportunity Name                    41324 non-null object\n",
            "# of Employees Group                41324 non-null object\n",
            "Opportunity Type                    41324 non-null object\n",
            "Industry                            21047 non-null object\n",
            "Meta Industry                       41324 non-null object\n",
            "Region                              41324 non-null object\n",
            "Region Code                         41324 non-null object\n",
            "Full Name                           41318 non-null object\n",
            "ID                                  41324 non-null object\n",
            "Before Value                        31195 non-null object\n",
            "After Value                         31149 non-null object\n",
            "Sales Stage                         41324 non-null object\n",
            "Last Sales Stage 1                  41324 non-null object\n",
            "Last Sales Stage 2                  41324 non-null object\n",
            "Last Sales Stage 3                  41324 non-null object\n",
            "Revenue Line Item                   40905 non-null object\n",
            "Revenue Line Item Coded             41324 non-null object\n",
            "Time In Previous Value              41324 non-null int64\n",
            "Time Since Creation                 41324 non-null int64\n",
            "Gross ARR                           41324 non-null float64\n",
            "Net ARR                             41324 non-null float64\n",
            "Converted?                          41324 non-null int64\n",
            "dtypes: datetime64[ns](5), float64(2), int64(3), object(17)\n",
            "memory usage: 8.5+ MB\n"
          ],
          "name": "stdout"
        }
      ]
    },
    {
      "cell_type": "markdown",
      "metadata": {
        "id": "1BbRK6WbHhCF",
        "colab_type": "text"
      },
      "source": [
        "## Let's now do some data exploration!"
      ]
    },
    {
      "cell_type": "code",
      "metadata": {
        "id": "ec5oAuTsjWhK",
        "colab_type": "code",
        "outputId": "0b44b5d8-ad8a-4eda-c22d-6d5b2655be73",
        "colab": {
          "base_uri": "https://localhost:8080/",
          "height": 374
        }
      },
      "source": [
        "print(\"Shape of dataframe: \",df.shape,\"\\n\")             # Get shape of dataframe.\n",
        "print(df.head())                                        # Print first 5 rows of dataframe.\n",
        "print(df.describe())                                    # Get some summary stats on the numeric variables"
      ],
      "execution_count": 0,
      "outputs": [
        {
          "output_type": "stream",
          "text": [
            "Shape of dataframe:  (41324, 27) \n",
            "\n",
            "  Opportunity Creation Date  ... Converted?\n",
            "0                2018-01-01  ...          1\n",
            "1                2018-01-01  ...          1\n",
            "2                2018-01-01  ...          1\n",
            "3                2018-01-01  ...          1\n",
            "4                2018-01-01  ...          1\n",
            "\n",
            "[5 rows x 27 columns]\n",
            "       Time In Previous Value  Time Since Creation  ...       Net ARR    Converted?\n",
            "count            41324.000000         41324.000000  ...  4.132400e+04  41324.000000\n",
            "mean                20.736545            32.059965  ...  1.281923e+04      0.488602\n",
            "std                 53.176901            64.297108  ...  7.759103e+04      0.499876\n",
            "min                  0.000000             0.000000  ...  0.000000e+00      0.000000\n",
            "25%                  0.000000             0.000000  ...  1.629600e+03      0.000000\n",
            "50%                  0.000000             1.000000  ...  4.680000e+03      0.000000\n",
            "75%                 11.000000            34.000000  ...  7.800000e+03      1.000000\n",
            "max                530.000000           530.000000  ...  5.475480e+06      1.000000\n",
            "\n",
            "[8 rows x 5 columns]\n"
          ],
          "name": "stdout"
        }
      ]
    },
    {
      "cell_type": "code",
      "metadata": {
        "id": "uQwNw3zHH61f",
        "colab_type": "code",
        "outputId": "4cb53e3b-eaa3-4192-afe1-708654f87536",
        "colab": {
          "base_uri": "https://localhost:8080/",
          "height": 68
        }
      },
      "source": [
        "zeros,ones = df['Converted?'].value_counts()\n",
        "print('numzeros: ',zeros,'numones: ',ones)\n",
        "print('Percentage of opportunities that converted:', round((ones*100)/(zeros+ones),1),'%')\n",
        "print('Percentage of opportunities that did not convert:', round((zeros*100)/(zeros+ones),1),'%')"
      ],
      "execution_count": 0,
      "outputs": [
        {
          "output_type": "stream",
          "text": [
            "numzeros:  21133 numones:  20191\n",
            "Percentage of opportunities that converted: 48.9 %\n",
            "Percentage of opportunities that did not convert: 51.1 %\n"
          ],
          "name": "stdout"
        }
      ]
    },
    {
      "cell_type": "markdown",
      "metadata": {
        "id": "h1KqVFkc4l1H",
        "colab_type": "text"
      },
      "source": [
        "### Plot the number of ones and zeros."
      ]
    },
    {
      "cell_type": "code",
      "metadata": {
        "id": "X7sMgG0i46uE",
        "colab_type": "code",
        "outputId": "c629c180-a719-4d6c-f7c6-5e5bed14ce07",
        "colab": {
          "base_uri": "https://localhost:8080/",
          "height": 308
        }
      },
      "source": [
        "sns.countplot(x=df['Converted?'],palette='hls')"
      ],
      "execution_count": 0,
      "outputs": [
        {
          "output_type": "execute_result",
          "data": {
            "text/plain": [
              "<matplotlib.axes._subplots.AxesSubplot at 0x7fb896058f28>"
            ]
          },
          "metadata": {
            "tags": []
          },
          "execution_count": 6
        },
        {
          "output_type": "display_data",
          "data": {
            "image/png": "[encoded data removed]",
            "text/plain": [
              "<Figure size 432x288 with 1 Axes>"
            ]
          },
          "metadata": {
            "tags": []
          }
        }
      ]
    },
    {
      "cell_type": "code",
      "metadata": {
        "id": "n8J2lkV099rh",
        "colab_type": "code",
        "outputId": "218b23f7-bcf0-4ce2-afa8-3ece087cef26",
        "colab": {
          "base_uri": "https://localhost:8080/",
          "height": 142
        }
      },
      "source": [
        "df.groupby('Converted?').mean()"
      ],
      "execution_count": 0,
      "outputs": [
        {
          "output_type": "execute_result",
          "data": {
            "text/html": [
              "<div>\n",
              "<style scoped>\n",
              "    .dataframe tbody tr th:only-of-type {\n",
              "        vertical-align: middle;\n",
              "    }\n",
              "\n",
              "    .dataframe tbody tr th {\n",
              "        vertical-align: top;\n",
              "    }\n",
              "\n",
              "    .dataframe thead th {\n",
              "        text-align: right;\n",
              "    }\n",
              "</style>\n",
              "<table border=\"1\" class=\"dataframe\">\n",
              "  <thead>\n",
              "    <tr style=\"text-align: right;\">\n",
              "      <th></th>\n",
              "      <th>Time In Previous Value</th>\n",
              "      <th>Time Since Creation</th>\n",
              "      <th>Gross ARR</th>\n",
              "      <th>Net ARR</th>\n",
              "    </tr>\n",
              "    <tr>\n",
              "      <th>Converted?</th>\n",
              "      <th></th>\n",
              "      <th></th>\n",
              "      <th></th>\n",
              "      <th></th>\n",
              "    </tr>\n",
              "  </thead>\n",
              "  <tbody>\n",
              "    <tr>\n",
              "      <th>0</th>\n",
              "      <td>28.348176</td>\n",
              "      <td>45.711636</td>\n",
              "      <td>23650.471385</td>\n",
              "      <td>19231.776509</td>\n",
              "    </tr>\n",
              "    <tr>\n",
              "      <th>1</th>\n",
              "      <td>12.769798</td>\n",
              "      <td>17.771383</td>\n",
              "      <td>7938.977821</td>\n",
              "      <td>6107.506398</td>\n",
              "    </tr>\n",
              "  </tbody>\n",
              "</table>\n",
              "</div>"
            ],
            "text/plain": [
              "            Time In Previous Value  ...       Net ARR\n",
              "Converted?                          ...              \n",
              "0                        28.348176  ...  19231.776509\n",
              "1                        12.769798  ...   6107.506398\n",
              "\n",
              "[2 rows x 4 columns]"
            ]
          },
          "metadata": {
            "tags": []
          },
          "execution_count": 7
        }
      ]
    },
    {
      "cell_type": "markdown",
      "metadata": {
        "id": "HjdeS95f-jTz",
        "colab_type": "text"
      },
      "source": [
        "### Conclusion: mean Gross ARR is a good predictor of conversion.\n",
        "\n",
        "\n"
      ]
    },
    {
      "cell_type": "code",
      "metadata": {
        "id": "qUbAWFUdJcs9",
        "colab_type": "code",
        "outputId": "05815849-ce65-47f9-9867-dfab1d0470b6",
        "colab": {
          "base_uri": "https://localhost:8080/",
          "height": 344
        }
      },
      "source": [
        "pd.crosstab(df['# of Employees Group'],df['Converted?']).plot(kind='bar')\n",
        "plt.title('Conversion Distribution for Company Size')\n",
        "plt.xlabel('Company Size')\n",
        "plt.ylabel('Number of Instances')\n",
        "plt.savefig('pur_fre_month_bar')"
      ],
      "execution_count": 0,
      "outputs": [
        {
          "output_type": "display_data",
          "data": {
            "image/png": "[encoded data removed]",
            "text/plain": [
              "<Figure size 432x288 with 1 Axes>"
            ]
          },
          "metadata": {
            "tags": []
          }
        }
      ]
    },
    {
      "cell_type": "markdown",
      "metadata": {
        "id": "QTqiBftXJj-Q",
        "colab_type": "text"
      },
      "source": [
        "### Conclusion:  'Company Size' does not appear to be a good predictor of conversion."
      ]
    },
    {
      "cell_type": "code",
      "metadata": {
        "id": "8od6E2F_LS1w",
        "colab_type": "code",
        "outputId": "3f7e59cf-6e6c-4a90-b0d5-b2ccd31d4f51",
        "colab": {
          "base_uri": "https://localhost:8080/",
          "height": 347
        }
      },
      "source": [
        "pd.crosstab(df['Opportunity Type'],df['Converted?']).plot(kind='bar')\n",
        "plt.title('Conversion Distribution of Opportunity Type')\n",
        "plt.xlabel('Opportunity Type')\n",
        "plt.ylabel('Number of Instances')\n",
        "plt.savefig('pur_fre_pout_bar')"
      ],
      "execution_count": 0,
      "outputs": [
        {
          "output_type": "display_data",
          "data": {
            "image/png": "[encoded data removed]",
            "text/plain": [
              "<Figure size 432x288 with 1 Axes>"
            ]
          },
          "metadata": {
            "tags": []
          }
        }
      ]
    },
    {
      "cell_type": "markdown",
      "metadata": {
        "id": "VJwtHbI_LVdj",
        "colab_type": "text"
      },
      "source": [
        "### Conclusion:  'Opportunity Type' appears to be a good predictor of conversion."
      ]
    },
    {
      "cell_type": "code",
      "metadata": {
        "id": "WZJ1VwJ8T3If",
        "colab_type": "code",
        "outputId": "b64cead7-e657-40ac-e20f-d1a045a96090",
        "colab": {
          "base_uri": "https://localhost:8080/",
          "height": 328
        }
      },
      "source": [
        "pd.crosstab(df['Region Code'],df['Converted?']).plot(kind='bar')\n",
        "plt.title('Conversion Distribution of Geographic Region')\n",
        "plt.xlabel('Geographic Region')\n",
        "plt.ylabel('Number of Instances')\n",
        "plt.savefig('pur_fre_pout_bar')"
      ],
      "execution_count": 0,
      "outputs": [
        {
          "output_type": "display_data",
          "data": {
            "image/png": "[encoded data removed]",
            "text/plain": [
              "<Figure size 432x288 with 1 Axes>"
            ]
          },
          "metadata": {
            "tags": []
          }
        }
      ]
    },
    {
      "cell_type": "markdown",
      "metadata": {
        "id": "5-OxgKuKWzwl",
        "colab_type": "text"
      },
      "source": [
        "### Conclusion:  Geographic region does not appear to be a good predictor of conversion."
      ]
    },
    {
      "cell_type": "code",
      "metadata": {
        "id": "CA-eG5c4XNvC",
        "colab_type": "code",
        "outputId": "5a63875e-2602-4167-9911-a8f8e116a5a7",
        "colab": {
          "base_uri": "https://localhost:8080/",
          "height": 371
        }
      },
      "source": [
        "pd.crosstab(df['Meta Industry'],df['Converted?']).plot(kind='bar')\n",
        "plt.title('Conversion Distribution of Meta-Industry')\n",
        "plt.xlabel('Meta Industry')\n",
        "plt.ylabel('Number of Instances')\n",
        "plt.savefig('pur_fre_pout_bar')"
      ],
      "execution_count": 0,
      "outputs": [
        {
          "output_type": "display_data",
          "data": {
            "image/png": "[encoded data removed]",
            "text/plain": [
              "<Figure size 432x288 with 1 Axes>"
            ]
          },
          "metadata": {
            "tags": []
          }
        }
      ]
    },
    {
      "cell_type": "markdown",
      "metadata": {
        "id": "_Z9P4N8UZQkb",
        "colab_type": "text"
      },
      "source": [
        "### Conclusion:  Meta industry does appears to be a fair predictor of conversion."
      ]
    },
    {
      "cell_type": "code",
      "metadata": {
        "id": "z1IKNgekaz68",
        "colab_type": "code",
        "outputId": "75b74019-b349-462c-953a-527534d7f1d8",
        "colab": {
          "base_uri": "https://localhost:8080/",
          "height": 450
        }
      },
      "source": [
        "pd.crosstab(df['Last Sales Stage 3'],df['Converted?']).plot(kind='bar')\n",
        "plt.title('Conversion Distribution of Last Sales Stage')\n",
        "plt.xlabel('Last Sales Stage')\n",
        "plt.ylabel('Number of Instances')\n",
        "plt.savefig('pur_fre_pout_bar')"
      ],
      "execution_count": 0,
      "outputs": [
        {
          "output_type": "display_data",
          "data": {
            "image/png": "[encoded data removed]",
            "text/plain": [
              "<Figure size 432x288 with 1 Axes>"
            ]
          },
          "metadata": {
            "tags": []
          }
        }
      ]
    },
    {
      "cell_type": "markdown",
      "metadata": {
        "id": "20hVg4V1fIxM",
        "colab_type": "text"
      },
      "source": [
        "### Conclusion:  Last Sales Stage does appear to be a good predictor of conversion."
      ]
    },
    {
      "cell_type": "code",
      "metadata": {
        "id": "wEF7h_vwcqWS",
        "colab_type": "code",
        "outputId": "0efcb313-2e06-4491-8332-6b85658a917a",
        "colab": {
          "base_uri": "https://localhost:8080/",
          "height": 404
        }
      },
      "source": [
        "pd.crosstab(df['Revenue Line Item Coded'],df['Converted?']).plot(kind='bar')\n",
        "plt.title('Conversion Distribution of Sugar Product')\n",
        "plt.xlabel('Sugar Product')\n",
        "plt.ylabel('Number of Instances')\n",
        "plt.savefig('pur_fre_pout_bar')"
      ],
      "execution_count": 0,
      "outputs": [
        {
          "output_type": "display_data",
          "data": {
            "image/png": "[encoded data removed]",
            "text/plain": [
              "<Figure size 432x288 with 1 Axes>"
            ]
          },
          "metadata": {
            "tags": []
          }
        }
      ]
    },
    {
      "cell_type": "markdown",
      "metadata": {
        "id": "5lP3wQBEfS1-",
        "colab_type": "text"
      },
      "source": [
        "### Conclusion:  Sugar Product selection does not appear to be a good predictor of conversion."
      ]
    },
    {
      "cell_type": "markdown",
      "metadata": {
        "id": "gn6zl8Ag-pU_",
        "colab_type": "text"
      },
      "source": [
        "### Let's delete the variables that will not be a part of our analysis.  For clarity, these variables are:\n",
        "\n",
        "\n",
        "1.   'Opportunity Creation Date'\n",
        "2.   'Qualified Sales Opportunity Date'\n",
        "3.   'Aging Date Modified'\n",
        "4.   'Opportunity Date Modified'\n",
        "5.   'Aging Date Created'\n",
        "6.   'Opportunity Name'\n",
        "7.   'Industry'\n",
        "8.   'Region'\n",
        "9.   'Full Name'\n",
        "10. 'ID'\n",
        "11. 'Before Value'\n",
        "12. 'After Value'\n",
        "13. 'Sales Stage'\n",
        "14. 'Last Sales Stage 1'\n",
        "15. 'Last Sales Stage 2'\n",
        "16. 'Revenue Line Item'\n",
        "17. 'Time in Previous Value'\n",
        "18. 'Time Since Creation'\n",
        "\n",
        "\n",
        "\n"
      ]
    },
    {
      "cell_type": "code",
      "metadata": {
        "id": "LWc_ab3--oik",
        "colab_type": "code",
        "colab": {}
      },
      "source": [
        "df=df.drop(['Opportunity Creation Date','Qualified Sales Opportunity Date','Aging Date Modified','Opportunity Date Modified','Aging Date Created', 'Opportunity Name', 'Industry','Region','Full Name', 'ID','Before Value','After Value','Sales Stage','Last Sales Stage 1', 'Last Sales Stage 2','Revenue Line Item','Time In Previous Value','Time Since Creation'],axis=1)"
      ],
      "execution_count": 0,
      "outputs": []
    },
    {
      "cell_type": "markdown",
      "metadata": {
        "id": "7VQ0zAFjMpCz",
        "colab_type": "text"
      },
      "source": [
        "### Now, we need to create dummy variables for: \n",
        "\n",
        "\n",
        "1.   '# of Employees Group'\n",
        "2.   'Opportunity Type'\n",
        "3.  'Meta Industry'\n",
        "4. 'Region Code'\n",
        "5. 'Last Sales Stage 3'\n",
        "6. 'Revenue Line Item Coded'\n",
        "\n",
        "These variables will only take on  values of '0' or '1'.\n",
        "\n"
      ]
    },
    {
      "cell_type": "code",
      "metadata": {
        "id": "vGR73VOSOpV_",
        "colab_type": "code",
        "outputId": "7730e86e-57e9-4be4-d524-26e0a289f54d",
        "colab": {
          "base_uri": "https://localhost:8080/",
          "height": 170
        }
      },
      "source": [
        "df_vars=df.columns.values.tolist()\n",
        "df_vars"
      ],
      "execution_count": 0,
      "outputs": [
        {
          "output_type": "execute_result",
          "data": {
            "text/plain": [
              "['# of Employees Group',\n",
              " 'Opportunity Type',\n",
              " 'Meta Industry',\n",
              " 'Region Code',\n",
              " 'Last Sales Stage 3',\n",
              " 'Revenue Line Item Coded',\n",
              " 'Gross ARR',\n",
              " 'Net ARR',\n",
              " 'Converted?']"
            ]
          },
          "metadata": {
            "tags": []
          },
          "execution_count": 15
        }
      ]
    },
    {
      "cell_type": "code",
      "metadata": {
        "id": "YKMz1OyY7MmO",
        "colab_type": "code",
        "colab": {}
      },
      "source": [
        "cat_vars=['# of Employees Group','Opportunity Type','Meta Industry','Region Code','Last Sales Stage 3','Revenue Line Item Coded']\n",
        "for var in cat_vars:\n",
        "    cat_list='var'+'_'+var\n",
        "    cat_list = pd.get_dummies(df[var], prefix=var)\n",
        "    df1=df.join(cat_list)\n",
        "    df=df1"
      ],
      "execution_count": 0,
      "outputs": []
    },
    {
      "cell_type": "code",
      "metadata": {
        "id": "gViK3PeLPFHq",
        "colab_type": "code",
        "colab": {}
      },
      "source": [
        "df_vars=df.columns.values.tolist()\n",
        "cat_vars=['# of Employees Group','Opportunity Type','Meta Industry','Region Code','Last Sales Stage 3','Revenue Line Item Coded']\n",
        "to_keep=[i for i in df_vars if i not in cat_vars]"
      ],
      "execution_count": 0,
      "outputs": []
    },
    {
      "cell_type": "markdown",
      "metadata": {
        "id": "Quj8Y8UsPlsr",
        "colab_type": "text"
      },
      "source": [
        "The final list of variables will be:"
      ]
    },
    {
      "cell_type": "code",
      "metadata": {
        "id": "SiDV40s_PPKU",
        "colab_type": "code",
        "outputId": "807883b1-2dd0-4270-891b-3e7b0d65ec37",
        "colab": {
          "base_uri": "https://localhost:8080/",
          "height": 425
        }
      },
      "source": [
        "df_final=df[to_keep]\n",
        "df_final.columns.values"
      ],
      "execution_count": 0,
      "outputs": [
        {
          "output_type": "execute_result",
          "data": {
            "text/plain": [
              "array(['Gross ARR', 'Net ARR', 'Converted?', '# of Employees Group_0-100',\n",
              "       '# of Employees Group_100-1000', '# of Employees Group_1000+',\n",
              "       'Opportunity Type_Additional', 'Opportunity Type_New',\n",
              "       'Opportunity Type_Upgrade', 'Meta Industry_Business Apps',\n",
              "       'Meta Industry_Education', 'Meta Industry_Government',\n",
              "       'Meta Industry_Healthcare', 'Meta Industry_Lifestyle',\n",
              "       'Meta Industry_Logistics', 'Meta Industry_Manufacturing',\n",
              "       'Meta Industry_Other', 'Meta Industry_Tech', 'Region Code_APAC',\n",
              "       'Region Code_EMEA', 'Region Code_LATAM', 'Region Code_NAM',\n",
              "       'Last Sales Stage 3_Close & Handover',\n",
              "       'Last Sales Stage 3_Closed Lost',\n",
              "       'Last Sales Stage 3_Confirm Scope & Solution Fit',\n",
              "       'Last Sales Stage 3_Credential & Differentiate',\n",
              "       'Last Sales Stage 3_Discover & Qualify',\n",
              "       'Last Sales Stage 3_Justify & Propose',\n",
              "       'Last Sales Stage 3_Negotiate & Procure',\n",
              "       'Last Sales Stage 3_Order Desk Review',\n",
              "       'Last Sales Stage 3_Requalify',\n",
              "       'Last Sales Stage 3_Sales Ready Lead',\n",
              "       'Revenue Line Item Coded_Other',\n",
              "       'Revenue Line Item Coded_Sugar 5-Seat Edition',\n",
              "       'Revenue Line Item Coded_Sugar Enterprise',\n",
              "       'Revenue Line Item Coded_Sugar Professional',\n",
              "       'Revenue Line Item Coded_Sugar Ultimate'], dtype=object)"
            ]
          },
          "metadata": {
            "tags": []
          },
          "execution_count": 18
        }
      ]
    },
    {
      "cell_type": "code",
      "metadata": {
        "id": "WHo107yIw8fW",
        "colab_type": "code",
        "outputId": "90c39672-ed13-414d-bd65-29c05a60f7dd",
        "colab": {
          "base_uri": "https://localhost:8080/",
          "height": 326
        }
      },
      "source": [
        "df_final.head()"
      ],
      "execution_count": 0,
      "outputs": [
        {
          "output_type": "execute_result",
          "data": {
            "text/html": [
              "<div>\n",
              "<style scoped>\n",
              "    .dataframe tbody tr th:only-of-type {\n",
              "        vertical-align: middle;\n",
              "    }\n",
              "\n",
              "    .dataframe tbody tr th {\n",
              "        vertical-align: top;\n",
              "    }\n",
              "\n",
              "    .dataframe thead th {\n",
              "        text-align: right;\n",
              "    }\n",
              "</style>\n",
              "<table border=\"1\" class=\"dataframe\">\n",
              "  <thead>\n",
              "    <tr style=\"text-align: right;\">\n",
              "      <th></th>\n",
              "      <th>Gross ARR</th>\n",
              "      <th>Net ARR</th>\n",
              "      <th>Converted?</th>\n",
              "      <th># of Employees Group_0-100</th>\n",
              "      <th># of Employees Group_100-1000</th>\n",
              "      <th># of Employees Group_1000+</th>\n",
              "      <th>Opportunity Type_Additional</th>\n",
              "      <th>Opportunity Type_New</th>\n",
              "      <th>Opportunity Type_Upgrade</th>\n",
              "      <th>Meta Industry_Business Apps</th>\n",
              "      <th>Meta Industry_Education</th>\n",
              "      <th>Meta Industry_Government</th>\n",
              "      <th>Meta Industry_Healthcare</th>\n",
              "      <th>Meta Industry_Lifestyle</th>\n",
              "      <th>Meta Industry_Logistics</th>\n",
              "      <th>Meta Industry_Manufacturing</th>\n",
              "      <th>Meta Industry_Other</th>\n",
              "      <th>Meta Industry_Tech</th>\n",
              "      <th>Region Code_APAC</th>\n",
              "      <th>Region Code_EMEA</th>\n",
              "      <th>Region Code_LATAM</th>\n",
              "      <th>Region Code_NAM</th>\n",
              "      <th>Last Sales Stage 3_Close &amp; Handover</th>\n",
              "      <th>Last Sales Stage 3_Closed Lost</th>\n",
              "      <th>Last Sales Stage 3_Confirm Scope &amp; Solution Fit</th>\n",
              "      <th>Last Sales Stage 3_Credential &amp; Differentiate</th>\n",
              "      <th>Last Sales Stage 3_Discover &amp; Qualify</th>\n",
              "      <th>Last Sales Stage 3_Justify &amp; Propose</th>\n",
              "      <th>Last Sales Stage 3_Negotiate &amp; Procure</th>\n",
              "      <th>Last Sales Stage 3_Order Desk Review</th>\n",
              "      <th>Last Sales Stage 3_Requalify</th>\n",
              "      <th>Last Sales Stage 3_Sales Ready Lead</th>\n",
              "      <th>Revenue Line Item Coded_Other</th>\n",
              "      <th>Revenue Line Item Coded_Sugar 5-Seat Edition</th>\n",
              "      <th>Revenue Line Item Coded_Sugar Enterprise</th>\n",
              "      <th>Revenue Line Item Coded_Sugar Professional</th>\n",
              "      <th>Revenue Line Item Coded_Sugar Ultimate</th>\n",
              "    </tr>\n",
              "  </thead>\n",
              "  <tbody>\n",
              "    <tr>\n",
              "      <th>0</th>\n",
              "      <td>4560.0</td>\n",
              "      <td>2964.0</td>\n",
              "      <td>1</td>\n",
              "      <td>0</td>\n",
              "      <td>1</td>\n",
              "      <td>0</td>\n",
              "      <td>0</td>\n",
              "      <td>1</td>\n",
              "      <td>0</td>\n",
              "      <td>1</td>\n",
              "      <td>0</td>\n",
              "      <td>0</td>\n",
              "      <td>0</td>\n",
              "      <td>0</td>\n",
              "      <td>0</td>\n",
              "      <td>0</td>\n",
              "      <td>0</td>\n",
              "      <td>0</td>\n",
              "      <td>1</td>\n",
              "      <td>0</td>\n",
              "      <td>0</td>\n",
              "      <td>0</td>\n",
              "      <td>0</td>\n",
              "      <td>0</td>\n",
              "      <td>0</td>\n",
              "      <td>0</td>\n",
              "      <td>0</td>\n",
              "      <td>0</td>\n",
              "      <td>0</td>\n",
              "      <td>0</td>\n",
              "      <td>0</td>\n",
              "      <td>1</td>\n",
              "      <td>0</td>\n",
              "      <td>0</td>\n",
              "      <td>0</td>\n",
              "      <td>1</td>\n",
              "      <td>0</td>\n",
              "    </tr>\n",
              "    <tr>\n",
              "      <th>1</th>\n",
              "      <td>4560.0</td>\n",
              "      <td>2964.0</td>\n",
              "      <td>1</td>\n",
              "      <td>0</td>\n",
              "      <td>1</td>\n",
              "      <td>0</td>\n",
              "      <td>0</td>\n",
              "      <td>1</td>\n",
              "      <td>0</td>\n",
              "      <td>1</td>\n",
              "      <td>0</td>\n",
              "      <td>0</td>\n",
              "      <td>0</td>\n",
              "      <td>0</td>\n",
              "      <td>0</td>\n",
              "      <td>0</td>\n",
              "      <td>0</td>\n",
              "      <td>0</td>\n",
              "      <td>1</td>\n",
              "      <td>0</td>\n",
              "      <td>0</td>\n",
              "      <td>0</td>\n",
              "      <td>1</td>\n",
              "      <td>0</td>\n",
              "      <td>0</td>\n",
              "      <td>0</td>\n",
              "      <td>0</td>\n",
              "      <td>0</td>\n",
              "      <td>0</td>\n",
              "      <td>0</td>\n",
              "      <td>0</td>\n",
              "      <td>0</td>\n",
              "      <td>0</td>\n",
              "      <td>0</td>\n",
              "      <td>0</td>\n",
              "      <td>1</td>\n",
              "      <td>0</td>\n",
              "    </tr>\n",
              "    <tr>\n",
              "      <th>2</th>\n",
              "      <td>4560.0</td>\n",
              "      <td>2964.0</td>\n",
              "      <td>1</td>\n",
              "      <td>0</td>\n",
              "      <td>1</td>\n",
              "      <td>0</td>\n",
              "      <td>0</td>\n",
              "      <td>1</td>\n",
              "      <td>0</td>\n",
              "      <td>1</td>\n",
              "      <td>0</td>\n",
              "      <td>0</td>\n",
              "      <td>0</td>\n",
              "      <td>0</td>\n",
              "      <td>0</td>\n",
              "      <td>0</td>\n",
              "      <td>0</td>\n",
              "      <td>0</td>\n",
              "      <td>1</td>\n",
              "      <td>0</td>\n",
              "      <td>0</td>\n",
              "      <td>0</td>\n",
              "      <td>0</td>\n",
              "      <td>0</td>\n",
              "      <td>0</td>\n",
              "      <td>0</td>\n",
              "      <td>0</td>\n",
              "      <td>0</td>\n",
              "      <td>0</td>\n",
              "      <td>0</td>\n",
              "      <td>1</td>\n",
              "      <td>0</td>\n",
              "      <td>0</td>\n",
              "      <td>0</td>\n",
              "      <td>0</td>\n",
              "      <td>1</td>\n",
              "      <td>0</td>\n",
              "    </tr>\n",
              "    <tr>\n",
              "      <th>3</th>\n",
              "      <td>4560.0</td>\n",
              "      <td>2964.0</td>\n",
              "      <td>1</td>\n",
              "      <td>0</td>\n",
              "      <td>1</td>\n",
              "      <td>0</td>\n",
              "      <td>0</td>\n",
              "      <td>1</td>\n",
              "      <td>0</td>\n",
              "      <td>1</td>\n",
              "      <td>0</td>\n",
              "      <td>0</td>\n",
              "      <td>0</td>\n",
              "      <td>0</td>\n",
              "      <td>0</td>\n",
              "      <td>0</td>\n",
              "      <td>0</td>\n",
              "      <td>0</td>\n",
              "      <td>1</td>\n",
              "      <td>0</td>\n",
              "      <td>0</td>\n",
              "      <td>0</td>\n",
              "      <td>0</td>\n",
              "      <td>0</td>\n",
              "      <td>0</td>\n",
              "      <td>0</td>\n",
              "      <td>0</td>\n",
              "      <td>0</td>\n",
              "      <td>0</td>\n",
              "      <td>1</td>\n",
              "      <td>0</td>\n",
              "      <td>0</td>\n",
              "      <td>0</td>\n",
              "      <td>0</td>\n",
              "      <td>0</td>\n",
              "      <td>1</td>\n",
              "      <td>0</td>\n",
              "    </tr>\n",
              "    <tr>\n",
              "      <th>4</th>\n",
              "      <td>4560.0</td>\n",
              "      <td>2964.0</td>\n",
              "      <td>1</td>\n",
              "      <td>0</td>\n",
              "      <td>1</td>\n",
              "      <td>0</td>\n",
              "      <td>0</td>\n",
              "      <td>1</td>\n",
              "      <td>0</td>\n",
              "      <td>1</td>\n",
              "      <td>0</td>\n",
              "      <td>0</td>\n",
              "      <td>0</td>\n",
              "      <td>0</td>\n",
              "      <td>0</td>\n",
              "      <td>0</td>\n",
              "      <td>0</td>\n",
              "      <td>0</td>\n",
              "      <td>1</td>\n",
              "      <td>0</td>\n",
              "      <td>0</td>\n",
              "      <td>0</td>\n",
              "      <td>0</td>\n",
              "      <td>0</td>\n",
              "      <td>0</td>\n",
              "      <td>0</td>\n",
              "      <td>0</td>\n",
              "      <td>0</td>\n",
              "      <td>0</td>\n",
              "      <td>1</td>\n",
              "      <td>0</td>\n",
              "      <td>0</td>\n",
              "      <td>0</td>\n",
              "      <td>0</td>\n",
              "      <td>0</td>\n",
              "      <td>1</td>\n",
              "      <td>0</td>\n",
              "    </tr>\n",
              "  </tbody>\n",
              "</table>\n",
              "</div>"
            ],
            "text/plain": [
              "   Gross ARR  ...  Revenue Line Item Coded_Sugar Ultimate\n",
              "0     4560.0  ...                                       0\n",
              "1     4560.0  ...                                       0\n",
              "2     4560.0  ...                                       0\n",
              "3     4560.0  ...                                       0\n",
              "4     4560.0  ...                                       0\n",
              "\n",
              "[5 rows x 37 columns]"
            ]
          },
          "metadata": {
            "tags": []
          },
          "execution_count": 19
        }
      ]
    },
    {
      "cell_type": "markdown",
      "metadata": {
        "id": "Wz72tat88RCx",
        "colab_type": "text"
      },
      "source": [
        "### Separate the 'X' matrix and 'y' output vector."
      ]
    },
    {
      "cell_type": "code",
      "metadata": {
        "id": "SUPKGtWw7OST",
        "colab_type": "code",
        "colab": {}
      },
      "source": [
        "X = df_final.loc[:, df_final.columns != 'Converted?']\n",
        "X = pd.DataFrame(X)\n",
        "y = df_final.loc[:, df_final.columns == 'Converted?']\n",
        "y = pd.DataFrame(y)"
      ],
      "execution_count": 0,
      "outputs": []
    },
    {
      "cell_type": "markdown",
      "metadata": {
        "id": "EqhOkcTeOZOf",
        "colab_type": "text"
      },
      "source": [
        "### Feature selection is a process where one automatically selects those features in in a dataset that contribute most to the prediction variable or output in which one are interested. Recursive Feature Elimination (RFE) is based on the idea to repeatedly construct a model and choose either the best or worst performing feature, setting the feature aside and then repeating the process with the rest of the features. This process is applied until all features in the dataset are exhausted. The goal of RFE is to select features by recursively considering smaller and smaller sets of features."
      ]
    },
    {
      "cell_type": "code",
      "metadata": {
        "id": "Db4vbb1oN3t8",
        "colab_type": "code",
        "outputId": "50f5df9d-3b8f-49be-c90a-ad1ee2d506b7",
        "colab": {
          "base_uri": "https://localhost:8080/",
          "height": 156
        }
      },
      "source": [
        "df_final_vars=df_final.columns.values.tolist()\n",
        "# y=['Converted?']\n",
        "# X=[i for i in df_final_vars if i not in y]\n",
        "\n",
        "from sklearn.feature_selection import RFE\n",
        "from sklearn.linear_model import LogisticRegression\n",
        "\n",
        "logreg = LogisticRegression(solver='lbfgs')            # create a base logistic regression classifier used to evaluate a subset of attributes\n",
        "selector = RFE(logreg, 5, step=1)                      # create the RFE model and select 5 attributes\n",
        "selector = selector.fit(X, y)                          # summarize the selection of the attributes\n",
        "print(selector.support_)\n",
        "print(selector.ranking_)"
      ],
      "execution_count": 0,
      "outputs": [
        {
          "output_type": "stream",
          "text": [
            "/usr/local/lib/python3.6/dist-packages/sklearn/utils/validation.py:724: DataConversionWarning: A column-vector y was passed when a 1d array was expected. Please change the shape of y to (n_samples, ), for example using ravel().\n",
            "  y = column_or_1d(y, warn=True)\n"
          ],
          "name": "stderr"
        },
        {
          "output_type": "stream",
          "text": [
            "[ True False False False False  True  True False False False False False\n",
            " False False False  True False False False False False False False False\n",
            " False False False False  True False False False False False False False]\n",
            "[ 1 32 20  7 28  1  1 25  3 26 27 18 14 21  9  1  4 29 13 16  8  2  5 23\n",
            " 11  6 15 19  1 12 24 22 30 10 17 31]\n"
          ],
          "name": "stdout"
        }
      ]
    },
    {
      "cell_type": "markdown",
      "metadata": {
        "id": "m9dWQp_6Qyok",
        "colab_type": "text"
      },
      "source": [
        "### The RFE has helped us select the following features: “Gross ARR”, \"# of Employees_1000+'', “Opportunity Type_Additional”, “Meta Industry_Manufacturing”, 'Last Sales Stage 3_Order Desk Review'."
      ]
    },
    {
      "cell_type": "code",
      "metadata": {
        "id": "kE-uZvFsR4r3",
        "colab_type": "code",
        "colab": {}
      },
      "source": [
        "cols=['Gross ARR', '# of Employees Group_1000+', 'Opportunity Type_Additional','Meta Industry_Manufacturing','Last Sales Stage 3_Order Desk Review'] \n",
        "X = X[cols]"
      ],
      "execution_count": 0,
      "outputs": []
    },
    {
      "cell_type": "markdown",
      "metadata": {
        "id": "2rwHXlQV3E2b",
        "colab_type": "text"
      },
      "source": [
        "### Separate 'X' and 'y' into train and test sets."
      ]
    },
    {
      "cell_type": "code",
      "metadata": {
        "id": "vEhwN1uH3RfC",
        "colab_type": "code",
        "colab": {}
      },
      "source": [
        "X_train, X_test, y_train, y_test = train_test_split(X, y, test_size=0.3, random_state=0)"
      ],
      "execution_count": 0,
      "outputs": []
    },
    {
      "cell_type": "markdown",
      "metadata": {
        "id": "5Z9cpvGKTwtx",
        "colab_type": "text"
      },
      "source": [
        "Now, we implement the Logistic Regression model."
      ]
    },
    {
      "cell_type": "code",
      "metadata": {
        "id": "OpCnFcfITwFZ",
        "colab_type": "code",
        "outputId": "ef54c02e-46f8-4779-e4e1-82f5de3a84aa",
        "colab": {
          "base_uri": "https://localhost:8080/",
          "height": 408
        }
      },
      "source": [
        "import statsmodels.api as sm\n",
        "logit_model=sm.Logit(y_train,X_train)\n",
        "result=logit_model.fit()\n",
        "print(result.summary2())"
      ],
      "execution_count": 0,
      "outputs": [
        {
          "output_type": "stream",
          "text": [
            "Optimization terminated successfully.\n",
            "         Current function value: 0.476066\n",
            "         Iterations 9\n",
            "                                   Results: Logit\n",
            "=====================================================================================\n",
            "Model:                      Logit                  Pseudo R-squared:       0.313     \n",
            "Dependent Variable:         Converted?             AIC:                    27551.3505\n",
            "Date:                       2019-06-05 13:39       BIC:                    27592.7130\n",
            "No. Observations:           28926                  Log-Likelihood:         -13771.   \n",
            "Df Model:                   4                      LL-Null:                -20042.   \n",
            "Df Residuals:               28921                  LLR p-value:            0.0000    \n",
            "Converged:                  1.0000                 Scale:                  1.0000    \n",
            "No. Iterations:             9.0000                                                   \n",
            "-------------------------------------------------------------------------------------\n",
            "                                      Coef.  Std.Err.    z     P>|z|   [0.025  0.975]\n",
            "-------------------------------------------------------------------------------------\n",
            "Gross ARR                            -0.0000   0.0000 -33.6870 0.0000 -0.0000 -0.0000\n",
            "# of Employees Group_1000+           -0.6707   0.0533 -12.5800 0.0000 -0.7752 -0.5662\n",
            "Opportunity Type_Additional           1.5041   0.0308  48.9032 0.0000  1.4438  1.5644\n",
            "Meta Industry_Manufacturing           0.5720   0.0585   9.7784 0.0000  0.4573  0.6866\n",
            "Last Sales Stage 3_Order Desk Review  4.3286   0.1489  29.0742 0.0000  4.0368  4.6204\n",
            "=====================================================================================\n",
            "\n"
          ],
          "name": "stdout"
        }
      ]
    },
    {
      "cell_type": "markdown",
      "metadata": {
        "id": "DLBN6QV2UPR5",
        "colab_type": "text"
      },
      "source": [
        "### The p-values for most of the variables are smaller than 0.05, except for 'Gross ARR' and 'Net ARR', therefore, we will remove them."
      ]
    },
    {
      "cell_type": "code",
      "metadata": {
        "id": "JajGEzW8UZZV",
        "colab_type": "code",
        "colab": {}
      },
      "source": [
        "cols=['Opportunity Type_Additional', 'Opportunity Type_New', 'Meta Industry_Manufacturing'] \n",
        "X_train = X_train[cols]\n",
        "\n",
        "logit_model=sm.Logit(y_train,X_train)\n",
        "result=logit_model.fit()\n",
        "print(result.summary2())"
      ],
      "execution_count": 0,
      "outputs": []
    },
    {
      "cell_type": "markdown",
      "metadata": {
        "id": "nEHCDYXvUt51",
        "colab_type": "text"
      },
      "source": [
        "### Logistic Regression model fitting..."
      ]
    },
    {
      "cell_type": "code",
      "metadata": {
        "id": "5ztkD_spUtCE",
        "colab_type": "code",
        "outputId": "e3f0cbb0-feaf-4409-c1c2-118399a94215",
        "colab": {
          "base_uri": "https://localhost:8080/",
          "height": 190
        }
      },
      "source": [
        "from sklearn.linear_model import LogisticRegression\n",
        "from sklearn import metrics\n",
        "# X_train, X_test, y_train, y_test = train_test_split(X, y, test_size=0.3, random_state=0)\n",
        "logreg = LogisticRegression()\n",
        "logreg.fit(X_train, y_train)"
      ],
      "execution_count": 0,
      "outputs": [
        {
          "output_type": "stream",
          "text": [
            "/usr/local/lib/python3.6/dist-packages/sklearn/linear_model/logistic.py:432: FutureWarning: Default solver will be changed to 'lbfgs' in 0.22. Specify a solver to silence this warning.\n",
            "  FutureWarning)\n",
            "/usr/local/lib/python3.6/dist-packages/sklearn/utils/validation.py:724: DataConversionWarning: A column-vector y was passed when a 1d array was expected. Please change the shape of y to (n_samples, ), for example using ravel().\n",
            "  y = column_or_1d(y, warn=True)\n"
          ],
          "name": "stderr"
        },
        {
          "output_type": "execute_result",
          "data": {
            "text/plain": [
              "LogisticRegression(C=1.0, class_weight=None, dual=False, fit_intercept=True,\n",
              "                   intercept_scaling=1, l1_ratio=None, max_iter=100,\n",
              "                   multi_class='warn', n_jobs=None, penalty='l2',\n",
              "                   random_state=None, solver='warn', tol=0.0001, verbose=0,\n",
              "                   warm_start=False)"
            ]
          },
          "metadata": {
            "tags": []
          },
          "execution_count": 27
        }
      ]
    },
    {
      "cell_type": "markdown",
      "metadata": {
        "id": "dhdBZOT3U_PD",
        "colab_type": "text"
      },
      "source": [
        "Now, we predict how the test set performs and calculate the accuracy."
      ]
    },
    {
      "cell_type": "code",
      "metadata": {
        "id": "_tuVmCYDVPRY",
        "colab_type": "code",
        "outputId": "cbd5823c-6576-4cc2-f7d7-c8afd9541759",
        "colab": {
          "base_uri": "https://localhost:8080/",
          "height": 34
        }
      },
      "source": [
        "y_pred = logreg.predict(X_test)\n",
        "print('Accuracy of logistic regression classifier on test set: {:.2f}'.format(logreg.score(X_test, y_test)))"
      ],
      "execution_count": 0,
      "outputs": [
        {
          "output_type": "stream",
          "text": [
            "Accuracy of logistic regression classifier on test set: 0.50\n"
          ],
          "name": "stdout"
        }
      ]
    },
    {
      "cell_type": "markdown",
      "metadata": {
        "id": "opeb7afYVm-K",
        "colab_type": "text"
      },
      "source": [
        "Determine the elements of the 'Confusion' matrix."
      ]
    },
    {
      "cell_type": "code",
      "metadata": {
        "id": "jdVdX8dAVsp6",
        "colab_type": "code",
        "outputId": "10e62b6e-fafd-40f2-d2b1-878c669bed22",
        "colab": {
          "base_uri": "https://localhost:8080/",
          "height": 51
        }
      },
      "source": [
        "from sklearn.metrics import confusion_matrix\n",
        "confusion_matrix = confusion_matrix(y_test, y_pred)\n",
        "print(confusion_matrix)"
      ],
      "execution_count": 0,
      "outputs": [
        {
          "output_type": "stream",
          "text": [
            "[[6137  189]\n",
            " [6031   41]]\n"
          ],
          "name": "stdout"
        }
      ]
    },
    {
      "cell_type": "markdown",
      "metadata": {
        "id": "u-pKroprV6pi",
        "colab_type": "text"
      },
      "source": [
        "The Confusion matrix tells us that we have 6137+41 = 6178 correct predictions and 6031+189 = 6220 incorrect predictions.  Now, we compute the precision, recall, F-measure and support metrics."
      ]
    },
    {
      "cell_type": "markdown",
      "metadata": {
        "id": "mP9SzeJ2W7y8",
        "colab_type": "text"
      },
      "source": [
        "The **precision is the ratio tp / (tp + fp)** where tp is the number of true positives and fp the number of false positives. The precision is intuitively the ability of the classifier to not label a sample as positive if it is negative.\n",
        "The **recall is the ratio tp / (tp + fn)** where tp is the number of true positives and fn the number of false negatives. The recall is intuitively the ability of the classifier to find all the positive samples.\n",
        "The **F-beta score can be interpreted as a weighted harmonic mean of the precision and recall, where an F-beta score reaches its best value at 1 and worst score at 0.**\n",
        "The F-beta score weights the recall more than the precision by a factor of beta. beta = 1.0 means recall and precision are equally important.\n",
        "The **support is the number of occurrences of each class in y_test**."
      ]
    },
    {
      "cell_type": "code",
      "metadata": {
        "id": "qIZs2H3DWqhR",
        "colab_type": "code",
        "outputId": "9a403aae-1aaf-4a8d-e4ed-aa5ef4d5ffdf",
        "colab": {
          "base_uri": "https://localhost:8080/",
          "height": 170
        }
      },
      "source": [
        "from sklearn.metrics import classification_report\n",
        "print(classification_report(y_test, y_pred))"
      ],
      "execution_count": 0,
      "outputs": [
        {
          "output_type": "stream",
          "text": [
            "              precision    recall  f1-score   support\n",
            "\n",
            "           0       0.50      0.97      0.66      6326\n",
            "           1       0.18      0.01      0.01      6072\n",
            "\n",
            "    accuracy                           0.50     12398\n",
            "   macro avg       0.34      0.49      0.34     12398\n",
            "weighted avg       0.34      0.50      0.35     12398\n",
            "\n"
          ],
          "name": "stdout"
        }
      ]
    },
    {
      "cell_type": "markdown",
      "metadata": {
        "id": "k6aXkPURYiyU",
        "colab_type": "text"
      },
      "source": [
        "**Interpretation:** Of the entire test set, 50% of the promoted term deposit were the term deposit that the customers liked. Of the entire test set, 50% of the customer’s preferred term deposits that were promoted."
      ]
    },
    {
      "cell_type": "markdown",
      "metadata": {
        "id": "mpL0NFT8Yxo6",
        "colab_type": "text"
      },
      "source": [
        "### Receiver Operating Characteristc (ROC) Curve"
      ]
    },
    {
      "cell_type": "code",
      "metadata": {
        "id": "i5m0YhoNYyTx",
        "colab_type": "code",
        "outputId": "3431622f-b97e-4fa6-980d-fbf743cd8f4e",
        "colab": {
          "base_uri": "https://localhost:8080/",
          "height": 301
        }
      },
      "source": [
        "from sklearn.metrics import roc_auc_score\n",
        "from sklearn.metrics import roc_curve\n",
        "logit_roc_auc = roc_auc_score(y_test, logreg.predict(X_test))\n",
        "fpr, tpr, thresholds = roc_curve(y_test, logreg.predict_proba(X_test)[:,1])\n",
        "plt.figure()\n",
        "plt.plot(fpr, tpr, label='Logistic Regression (area = %0.2f)' % logit_roc_auc)\n",
        "plt.plot([0, 1], [0, 1],'r--')\n",
        "plt.xlim([0.0, 1.0])\n",
        "plt.ylim([0.0, 1.05])\n",
        "plt.xlabel('False Positive Rate')\n",
        "plt.ylabel('True Positive Rate')\n",
        "plt.title('Receiver operating characteristic')\n",
        "plt.legend(loc=\"lower right\")\n",
        "plt.savefig('Log_ROC')\n",
        "plt.show()"
      ],
      "execution_count": 0,
      "outputs": [
        {
          "output_type": "display_data",
          "data": {
            "image/png": "[encoded data removed]",
            "text/plain": [
              "<Figure size 432x288 with 1 Axes>"
            ]
          },
          "metadata": {
            "tags": []
          }
        }
      ]
    },
    {
      "cell_type": "markdown",
      "metadata": {
        "id": "uF0jcHMTZseU",
        "colab_type": "text"
      },
      "source": [
        "The receiver operating characteristic (ROC) curve is another common tool used with binary classifiers. The dotted line represents the ROC curve of a purely random classifier; a good classifier stays as far away from that line as possible (toward the top-left corner)."
      ]
    }
  ]
}