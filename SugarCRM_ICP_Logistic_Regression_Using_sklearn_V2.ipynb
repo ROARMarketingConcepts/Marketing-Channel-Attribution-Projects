{
  "nbformat": 4,
  "nbformat_minor": 0,
  "metadata": {
    "colab": {
      "name": "SugarCRM ICP Logistic Regression Using sklearn V2.ipynb",
      "version": "0.3.2",
      "provenance": [],
      "collapsed_sections": [],
      "include_colab_link": true
    },
    "kernelspec": {
      "name": "python3",
      "display_name": "Python 3"
    }
  },
  "cells": [
    {
      "cell_type": "markdown",
      "metadata": {
        "id": "view-in-github",
        "colab_type": "text"
      },
      "source": [
        "<a href=\"https://colab.research.google.com/github/ROARMarketingConcepts/SugarCRM/blob/master/SugarCRM_ICP_Logistic_Regression_Using_sklearn_V2.ipynb\" target=\"_parent\"><img src=\"https://colab.research.google.com/assets/colab-badge.svg\" alt=\"Open In Colab\"/></a>"
      ]
    },
    {
      "cell_type": "markdown",
      "metadata": {
        "id": "jERAcrZJ8jNL",
        "colab_type": "text"
      },
      "source": [
        "## SugarCRM ICP Analysis Using Logistic Regression\n",
        "\n",
        "### Version 2\n",
        "\n",
        "### Regression uses the Limited-Memory Broyden-Fletcher-Goldfarb-Shanno (LBFGS) optimization algorithm for parameter estimation. "
      ]
    },
    {
      "cell_type": "markdown",
      "metadata": {
        "id": "MVsOTX3f9BP-",
        "colab_type": "text"
      },
      "source": [
        "Performed by:\n",
        "\n",
        "Ken Wood\n",
        "\n",
        "Marketing Data Scientist\n",
        "\n",
        "SugarCRM\n",
        "\n",
        "kwood@sugarcrm.com\n",
        "\n",
        "(919) 802-0065\n",
        "\n"
      ]
    },
    {
      "cell_type": "markdown",
      "metadata": {
        "id": "XhwsQEl58tcx",
        "colab_type": "text"
      },
      "source": [
        "### Mount the Google Drive where the data files are located."
      ]
    },
    {
      "cell_type": "code",
      "metadata": {
        "id": "9f2B1jVo5WzN",
        "colab_type": "code",
        "outputId": "1791bb7f-7398-4a5f-d3fa-b449dc029637",
        "colab": {
          "base_uri": "https://localhost:8080/",
          "height": 34
        }
      },
      "source": [
        "from google.colab import drive\n",
        "drive.mount('/content/drive/')"
      ],
      "execution_count": 1,
      "outputs": [
        {
          "output_type": "stream",
          "text": [
            "Drive already mounted at /content/drive/; to attempt to forcibly remount, call drive.mount(\"/content/drive/\", force_remount=True).\n"
          ],
          "name": "stdout"
        }
      ]
    },
    {
      "cell_type": "markdown",
      "metadata": {
        "id": "ovVN_46lxUC6",
        "colab_type": "text"
      },
      "source": [
        "### Load the necessary Python software packages to perform the logistic regression..."
      ]
    },
    {
      "cell_type": "code",
      "metadata": {
        "id": "p7WqPuZNxQb_",
        "colab_type": "code",
        "colab": {}
      },
      "source": [
        "import pandas as pd\n",
        "import numpy as np\n",
        "from sklearn import preprocessing\n",
        "import matplotlib.pyplot as plt \n",
        "plt.rc(\"font\", size=14)\n",
        "from sklearn.linear_model import LogisticRegression\n",
        "from sklearn.model_selection import train_test_split\n",
        "from datetime import datetime\n",
        "import seaborn as sns\n",
        "sns.set(style=\"white\")\n",
        "sns.set(style=\"whitegrid\", color_codes=True)"
      ],
      "execution_count": 0,
      "outputs": []
    },
    {
      "cell_type": "markdown",
      "metadata": {
        "id": "A4WjZDWv4S3A",
        "colab_type": "text"
      },
      "source": [
        "### Load the 'opp_data' file from location *''/content/drive/My Drive/Colab Notebooks/SugarCRM ICP Analysis/'* and develop some summary statistics."
      ]
    },
    {
      "cell_type": "code",
      "metadata": {
        "colab_type": "code",
        "id": "R5pqHgvG8c87",
        "outputId": "841a0ad2-e101-41d6-fa67-29de107c296b",
        "colab": {
          "base_uri": "https://localhost:8080/",
          "height": 272
        }
      },
      "source": [
        "df = pd.read_csv('/content/drive/My Drive/Colab Notebooks/SugarCRM ICP Analysis/opportunity_data.csv')\n",
        "df[\"Gross ARR\"] = df[\"Gross ARR\"].astype(float)\n",
        "df[\"Creation to Qualification (Days)\"] = pd.to_numeric(df[\"Creation to Qualification (Days)\"], errors='coerce',downcast='unsigned')\n",
        "df.info()"
      ],
      "execution_count": 3,
      "outputs": [
        {
          "output_type": "stream",
          "text": [
            "<class 'pandas.core.frame.DataFrame'>\n",
            "RangeIndex: 1294 entries, 0 to 1293\n",
            "Data columns (total 10 columns):\n",
            "Creation to Qualification (Days)    1294 non-null uint16\n",
            "Time Since Creation (Days)          1294 non-null int64\n",
            "Lead Source                         1294 non-null object\n",
            "Lead Source Detail Code             1294 non-null object\n",
            "# of Employees Group 2              1294 non-null object\n",
            "Revenue Line Item                   1294 non-null object\n",
            "Customer Job Title Code             1294 non-null object\n",
            "Region Code                         1294 non-null object\n",
            "Gross ARR                           1294 non-null float64\n",
            "Converted?                          1294 non-null int64\n",
            "dtypes: float64(1), int64(2), object(6), uint16(1)\n",
            "memory usage: 93.6+ KB\n"
          ],
          "name": "stdout"
        }
      ]
    },
    {
      "cell_type": "markdown",
      "metadata": {
        "id": "3snJRvzEP_wU",
        "colab_type": "text"
      },
      "source": [
        "## Input (independent) variables\n",
        "\n",
        "1. **Creation to Qualification (Days)** - time duration between opportunity creation and qualification by Sales\n",
        "5. **Time Since Creation (Days)** \n",
        "6. **Lead Source**  - marketing lead source ('Online Advertising', 'Resource Library', 'Email', 'Event',\n",
        "      'Content Syndication', 'List Purchase', 'Webinar', 'Social', 'Telemarketing')\n",
        "6. **Lead Source**  \n",
        "7. **Lead Source Detail Code**\n",
        "9.  **# of Employees Group 2** (categorical: “0-100”, “100-1000”, \"1000+\")\n",
        "23. **Revenue Line Item** (SugarCRM product)\n",
        "24. **Customer Job Title Code**\n",
        "25. **Region Code**\n",
        "26. **Partner Assigned To**\n",
        "26. **Gross ARR** (Gross Annual Recurring Revenue)\n",
        "\n",
        "## Dependent variable (desired target):\n",
        "\n",
        "13. **Converted?** (binary variable: 1 = \"Yes\", 0 = \"No\")\n",
        "\n"
      ]
    },
    {
      "cell_type": "code",
      "metadata": {
        "id": "E9kwOWPL3Y76",
        "colab_type": "code",
        "outputId": "4f742e73-6827-4779-9734-7584c30a91a6",
        "colab": {
          "base_uri": "https://localhost:8080/",
          "height": 289
        }
      },
      "source": [
        "df.head()"
      ],
      "execution_count": 4,
      "outputs": [
        {
          "output_type": "execute_result",
          "data": {
            "text/html": [
              "<div>\n",
              "<style scoped>\n",
              "    .dataframe tbody tr th:only-of-type {\n",
              "        vertical-align: middle;\n",
              "    }\n",
              "\n",
              "    .dataframe tbody tr th {\n",
              "        vertical-align: top;\n",
              "    }\n",
              "\n",
              "    .dataframe thead th {\n",
              "        text-align: right;\n",
              "    }\n",
              "</style>\n",
              "<table border=\"1\" class=\"dataframe\">\n",
              "  <thead>\n",
              "    <tr style=\"text-align: right;\">\n",
              "      <th></th>\n",
              "      <th>Creation to Qualification (Days)</th>\n",
              "      <th>Time Since Creation (Days)</th>\n",
              "      <th>Lead Source</th>\n",
              "      <th>Lead Source Detail Code</th>\n",
              "      <th># of Employees Group 2</th>\n",
              "      <th>Revenue Line Item</th>\n",
              "      <th>Customer Job Title Code</th>\n",
              "      <th>Region Code</th>\n",
              "      <th>Gross ARR</th>\n",
              "      <th>Converted?</th>\n",
              "    </tr>\n",
              "  </thead>\n",
              "  <tbody>\n",
              "    <tr>\n",
              "      <th>0</th>\n",
              "      <td>0</td>\n",
              "      <td>48</td>\n",
              "      <td>Email</td>\n",
              "      <td>Contact Us</td>\n",
              "      <td>0-100</td>\n",
              "      <td>Sugar Enterprise</td>\n",
              "      <td>Commercial Operations</td>\n",
              "      <td>NAM</td>\n",
              "      <td>7800.0</td>\n",
              "      <td>0</td>\n",
              "    </tr>\n",
              "    <tr>\n",
              "      <th>1</th>\n",
              "      <td>1</td>\n",
              "      <td>38</td>\n",
              "      <td>Online Advertising</td>\n",
              "      <td>Demo</td>\n",
              "      <td>0-100</td>\n",
              "      <td>Sugar Enterprise</td>\n",
              "      <td>C-Suite</td>\n",
              "      <td>NAM</td>\n",
              "      <td>3900.0</td>\n",
              "      <td>0</td>\n",
              "    </tr>\n",
              "    <tr>\n",
              "      <th>2</th>\n",
              "      <td>28</td>\n",
              "      <td>48</td>\n",
              "      <td>Online Advertising</td>\n",
              "      <td>Free Trial</td>\n",
              "      <td>1000+</td>\n",
              "      <td>Sugar Enterprise</td>\n",
              "      <td>VP/Director</td>\n",
              "      <td>NAM</td>\n",
              "      <td>15600.0</td>\n",
              "      <td>0</td>\n",
              "    </tr>\n",
              "    <tr>\n",
              "      <th>3</th>\n",
              "      <td>23</td>\n",
              "      <td>217</td>\n",
              "      <td>Resource Library</td>\n",
              "      <td>Free Trial</td>\n",
              "      <td>0-100</td>\n",
              "      <td>Sugar Professional</td>\n",
              "      <td>VP/Director</td>\n",
              "      <td>NAM</td>\n",
              "      <td>4800.0</td>\n",
              "      <td>0</td>\n",
              "    </tr>\n",
              "    <tr>\n",
              "      <th>4</th>\n",
              "      <td>0</td>\n",
              "      <td>85</td>\n",
              "      <td>Resource Library</td>\n",
              "      <td>Demo</td>\n",
              "      <td>0-100</td>\n",
              "      <td>Sugar Enterprise</td>\n",
              "      <td>Marketing</td>\n",
              "      <td>EMEA</td>\n",
              "      <td>7800.0</td>\n",
              "      <td>0</td>\n",
              "    </tr>\n",
              "  </tbody>\n",
              "</table>\n",
              "</div>"
            ],
            "text/plain": [
              "   Creation to Qualification (Days)  ...  Converted?\n",
              "0                                 0  ...           0\n",
              "1                                 1  ...           0\n",
              "2                                28  ...           0\n",
              "3                                23  ...           0\n",
              "4                                 0  ...           0\n",
              "\n",
              "[5 rows x 10 columns]"
            ]
          },
          "metadata": {
            "tags": []
          },
          "execution_count": 4
        }
      ]
    },
    {
      "cell_type": "markdown",
      "metadata": {
        "id": "1BbRK6WbHhCF",
        "colab_type": "text"
      },
      "source": [
        "### Let's now do some data exploration!"
      ]
    },
    {
      "cell_type": "code",
      "metadata": {
        "id": "ec5oAuTsjWhK",
        "colab_type": "code",
        "outputId": "fa1a1ee9-ad9b-494d-9e56-67ce79d18234",
        "colab": {
          "base_uri": "https://localhost:8080/",
          "height": 374
        }
      },
      "source": [
        "print(\"Shape of dataframe: \",df.shape,\"\\n\")             # Get shape of dataframe.\n",
        "print(df.head())                                        # Print first 5 rows of dataframe.\n",
        "print(df.describe())                                    # Get some summary stats on the numeric variables"
      ],
      "execution_count": 5,
      "outputs": [
        {
          "output_type": "stream",
          "text": [
            "Shape of dataframe:  (1294, 10) \n",
            "\n",
            "   Creation to Qualification (Days)  ...  Converted?\n",
            "0                                 0  ...           0\n",
            "1                                 1  ...           0\n",
            "2                                28  ...           0\n",
            "3                                23  ...           0\n",
            "4                                 0  ...           0\n",
            "\n",
            "[5 rows x 10 columns]\n",
            "       Creation to Qualification (Days)  ...   Converted?\n",
            "count                       1294.000000  ...  1294.000000\n",
            "mean                          16.699382  ...     0.367852\n",
            "std                           60.378197  ...     0.482407\n",
            "min                            0.000000  ...     0.000000\n",
            "25%                            0.000000  ...     0.000000\n",
            "50%                            0.000000  ...     0.000000\n",
            "75%                            8.000000  ...     1.000000\n",
            "max                         1156.000000  ...     1.000000\n",
            "\n",
            "[8 rows x 4 columns]\n"
          ],
          "name": "stdout"
        }
      ]
    },
    {
      "cell_type": "code",
      "metadata": {
        "id": "uQwNw3zHH61f",
        "colab_type": "code",
        "outputId": "f34dc5f5-124c-4a31-c689-075dad89240f",
        "colab": {
          "base_uri": "https://localhost:8080/",
          "height": 68
        }
      },
      "source": [
        "zeros,ones = df['Converted?'].value_counts()\n",
        "print('numzeros: ',zeros,'numones: ',ones)\n",
        "print('Percentage of opportunities that converted:', round((ones*100)/(zeros+ones),1),'%')\n",
        "print('Percentage of opportunities that did not convert:', round((zeros*100)/(zeros+ones),1),'%')"
      ],
      "execution_count": 6,
      "outputs": [
        {
          "output_type": "stream",
          "text": [
            "numzeros:  818 numones:  476\n",
            "Percentage of opportunities that converted: 36.8 %\n",
            "Percentage of opportunities that did not convert: 63.2 %\n"
          ],
          "name": "stdout"
        }
      ]
    },
    {
      "cell_type": "markdown",
      "metadata": {
        "id": "h1KqVFkc4l1H",
        "colab_type": "text"
      },
      "source": [
        "### Plot the number of ones and zeros."
      ]
    },
    {
      "cell_type": "code",
      "metadata": {
        "id": "X7sMgG0i46uE",
        "colab_type": "code",
        "outputId": "52a9330e-50d2-466a-bf74-c27f2dc60d4e",
        "colab": {
          "base_uri": "https://localhost:8080/",
          "height": 308
        }
      },
      "source": [
        "sns.countplot(x=df['Converted?'],palette='hls')"
      ],
      "execution_count": 7,
      "outputs": [
        {
          "output_type": "execute_result",
          "data": {
            "text/plain": [
              "<matplotlib.axes._subplots.AxesSubplot at 0x7f7ad1c2b780>"
            ]
          },
          "metadata": {
            "tags": []
          },
          "execution_count": 7
        },
        {
          "output_type": "display_data",
          "data": {
            "image/png": "[encoded data removed]",
            "text/plain": [
              "<Figure size 432x288 with 1 Axes>"
            ]
          },
          "metadata": {
            "tags": []
          }
        }
      ]
    },
    {
      "cell_type": "code",
      "metadata": {
        "id": "n8J2lkV099rh",
        "colab_type": "code",
        "outputId": "a522a0a4-ff4b-41dc-b506-9070f46e2ad2",
        "colab": {
          "base_uri": "https://localhost:8080/",
          "height": 142
        }
      },
      "source": [
        "means = df.groupby('Converted?').mean()\n",
        "means"
      ],
      "execution_count": 8,
      "outputs": [
        {
          "output_type": "execute_result",
          "data": {
            "text/html": [
              "<div>\n",
              "<style scoped>\n",
              "    .dataframe tbody tr th:only-of-type {\n",
              "        vertical-align: middle;\n",
              "    }\n",
              "\n",
              "    .dataframe tbody tr th {\n",
              "        vertical-align: top;\n",
              "    }\n",
              "\n",
              "    .dataframe thead th {\n",
              "        text-align: right;\n",
              "    }\n",
              "</style>\n",
              "<table border=\"1\" class=\"dataframe\">\n",
              "  <thead>\n",
              "    <tr style=\"text-align: right;\">\n",
              "      <th></th>\n",
              "      <th>Creation to Qualification (Days)</th>\n",
              "      <th>Time Since Creation (Days)</th>\n",
              "      <th>Gross ARR</th>\n",
              "    </tr>\n",
              "    <tr>\n",
              "      <th>Converted?</th>\n",
              "      <th></th>\n",
              "      <th></th>\n",
              "      <th></th>\n",
              "    </tr>\n",
              "  </thead>\n",
              "  <tbody>\n",
              "    <tr>\n",
              "      <th>0</th>\n",
              "      <td>20.338631</td>\n",
              "      <td>131.184597</td>\n",
              "      <td>26832.331015</td>\n",
              "    </tr>\n",
              "    <tr>\n",
              "      <th>1</th>\n",
              "      <td>10.445378</td>\n",
              "      <td>117.808824</td>\n",
              "      <td>17988.537311</td>\n",
              "    </tr>\n",
              "  </tbody>\n",
              "</table>\n",
              "</div>"
            ],
            "text/plain": [
              "            Creation to Qualification (Days)  ...     Gross ARR\n",
              "Converted?                                    ...              \n",
              "0                                  20.338631  ...  26832.331015\n",
              "1                                  10.445378  ...  17988.537311\n",
              "\n",
              "[2 rows x 3 columns]"
            ]
          },
          "metadata": {
            "tags": []
          },
          "execution_count": 8
        }
      ]
    },
    {
      "cell_type": "markdown",
      "metadata": {
        "id": "Cwx7iOdlyI2P",
        "colab_type": "text"
      },
      "source": [
        "### Plot the mean Gross ARR for won and lost opportunities."
      ]
    },
    {
      "cell_type": "code",
      "metadata": {
        "id": "DfifZOMjtdrg",
        "colab_type": "code",
        "outputId": "5ae4164a-f326-4f9d-ac99-8ceeb5ed39b4",
        "colab": {
          "base_uri": "https://localhost:8080/",
          "height": 308
        }
      },
      "source": [
        "sns.barplot(x=means.index,y=means['Gross ARR'], palette='hls')"
      ],
      "execution_count": 9,
      "outputs": [
        {
          "output_type": "execute_result",
          "data": {
            "text/plain": [
              "<matplotlib.axes._subplots.AxesSubplot at 0x7f7ad1bdf8d0>"
            ]
          },
          "metadata": {
            "tags": []
          },
          "execution_count": 9
        },
        {
          "output_type": "display_data",
          "data": {
            "image/png": "[encoded data removed]",
            "text/plain": [
              "<Figure size 432x288 with 1 Axes>"
            ]
          },
          "metadata": {
            "tags": []
          }
        }
      ]
    },
    {
      "cell_type": "markdown",
      "metadata": {
        "id": "HjdeS95f-jTz",
        "colab_type": "text"
      },
      "source": [
        "### *Conclusion: mean Gross ARR is a good predictor of conversion.*\n",
        "\n",
        "\n"
      ]
    },
    {
      "cell_type": "markdown",
      "metadata": {
        "id": "b6-kmbTgy1IU",
        "colab_type": "text"
      },
      "source": [
        "### Let's plot the mean duration between Opportunity Creation  & Opportunity Qualification (Days)"
      ]
    },
    {
      "cell_type": "code",
      "metadata": {
        "id": "myup-PKfykMt",
        "colab_type": "code",
        "outputId": "8193307b-e27a-497d-d14a-8e43b601aff5",
        "colab": {
          "base_uri": "https://localhost:8080/",
          "height": 308
        }
      },
      "source": [
        "sns.barplot(x=means.index,y=means['Creation to Qualification (Days)'], palette='hls')"
      ],
      "execution_count": 10,
      "outputs": [
        {
          "output_type": "execute_result",
          "data": {
            "text/plain": [
              "<matplotlib.axes._subplots.AxesSubplot at 0x7f7acf39bb00>"
            ]
          },
          "metadata": {
            "tags": []
          },
          "execution_count": 10
        },
        {
          "output_type": "display_data",
          "data": {
            "image/png": "[encoded data removed]",
            "text/plain": [
              "<Figure size 432x288 with 1 Axes>"
            ]
          },
          "metadata": {
            "tags": []
          }
        }
      ]
    },
    {
      "cell_type": "markdown",
      "metadata": {
        "id": "Ir3ZCoAOzEh9",
        "colab_type": "text"
      },
      "source": [
        "### *Conclusion: The duration between Opportunity Creation and Opportunity Qualification appears to be a good predictor of conversion.*"
      ]
    },
    {
      "cell_type": "code",
      "metadata": {
        "id": "Du8jn4Q7Jhns",
        "colab_type": "code",
        "outputId": "8bc3a8b3-5ec8-429a-d02b-6c893d981c23",
        "colab": {
          "base_uri": "https://localhost:8080/",
          "height": 308
        }
      },
      "source": [
        "sns.barplot(x=means.index,y=means['Time Since Creation (Days)'], palette='hls')"
      ],
      "execution_count": 11,
      "outputs": [
        {
          "output_type": "execute_result",
          "data": {
            "text/plain": [
              "<matplotlib.axes._subplots.AxesSubplot at 0x7f7acf316ba8>"
            ]
          },
          "metadata": {
            "tags": []
          },
          "execution_count": 11
        },
        {
          "output_type": "display_data",
          "data": {
            "image/png": "[encoded data removed]",
            "text/plain": [
              "<Figure size 432x288 with 1 Axes>"
            ]
          },
          "metadata": {
            "tags": []
          }
        }
      ]
    },
    {
      "cell_type": "markdown",
      "metadata": {
        "id": "zpkBG4--Jujo",
        "colab_type": "text"
      },
      "source": [
        "### *Conclusion: The Time Since Creation (Days) metric does not appear to be a good predictor of conversion.*"
      ]
    },
    {
      "cell_type": "code",
      "metadata": {
        "id": "qUbAWFUdJcs9",
        "colab_type": "code",
        "outputId": "9048e59e-d83c-447d-8103-8f04618c8705",
        "colab": {
          "base_uri": "https://localhost:8080/",
          "height": 344
        }
      },
      "source": [
        "pd.crosstab(df['# of Employees Group 2'],df['Converted?']).plot(kind='bar')\n",
        "plt.title('Conversion Distribution for Company Size')\n",
        "plt.xlabel('Company Size')\n",
        "plt.ylabel('Number of Instances')\n",
        "plt.savefig('pur_fre_month_bar')"
      ],
      "execution_count": 12,
      "outputs": [
        {
          "output_type": "display_data",
          "data": {
            "image/png": "[encoded data removed]",
            "text/plain": [
              "<Figure size 432x288 with 1 Axes>"
            ]
          },
          "metadata": {
            "tags": []
          }
        }
      ]
    },
    {
      "cell_type": "markdown",
      "metadata": {
        "id": "QTqiBftXJj-Q",
        "colab_type": "text"
      },
      "source": [
        "### *Conclusion:  'Company Size' does appear to be a good predictor of conversion.*"
      ]
    },
    {
      "cell_type": "code",
      "metadata": {
        "id": "8od6E2F_LS1w",
        "colab_type": "code",
        "outputId": "296f30b9-6ed5-457b-a018-1c9f380e44dc",
        "colab": {
          "base_uri": "https://localhost:8080/",
          "height": 403
        }
      },
      "source": [
        "pd.crosstab(df['Lead Source'],df['Converted?']).plot(kind='bar')\n",
        "plt.title('Conversion Distribution of Lead Source')\n",
        "plt.xlabel('Lead Source')\n",
        "plt.ylabel('Number of Instances')\n",
        "plt.savefig('pur_fre_pout_bar')"
      ],
      "execution_count": 13,
      "outputs": [
        {
          "output_type": "display_data",
          "data": {
            "image/png": "[encoded data removed]",
            "text/plain": [
              "<Figure size 432x288 with 1 Axes>"
            ]
          },
          "metadata": {
            "tags": []
          }
        }
      ]
    },
    {
      "cell_type": "markdown",
      "metadata": {
        "id": "VJwtHbI_LVdj",
        "colab_type": "text"
      },
      "source": [
        "### *Conclusion:  'Lead Source' does not appear to be a good predictor of conversion.*"
      ]
    },
    {
      "cell_type": "code",
      "metadata": {
        "id": "NoRUuqCGBsHb",
        "colab_type": "code",
        "outputId": "9a4f11ed-b7c5-463c-8ffd-445e8d8bd225",
        "colab": {
          "base_uri": "https://localhost:8080/",
          "height": 396
        }
      },
      "source": [
        "pd.crosstab(df['Lead Source Detail Code'],df['Converted?']).plot(kind='bar')\n",
        "plt.title('Conversion Distribution of Lead Source Detail')\n",
        "plt.xlabel('Lead Source Detail')\n",
        "plt.ylabel('Number of Instances')\n",
        "plt.savefig('pur_fre_pout_bar')"
      ],
      "execution_count": 14,
      "outputs": [
        {
          "output_type": "display_data",
          "data": {
            "image/png": "[encoded data removed]",
            "text/plain": [
              "<Figure size 432x288 with 1 Axes>"
            ]
          },
          "metadata": {
            "tags": []
          }
        }
      ]
    },
    {
      "cell_type": "markdown",
      "metadata": {
        "id": "-yuyuPtThlr6",
        "colab_type": "text"
      },
      "source": [
        "### *Conclusion:  'Lead Source Detail' does not appear to be a good predictor of conversion.*"
      ]
    },
    {
      "cell_type": "code",
      "metadata": {
        "id": "WZJ1VwJ8T3If",
        "colab_type": "code",
        "outputId": "c0902939-7b77-4d90-ac74-55794ef08057",
        "colab": {
          "base_uri": "https://localhost:8080/",
          "height": 328
        }
      },
      "source": [
        "pd.crosstab(df['Region Code'],df['Converted?']).plot(kind='bar')\n",
        "plt.title('Conversion Distribution of Geographic Region')\n",
        "plt.xlabel('Geographic Region')\n",
        "plt.ylabel('Number of Instances')\n",
        "plt.savefig('pur_fre_pout_bar')"
      ],
      "execution_count": 15,
      "outputs": [
        {
          "output_type": "display_data",
          "data": {
            "image/png": "[encoded data removed]",
            "text/plain": [
              "<Figure size 432x288 with 1 Axes>"
            ]
          },
          "metadata": {
            "tags": []
          }
        }
      ]
    },
    {
      "cell_type": "markdown",
      "metadata": {
        "id": "5-OxgKuKWzwl",
        "colab_type": "text"
      },
      "source": [
        "### *Conclusion:  Geographic region does appear to be a good predictor of conversion.*"
      ]
    },
    {
      "cell_type": "code",
      "metadata": {
        "id": "CA-eG5c4XNvC",
        "colab_type": "code",
        "outputId": "d5f008a6-94e3-463b-867b-8ad3f012e8cd",
        "colab": {
          "base_uri": "https://localhost:8080/",
          "height": 422
        }
      },
      "source": [
        "pd.crosstab(df['Customer Job Title Code'],df['Converted?']).plot(kind='bar')\n",
        "plt.title('Conversion Distribution of Customer Job Title Code')\n",
        "plt.xlabel('Customer Job Title Code')\n",
        "plt.ylabel('Number of Instances')\n",
        "plt.savefig('pur_fre_pout_bar')"
      ],
      "execution_count": 16,
      "outputs": [
        {
          "output_type": "display_data",
          "data": {
            "image/png": "[encoded data removed]",
            "text/plain": [
              "<Figure size 432x288 with 1 Axes>"
            ]
          },
          "metadata": {
            "tags": []
          }
        }
      ]
    },
    {
      "cell_type": "markdown",
      "metadata": {
        "id": "_Z9P4N8UZQkb",
        "colab_type": "text"
      },
      "source": [
        "### *Conclusion:  Customer Job Title does appear to be a fair predictor of conversion.*"
      ]
    },
    {
      "cell_type": "code",
      "metadata": {
        "id": "wEF7h_vwcqWS",
        "colab_type": "code",
        "outputId": "ff11d6c7-efdc-465f-b5b0-98dd51bc89a9",
        "colab": {
          "base_uri": "https://localhost:8080/",
          "height": 543
        }
      },
      "source": [
        "pd.crosstab(df['Revenue Line Item'],df['Converted?']).plot(kind='bar')\n",
        "plt.title('Conversion Distribution of Sugar Product')\n",
        "plt.xlabel('Sugar Product')\n",
        "plt.ylabel('Number of Instances')\n",
        "plt.savefig('pur_fre_pout_bar')"
      ],
      "execution_count": 17,
      "outputs": [
        {
          "output_type": "display_data",
          "data": {
            "image/png": "[encoded data removed]",
            "text/plain": [
              "<Figure size 432x288 with 1 Axes>"
            ]
          },
          "metadata": {
            "tags": []
          }
        }
      ]
    },
    {
      "cell_type": "markdown",
      "metadata": {
        "id": "5lP3wQBEfS1-",
        "colab_type": "text"
      },
      "source": [
        "### *Conclusion:  Sugar Product selection does not appear to be a good predictor of conversion.*"
      ]
    },
    {
      "cell_type": "markdown",
      "metadata": {
        "id": "7VQ0zAFjMpCz",
        "colab_type": "text"
      },
      "source": [
        "### Now, we need to create dummy variables for: \n",
        "\n",
        "\n",
        "1.   'Lead Source'\n",
        "2.   'Lead Source Detail Code'\n",
        "3.  '# of Employees Group 2'\n",
        "4.  'Revenue Line Item'\n",
        "5.  'Customer Job Title Code'\n",
        "6.  'Region Code'"
      ]
    },
    {
      "cell_type": "code",
      "metadata": {
        "id": "vGR73VOSOpV_",
        "colab_type": "code",
        "outputId": "fc2ec34a-f3a3-4600-857c-fab6b02230ee",
        "colab": {
          "base_uri": "https://localhost:8080/",
          "height": 187
        }
      },
      "source": [
        "df_vars=df.columns.values.tolist()\n",
        "df_vars"
      ],
      "execution_count": 18,
      "outputs": [
        {
          "output_type": "execute_result",
          "data": {
            "text/plain": [
              "['Creation to Qualification (Days)',\n",
              " 'Time Since Creation (Days)',\n",
              " 'Lead Source',\n",
              " 'Lead Source Detail Code',\n",
              " '# of Employees Group 2',\n",
              " 'Revenue Line Item',\n",
              " 'Customer Job Title Code',\n",
              " 'Region Code',\n",
              " 'Gross ARR',\n",
              " 'Converted?']"
            ]
          },
          "metadata": {
            "tags": []
          },
          "execution_count": 18
        }
      ]
    },
    {
      "cell_type": "code",
      "metadata": {
        "id": "YKMz1OyY7MmO",
        "colab_type": "code",
        "colab": {}
      },
      "source": [
        "cat_vars=['Lead Source','Lead Source Detail Code','# of Employees Group 2','Revenue Line Item','Customer Job Title Code','Region Code']\n",
        "for var in cat_vars:\n",
        "    cat_list='var'+'_'+var\n",
        "    cat_list = pd.get_dummies(df[var], prefix=var)\n",
        "    df1=df.join(cat_list)\n",
        "    df=df1\n",
        "    df"
      ],
      "execution_count": 0,
      "outputs": []
    },
    {
      "cell_type": "code",
      "metadata": {
        "id": "gViK3PeLPFHq",
        "colab_type": "code",
        "colab": {}
      },
      "source": [
        "df_vars=df.columns.values.tolist()\n",
        "cat_vars=['Lead Source','Lead Source Detail Code','# of Employees Group 2','Revenue Line Item','Customer Job Title Code','Region Code']\n",
        "to_keep=[i for i in df_vars if i not in cat_vars]"
      ],
      "execution_count": 0,
      "outputs": []
    },
    {
      "cell_type": "markdown",
      "metadata": {
        "id": "Quj8Y8UsPlsr",
        "colab_type": "text"
      },
      "source": [
        "The final list of variables will be:"
      ]
    },
    {
      "cell_type": "code",
      "metadata": {
        "id": "SiDV40s_PPKU",
        "colab_type": "code",
        "outputId": "0912ad07-ce19-42ee-9550-26089358dbe0",
        "colab": {
          "base_uri": "https://localhost:8080/",
          "height": 952
        }
      },
      "source": [
        "df_final=df[to_keep]\n",
        "df_final.columns.values"
      ],
      "execution_count": 21,
      "outputs": [
        {
          "output_type": "execute_result",
          "data": {
            "text/plain": [
              "array(['Creation to Qualification (Days)', 'Time Since Creation (Days)',\n",
              "       'Gross ARR', 'Converted?', 'Lead Source_Content Syndication',\n",
              "       'Lead Source_Email', 'Lead Source_Event',\n",
              "       'Lead Source_List Purchase', 'Lead Source_Online Advertising',\n",
              "       'Lead Source_Resource Library', 'Lead Source_Social',\n",
              "       'Lead Source_Telemarketing', 'Lead Source_Webinar',\n",
              "       'Lead Source Detail Code_Analyst Report',\n",
              "       \"Lead Source Detail Code_CRM Buyer's Guide\",\n",
              "       'Lead Source Detail Code_Case Study',\n",
              "       'Lead Source Detail Code_Contact Us',\n",
              "       'Lead Source Detail Code_Demo', 'Lead Source Detail Code_Download',\n",
              "       'Lead Source Detail Code_E-book', 'Lead Source Detail Code_Email',\n",
              "       'Lead Source Detail Code_Event',\n",
              "       'Lead Source Detail Code_Free Trial',\n",
              "       'Lead Source Detail Code_Online Advertising',\n",
              "       'Lead Source Detail Code_Resource Library',\n",
              "       'Lead Source Detail Code_SelectHub',\n",
              "       'Lead Source Detail Code_Social Media',\n",
              "       'Lead Source Detail Code_Trade-Show',\n",
              "       'Lead Source Detail Code_Webinar',\n",
              "       'Lead Source Detail Code_Whitepaper',\n",
              "       '# of Employees Group 2_0-100', '# of Employees Group 2_100-1000',\n",
              "       '# of Employees Group 2_1000+',\n",
              "       'Revenue Line Item_24x7x365 P1 Support',\n",
              "       'Revenue Line Item_Collabspot Classic',\n",
              "       'Revenue Line Item_Customer Journey Plug-In',\n",
              "       'Revenue Line Item_OEM Licenses',\n",
              "       'Revenue Line Item_Partner Membership',\n",
              "       'Revenue Line Item_Partnership - OEM',\n",
              "       'Revenue Line Item_Prepaid OEM Royalties',\n",
              "       'Revenue Line Item_Salesfusion 10k Contact Block (upto 50K)',\n",
              "       'Revenue Line Item_Salesfusion Core Package (10K Contacts)',\n",
              "       'Revenue Line Item_Self-Service Portal Users',\n",
              "       'Revenue Line Item_Sugar 5-Seat Edition',\n",
              "       'Revenue Line Item_Sugar Connector for LinkedIn Sales Navigator',\n",
              "       'Revenue Line Item_Sugar Corporate',\n",
              "       'Revenue Line Item_Sugar Enterprise',\n",
              "       'Revenue Line Item_Sugar Limited Use (External)',\n",
              "       'Revenue Line Item_Sugar Limited Use (Internal)',\n",
              "       'Revenue Line Item_Sugar Limited Use (Read-Only)',\n",
              "       'Revenue Line Item_Sugar Professional',\n",
              "       'Revenue Line Item_SugarCRM Hint',\n",
              "       'Customer Job Title Code_Administration',\n",
              "       'Customer Job Title Code_Business Development',\n",
              "       'Customer Job Title Code_C-Suite',\n",
              "       'Customer Job Title Code_Commercial Operations',\n",
              "       'Customer Job Title Code_Consultant',\n",
              "       'Customer Job Title Code_Customer Service',\n",
              "       'Customer Job Title Code_General Management',\n",
              "       'Customer Job Title Code_IT Operations',\n",
              "       'Customer Job Title Code_Marketing',\n",
              "       'Customer Job Title Code_Technology',\n",
              "       'Customer Job Title Code_VP/Director', 'Region Code_APAC',\n",
              "       'Region Code_EMEA', 'Region Code_LATAM', 'Region Code_NAM'],\n",
              "      dtype=object)"
            ]
          },
          "metadata": {
            "tags": []
          },
          "execution_count": 21
        }
      ]
    },
    {
      "cell_type": "code",
      "metadata": {
        "id": "WHo107yIw8fW",
        "colab_type": "code",
        "outputId": "bf84fd1e-7ca5-433a-8e8c-fc09451e96e4",
        "colab": {
          "base_uri": "https://localhost:8080/",
          "height": 343
        }
      },
      "source": [
        "df_final.head()"
      ],
      "execution_count": 22,
      "outputs": [
        {
          "output_type": "execute_result",
          "data": {
            "text/html": [
              "<div>\n",
              "<style scoped>\n",
              "    .dataframe tbody tr th:only-of-type {\n",
              "        vertical-align: middle;\n",
              "    }\n",
              "\n",
              "    .dataframe tbody tr th {\n",
              "        vertical-align: top;\n",
              "    }\n",
              "\n",
              "    .dataframe thead th {\n",
              "        text-align: right;\n",
              "    }\n",
              "</style>\n",
              "<table border=\"1\" class=\"dataframe\">\n",
              "  <thead>\n",
              "    <tr style=\"text-align: right;\">\n",
              "      <th></th>\n",
              "      <th>Creation to Qualification (Days)</th>\n",
              "      <th>Time Since Creation (Days)</th>\n",
              "      <th>Gross ARR</th>\n",
              "      <th>Converted?</th>\n",
              "      <th>Lead Source_Content Syndication</th>\n",
              "      <th>Lead Source_Email</th>\n",
              "      <th>Lead Source_Event</th>\n",
              "      <th>Lead Source_List Purchase</th>\n",
              "      <th>Lead Source_Online Advertising</th>\n",
              "      <th>Lead Source_Resource Library</th>\n",
              "      <th>Lead Source_Social</th>\n",
              "      <th>Lead Source_Telemarketing</th>\n",
              "      <th>Lead Source_Webinar</th>\n",
              "      <th>Lead Source Detail Code_Analyst Report</th>\n",
              "      <th>Lead Source Detail Code_CRM Buyer's Guide</th>\n",
              "      <th>Lead Source Detail Code_Case Study</th>\n",
              "      <th>Lead Source Detail Code_Contact Us</th>\n",
              "      <th>Lead Source Detail Code_Demo</th>\n",
              "      <th>Lead Source Detail Code_Download</th>\n",
              "      <th>Lead Source Detail Code_E-book</th>\n",
              "      <th>Lead Source Detail Code_Email</th>\n",
              "      <th>Lead Source Detail Code_Event</th>\n",
              "      <th>Lead Source Detail Code_Free Trial</th>\n",
              "      <th>Lead Source Detail Code_Online Advertising</th>\n",
              "      <th>Lead Source Detail Code_Resource Library</th>\n",
              "      <th>Lead Source Detail Code_SelectHub</th>\n",
              "      <th>Lead Source Detail Code_Social Media</th>\n",
              "      <th>Lead Source Detail Code_Trade-Show</th>\n",
              "      <th>Lead Source Detail Code_Webinar</th>\n",
              "      <th>Lead Source Detail Code_Whitepaper</th>\n",
              "      <th># of Employees Group 2_0-100</th>\n",
              "      <th># of Employees Group 2_100-1000</th>\n",
              "      <th># of Employees Group 2_1000+</th>\n",
              "      <th>Revenue Line Item_24x7x365 P1 Support</th>\n",
              "      <th>Revenue Line Item_Collabspot Classic</th>\n",
              "      <th>Revenue Line Item_Customer Journey Plug-In</th>\n",
              "      <th>Revenue Line Item_OEM Licenses</th>\n",
              "      <th>Revenue Line Item_Partner Membership</th>\n",
              "      <th>Revenue Line Item_Partnership - OEM</th>\n",
              "      <th>Revenue Line Item_Prepaid OEM Royalties</th>\n",
              "      <th>Revenue Line Item_Salesfusion 10k Contact Block (upto 50K)</th>\n",
              "      <th>Revenue Line Item_Salesfusion Core Package (10K Contacts)</th>\n",
              "      <th>Revenue Line Item_Self-Service Portal Users</th>\n",
              "      <th>Revenue Line Item_Sugar 5-Seat Edition</th>\n",
              "      <th>Revenue Line Item_Sugar Connector for LinkedIn Sales Navigator</th>\n",
              "      <th>Revenue Line Item_Sugar Corporate</th>\n",
              "      <th>Revenue Line Item_Sugar Enterprise</th>\n",
              "      <th>Revenue Line Item_Sugar Limited Use (External)</th>\n",
              "      <th>Revenue Line Item_Sugar Limited Use (Internal)</th>\n",
              "      <th>Revenue Line Item_Sugar Limited Use (Read-Only)</th>\n",
              "      <th>Revenue Line Item_Sugar Professional</th>\n",
              "      <th>Revenue Line Item_SugarCRM Hint</th>\n",
              "      <th>Customer Job Title Code_Administration</th>\n",
              "      <th>Customer Job Title Code_Business Development</th>\n",
              "      <th>Customer Job Title Code_C-Suite</th>\n",
              "      <th>Customer Job Title Code_Commercial Operations</th>\n",
              "      <th>Customer Job Title Code_Consultant</th>\n",
              "      <th>Customer Job Title Code_Customer Service</th>\n",
              "      <th>Customer Job Title Code_General Management</th>\n",
              "      <th>Customer Job Title Code_IT Operations</th>\n",
              "      <th>Customer Job Title Code_Marketing</th>\n",
              "      <th>Customer Job Title Code_Technology</th>\n",
              "      <th>Customer Job Title Code_VP/Director</th>\n",
              "      <th>Region Code_APAC</th>\n",
              "      <th>Region Code_EMEA</th>\n",
              "      <th>Region Code_LATAM</th>\n",
              "      <th>Region Code_NAM</th>\n",
              "    </tr>\n",
              "  </thead>\n",
              "  <tbody>\n",
              "    <tr>\n",
              "      <th>0</th>\n",
              "      <td>0</td>\n",
              "      <td>48</td>\n",
              "      <td>7800.0</td>\n",
              "      <td>0</td>\n",
              "      <td>0</td>\n",
              "      <td>1</td>\n",
              "      <td>0</td>\n",
              "      <td>0</td>\n",
              "      <td>0</td>\n",
              "      <td>0</td>\n",
              "      <td>0</td>\n",
              "      <td>0</td>\n",
              "      <td>0</td>\n",
              "      <td>0</td>\n",
              "      <td>0</td>\n",
              "      <td>0</td>\n",
              "      <td>1</td>\n",
              "      <td>0</td>\n",
              "      <td>0</td>\n",
              "      <td>0</td>\n",
              "      <td>0</td>\n",
              "      <td>0</td>\n",
              "      <td>0</td>\n",
              "      <td>0</td>\n",
              "      <td>0</td>\n",
              "      <td>0</td>\n",
              "      <td>0</td>\n",
              "      <td>0</td>\n",
              "      <td>0</td>\n",
              "      <td>0</td>\n",
              "      <td>1</td>\n",
              "      <td>0</td>\n",
              "      <td>0</td>\n",
              "      <td>0</td>\n",
              "      <td>0</td>\n",
              "      <td>0</td>\n",
              "      <td>0</td>\n",
              "      <td>0</td>\n",
              "      <td>0</td>\n",
              "      <td>0</td>\n",
              "      <td>0</td>\n",
              "      <td>0</td>\n",
              "      <td>0</td>\n",
              "      <td>0</td>\n",
              "      <td>0</td>\n",
              "      <td>0</td>\n",
              "      <td>1</td>\n",
              "      <td>0</td>\n",
              "      <td>0</td>\n",
              "      <td>0</td>\n",
              "      <td>0</td>\n",
              "      <td>0</td>\n",
              "      <td>0</td>\n",
              "      <td>0</td>\n",
              "      <td>0</td>\n",
              "      <td>1</td>\n",
              "      <td>0</td>\n",
              "      <td>0</td>\n",
              "      <td>0</td>\n",
              "      <td>0</td>\n",
              "      <td>0</td>\n",
              "      <td>0</td>\n",
              "      <td>0</td>\n",
              "      <td>0</td>\n",
              "      <td>0</td>\n",
              "      <td>0</td>\n",
              "      <td>1</td>\n",
              "    </tr>\n",
              "    <tr>\n",
              "      <th>1</th>\n",
              "      <td>1</td>\n",
              "      <td>38</td>\n",
              "      <td>3900.0</td>\n",
              "      <td>0</td>\n",
              "      <td>0</td>\n",
              "      <td>0</td>\n",
              "      <td>0</td>\n",
              "      <td>0</td>\n",
              "      <td>1</td>\n",
              "      <td>0</td>\n",
              "      <td>0</td>\n",
              "      <td>0</td>\n",
              "      <td>0</td>\n",
              "      <td>0</td>\n",
              "      <td>0</td>\n",
              "      <td>0</td>\n",
              "      <td>0</td>\n",
              "      <td>1</td>\n",
              "      <td>0</td>\n",
              "      <td>0</td>\n",
              "      <td>0</td>\n",
              "      <td>0</td>\n",
              "      <td>0</td>\n",
              "      <td>0</td>\n",
              "      <td>0</td>\n",
              "      <td>0</td>\n",
              "      <td>0</td>\n",
              "      <td>0</td>\n",
              "      <td>0</td>\n",
              "      <td>0</td>\n",
              "      <td>1</td>\n",
              "      <td>0</td>\n",
              "      <td>0</td>\n",
              "      <td>0</td>\n",
              "      <td>0</td>\n",
              "      <td>0</td>\n",
              "      <td>0</td>\n",
              "      <td>0</td>\n",
              "      <td>0</td>\n",
              "      <td>0</td>\n",
              "      <td>0</td>\n",
              "      <td>0</td>\n",
              "      <td>0</td>\n",
              "      <td>0</td>\n",
              "      <td>0</td>\n",
              "      <td>0</td>\n",
              "      <td>1</td>\n",
              "      <td>0</td>\n",
              "      <td>0</td>\n",
              "      <td>0</td>\n",
              "      <td>0</td>\n",
              "      <td>0</td>\n",
              "      <td>0</td>\n",
              "      <td>0</td>\n",
              "      <td>1</td>\n",
              "      <td>0</td>\n",
              "      <td>0</td>\n",
              "      <td>0</td>\n",
              "      <td>0</td>\n",
              "      <td>0</td>\n",
              "      <td>0</td>\n",
              "      <td>0</td>\n",
              "      <td>0</td>\n",
              "      <td>0</td>\n",
              "      <td>0</td>\n",
              "      <td>0</td>\n",
              "      <td>1</td>\n",
              "    </tr>\n",
              "    <tr>\n",
              "      <th>2</th>\n",
              "      <td>28</td>\n",
              "      <td>48</td>\n",
              "      <td>15600.0</td>\n",
              "      <td>0</td>\n",
              "      <td>0</td>\n",
              "      <td>0</td>\n",
              "      <td>0</td>\n",
              "      <td>0</td>\n",
              "      <td>1</td>\n",
              "      <td>0</td>\n",
              "      <td>0</td>\n",
              "      <td>0</td>\n",
              "      <td>0</td>\n",
              "      <td>0</td>\n",
              "      <td>0</td>\n",
              "      <td>0</td>\n",
              "      <td>0</td>\n",
              "      <td>0</td>\n",
              "      <td>0</td>\n",
              "      <td>0</td>\n",
              "      <td>0</td>\n",
              "      <td>0</td>\n",
              "      <td>1</td>\n",
              "      <td>0</td>\n",
              "      <td>0</td>\n",
              "      <td>0</td>\n",
              "      <td>0</td>\n",
              "      <td>0</td>\n",
              "      <td>0</td>\n",
              "      <td>0</td>\n",
              "      <td>0</td>\n",
              "      <td>0</td>\n",
              "      <td>1</td>\n",
              "      <td>0</td>\n",
              "      <td>0</td>\n",
              "      <td>0</td>\n",
              "      <td>0</td>\n",
              "      <td>0</td>\n",
              "      <td>0</td>\n",
              "      <td>0</td>\n",
              "      <td>0</td>\n",
              "      <td>0</td>\n",
              "      <td>0</td>\n",
              "      <td>0</td>\n",
              "      <td>0</td>\n",
              "      <td>0</td>\n",
              "      <td>1</td>\n",
              "      <td>0</td>\n",
              "      <td>0</td>\n",
              "      <td>0</td>\n",
              "      <td>0</td>\n",
              "      <td>0</td>\n",
              "      <td>0</td>\n",
              "      <td>0</td>\n",
              "      <td>0</td>\n",
              "      <td>0</td>\n",
              "      <td>0</td>\n",
              "      <td>0</td>\n",
              "      <td>0</td>\n",
              "      <td>0</td>\n",
              "      <td>0</td>\n",
              "      <td>0</td>\n",
              "      <td>1</td>\n",
              "      <td>0</td>\n",
              "      <td>0</td>\n",
              "      <td>0</td>\n",
              "      <td>1</td>\n",
              "    </tr>\n",
              "    <tr>\n",
              "      <th>3</th>\n",
              "      <td>23</td>\n",
              "      <td>217</td>\n",
              "      <td>4800.0</td>\n",
              "      <td>0</td>\n",
              "      <td>0</td>\n",
              "      <td>0</td>\n",
              "      <td>0</td>\n",
              "      <td>0</td>\n",
              "      <td>0</td>\n",
              "      <td>1</td>\n",
              "      <td>0</td>\n",
              "      <td>0</td>\n",
              "      <td>0</td>\n",
              "      <td>0</td>\n",
              "      <td>0</td>\n",
              "      <td>0</td>\n",
              "      <td>0</td>\n",
              "      <td>0</td>\n",
              "      <td>0</td>\n",
              "      <td>0</td>\n",
              "      <td>0</td>\n",
              "      <td>0</td>\n",
              "      <td>1</td>\n",
              "      <td>0</td>\n",
              "      <td>0</td>\n",
              "      <td>0</td>\n",
              "      <td>0</td>\n",
              "      <td>0</td>\n",
              "      <td>0</td>\n",
              "      <td>0</td>\n",
              "      <td>1</td>\n",
              "      <td>0</td>\n",
              "      <td>0</td>\n",
              "      <td>0</td>\n",
              "      <td>0</td>\n",
              "      <td>0</td>\n",
              "      <td>0</td>\n",
              "      <td>0</td>\n",
              "      <td>0</td>\n",
              "      <td>0</td>\n",
              "      <td>0</td>\n",
              "      <td>0</td>\n",
              "      <td>0</td>\n",
              "      <td>0</td>\n",
              "      <td>0</td>\n",
              "      <td>0</td>\n",
              "      <td>0</td>\n",
              "      <td>0</td>\n",
              "      <td>0</td>\n",
              "      <td>0</td>\n",
              "      <td>1</td>\n",
              "      <td>0</td>\n",
              "      <td>0</td>\n",
              "      <td>0</td>\n",
              "      <td>0</td>\n",
              "      <td>0</td>\n",
              "      <td>0</td>\n",
              "      <td>0</td>\n",
              "      <td>0</td>\n",
              "      <td>0</td>\n",
              "      <td>0</td>\n",
              "      <td>0</td>\n",
              "      <td>1</td>\n",
              "      <td>0</td>\n",
              "      <td>0</td>\n",
              "      <td>0</td>\n",
              "      <td>1</td>\n",
              "    </tr>\n",
              "    <tr>\n",
              "      <th>4</th>\n",
              "      <td>0</td>\n",
              "      <td>85</td>\n",
              "      <td>7800.0</td>\n",
              "      <td>0</td>\n",
              "      <td>0</td>\n",
              "      <td>0</td>\n",
              "      <td>0</td>\n",
              "      <td>0</td>\n",
              "      <td>0</td>\n",
              "      <td>1</td>\n",
              "      <td>0</td>\n",
              "      <td>0</td>\n",
              "      <td>0</td>\n",
              "      <td>0</td>\n",
              "      <td>0</td>\n",
              "      <td>0</td>\n",
              "      <td>0</td>\n",
              "      <td>1</td>\n",
              "      <td>0</td>\n",
              "      <td>0</td>\n",
              "      <td>0</td>\n",
              "      <td>0</td>\n",
              "      <td>0</td>\n",
              "      <td>0</td>\n",
              "      <td>0</td>\n",
              "      <td>0</td>\n",
              "      <td>0</td>\n",
              "      <td>0</td>\n",
              "      <td>0</td>\n",
              "      <td>0</td>\n",
              "      <td>1</td>\n",
              "      <td>0</td>\n",
              "      <td>0</td>\n",
              "      <td>0</td>\n",
              "      <td>0</td>\n",
              "      <td>0</td>\n",
              "      <td>0</td>\n",
              "      <td>0</td>\n",
              "      <td>0</td>\n",
              "      <td>0</td>\n",
              "      <td>0</td>\n",
              "      <td>0</td>\n",
              "      <td>0</td>\n",
              "      <td>0</td>\n",
              "      <td>0</td>\n",
              "      <td>0</td>\n",
              "      <td>1</td>\n",
              "      <td>0</td>\n",
              "      <td>0</td>\n",
              "      <td>0</td>\n",
              "      <td>0</td>\n",
              "      <td>0</td>\n",
              "      <td>0</td>\n",
              "      <td>0</td>\n",
              "      <td>0</td>\n",
              "      <td>0</td>\n",
              "      <td>0</td>\n",
              "      <td>0</td>\n",
              "      <td>0</td>\n",
              "      <td>0</td>\n",
              "      <td>1</td>\n",
              "      <td>0</td>\n",
              "      <td>0</td>\n",
              "      <td>0</td>\n",
              "      <td>1</td>\n",
              "      <td>0</td>\n",
              "      <td>0</td>\n",
              "    </tr>\n",
              "  </tbody>\n",
              "</table>\n",
              "</div>"
            ],
            "text/plain": [
              "   Creation to Qualification (Days)  ...  Region Code_NAM\n",
              "0                                 0  ...                1\n",
              "1                                 1  ...                1\n",
              "2                                28  ...                1\n",
              "3                                23  ...                1\n",
              "4                                 0  ...                0\n",
              "\n",
              "[5 rows x 67 columns]"
            ]
          },
          "metadata": {
            "tags": []
          },
          "execution_count": 22
        }
      ]
    },
    {
      "cell_type": "markdown",
      "metadata": {
        "id": "Wz72tat88RCx",
        "colab_type": "text"
      },
      "source": [
        "### Separate the 'X' matrix and 'y' output vector."
      ]
    },
    {
      "cell_type": "code",
      "metadata": {
        "id": "SUPKGtWw7OST",
        "colab_type": "code",
        "colab": {}
      },
      "source": [
        "X = df_final.loc[:, df_final.columns != 'Converted?']\n",
        "X = pd.DataFrame(X)\n",
        "y = df_final.loc[:, df_final.columns == 'Converted?']\n",
        "y = pd.DataFrame(y)"
      ],
      "execution_count": 0,
      "outputs": []
    },
    {
      "cell_type": "markdown",
      "metadata": {
        "id": "XbfVFW22k18J",
        "colab_type": "text"
      },
      "source": [
        "### Verify the shapes of the 'X' matrix and 'y' output vector..."
      ]
    },
    {
      "cell_type": "code",
      "metadata": {
        "id": "gmhi_A-ikC-9",
        "colab_type": "code",
        "outputId": "f3b287b3-8060-40be-dd3f-662ccffc677e",
        "colab": {
          "base_uri": "https://localhost:8080/",
          "height": 51
        }
      },
      "source": [
        "print(\"Shape of X: \",X.shape)\n",
        "print(\"Shape of y: \",y.shape)"
      ],
      "execution_count": 24,
      "outputs": [
        {
          "output_type": "stream",
          "text": [
            "Shape of X:  (1294, 66)\n",
            "Shape of y:  (1294, 1)\n"
          ],
          "name": "stdout"
        }
      ]
    },
    {
      "cell_type": "markdown",
      "metadata": {
        "id": "EqhOkcTeOZOf",
        "colab_type": "text"
      },
      "source": [
        "### Feature Selection\n",
        "\n",
        "Feature selection is a process where we automatically select those features in our data that contribute most to the prediction variable or output in which we are interested.\n",
        "\n",
        "Having too many irrelevant features in our data can decrease the accuracy of the models. There are three benefits of performing feature selection before modeling our data:\n",
        "\n",
        "*  **Reduces Overfitting:** Less redundant data means less opportunity to make decisions based on noise.\n",
        "*  **Improves Accuracy:** Less misleading data means modeling accuracy improves.\n",
        "*  **Reduces Training Time:** Less data means that algorithms train faster.\n",
        "\n",
        "\n",
        "Two different feature selection methods provided by the scikit-learn Python library are **Recursive Feature Elimination** and **feature importance ranking**.\n",
        "\n",
        "Recursive Feature Elimination (RFE) is based on the idea to repeatedly construct a model and choose either the best or worst performing feature, setting the feature aside and then repeating the process with the rest of the features. This process is applied until all features in the dataset are exhausted. The goal of RFE is to select features by recursively considering smaller and smaller sets of features.\n"
      ]
    },
    {
      "cell_type": "code",
      "metadata": {
        "id": "Db4vbb1oN3t8",
        "colab_type": "code",
        "outputId": "59c86691-7ce7-4433-a0e4-6f2399831546",
        "colab": {
          "base_uri": "https://localhost:8080/",
          "height": 224
        }
      },
      "source": [
        "df_final_vars=df_final.columns.values.tolist()\n",
        "# y=['Converted?']\n",
        "# X=[i for i in df_final_vars if i not in y]\n",
        "\n",
        "from sklearn.feature_selection import RFE\n",
        "from sklearn.linear_model import LogisticRegression\n",
        "\n",
        "logreg = LogisticRegression(solver='lbfgs',max_iter=1000)            # create a base logistic regression classifier used to evaluate a subset of attributes\n",
        "selector = RFE(logreg,15,step=1)                                     # create the RFE model and select 15 attributes\n",
        "selector = selector.fit(X, y)                                        # summarize the selection of the attributes\n",
        "print(selector.support_)\n",
        "print(selector.ranking_)"
      ],
      "execution_count": 25,
      "outputs": [
        {
          "output_type": "stream",
          "text": [
            "/usr/local/lib/python3.6/dist-packages/sklearn/utils/validation.py:724: DataConversionWarning: A column-vector y was passed when a 1d array was expected. Please change the shape of y to (n_samples, ), for example using ravel().\n",
            "  y = column_or_1d(y, warn=True)\n"
          ],
          "name": "stderr"
        },
        {
          "output_type": "stream",
          "text": [
            "[False False False False False False False False False False  True False\n",
            "  True  True False False False False False False False False  True  True\n",
            " False False False False False False False False False  True  True  True\n",
            " False False False False False False  True False False  True False  True\n",
            " False False  True False False  True False False  True False False False\n",
            " False False False False False  True]\n",
            "[50 51 52 45 29 15 12 30 47 33  1 26  1  1  6 46 23 35 34 32 21 11  1  1\n",
            " 37 36 40 22 25 38 39  5 14  1  1  1  7 20 42 19  4 24  1  8  9  1  3  1\n",
            " 41 18  1 13 16  1 48 49  1 31 44 43 10 27  2 28 17  1]\n"
          ],
          "name": "stdout"
        }
      ]
    },
    {
      "cell_type": "markdown",
      "metadata": {
        "id": "m9dWQp_6Qyok",
        "colab_type": "text"
      },
      "source": [
        "### The RFE has helped us select the following features: "
      ]
    },
    {
      "cell_type": "code",
      "metadata": {
        "id": "p01y3z-Pupue",
        "colab_type": "code",
        "colab": {}
      },
      "source": [
        "mask = selector.get_support()        # list of booleans from RFE function\n",
        "new_features = []                    # The list of my 15 best features\n",
        "\n",
        "for bool, feature in zip(mask, df_final_vars):\n",
        "    if bool:\n",
        "        new_features.append(feature)"
      ],
      "execution_count": 0,
      "outputs": []
    },
    {
      "cell_type": "code",
      "metadata": {
        "id": "HOfSq0F7wcSN",
        "colab_type": "code",
        "outputId": "3402cd50-2fb7-4bcd-97d2-e1d287b2ab8f",
        "colab": {
          "base_uri": "https://localhost:8080/",
          "height": 272
        }
      },
      "source": [
        "new_features"
      ],
      "execution_count": 27,
      "outputs": [
        {
          "output_type": "execute_result",
          "data": {
            "text/plain": [
              "['Lead Source_Social',\n",
              " 'Lead Source_Webinar',\n",
              " 'Lead Source Detail Code_Analyst Report',\n",
              " 'Lead Source Detail Code_Free Trial',\n",
              " 'Lead Source Detail Code_Online Advertising',\n",
              " 'Revenue Line Item_24x7x365 P1 Support',\n",
              " 'Revenue Line Item_Collabspot Classic',\n",
              " 'Revenue Line Item_Customer Journey Plug-In',\n",
              " 'Revenue Line Item_Self-Service Portal Users',\n",
              " 'Revenue Line Item_Sugar Corporate',\n",
              " 'Revenue Line Item_Sugar Limited Use (External)',\n",
              " 'Revenue Line Item_Sugar Professional',\n",
              " 'Customer Job Title Code_Business Development',\n",
              " 'Customer Job Title Code_Consultant',\n",
              " 'Region Code_LATAM']"
            ]
          },
          "metadata": {
            "tags": []
          },
          "execution_count": 27
        }
      ]
    },
    {
      "cell_type": "code",
      "metadata": {
        "id": "kE-uZvFsR4r3",
        "colab_type": "code",
        "outputId": "b8224836-8d6c-40e7-8093-7df67c677750",
        "colab": {
          "base_uri": "https://localhost:8080/",
          "height": 309
        }
      },
      "source": [
        "X = X[new_features]\n",
        "X.head()"
      ],
      "execution_count": 28,
      "outputs": [
        {
          "output_type": "execute_result",
          "data": {
            "text/html": [
              "<div>\n",
              "<style scoped>\n",
              "    .dataframe tbody tr th:only-of-type {\n",
              "        vertical-align: middle;\n",
              "    }\n",
              "\n",
              "    .dataframe tbody tr th {\n",
              "        vertical-align: top;\n",
              "    }\n",
              "\n",
              "    .dataframe thead th {\n",
              "        text-align: right;\n",
              "    }\n",
              "</style>\n",
              "<table border=\"1\" class=\"dataframe\">\n",
              "  <thead>\n",
              "    <tr style=\"text-align: right;\">\n",
              "      <th></th>\n",
              "      <th>Lead Source_Social</th>\n",
              "      <th>Lead Source_Webinar</th>\n",
              "      <th>Lead Source Detail Code_Analyst Report</th>\n",
              "      <th>Lead Source Detail Code_Free Trial</th>\n",
              "      <th>Lead Source Detail Code_Online Advertising</th>\n",
              "      <th>Revenue Line Item_24x7x365 P1 Support</th>\n",
              "      <th>Revenue Line Item_Collabspot Classic</th>\n",
              "      <th>Revenue Line Item_Customer Journey Plug-In</th>\n",
              "      <th>Revenue Line Item_Self-Service Portal Users</th>\n",
              "      <th>Revenue Line Item_Sugar Corporate</th>\n",
              "      <th>Revenue Line Item_Sugar Limited Use (External)</th>\n",
              "      <th>Revenue Line Item_Sugar Professional</th>\n",
              "      <th>Customer Job Title Code_Business Development</th>\n",
              "      <th>Customer Job Title Code_Consultant</th>\n",
              "      <th>Region Code_LATAM</th>\n",
              "    </tr>\n",
              "  </thead>\n",
              "  <tbody>\n",
              "    <tr>\n",
              "      <th>0</th>\n",
              "      <td>0</td>\n",
              "      <td>0</td>\n",
              "      <td>0</td>\n",
              "      <td>0</td>\n",
              "      <td>0</td>\n",
              "      <td>0</td>\n",
              "      <td>0</td>\n",
              "      <td>0</td>\n",
              "      <td>0</td>\n",
              "      <td>0</td>\n",
              "      <td>0</td>\n",
              "      <td>0</td>\n",
              "      <td>0</td>\n",
              "      <td>0</td>\n",
              "      <td>0</td>\n",
              "    </tr>\n",
              "    <tr>\n",
              "      <th>1</th>\n",
              "      <td>0</td>\n",
              "      <td>0</td>\n",
              "      <td>0</td>\n",
              "      <td>0</td>\n",
              "      <td>0</td>\n",
              "      <td>0</td>\n",
              "      <td>0</td>\n",
              "      <td>0</td>\n",
              "      <td>0</td>\n",
              "      <td>0</td>\n",
              "      <td>0</td>\n",
              "      <td>0</td>\n",
              "      <td>0</td>\n",
              "      <td>0</td>\n",
              "      <td>0</td>\n",
              "    </tr>\n",
              "    <tr>\n",
              "      <th>2</th>\n",
              "      <td>0</td>\n",
              "      <td>0</td>\n",
              "      <td>0</td>\n",
              "      <td>1</td>\n",
              "      <td>0</td>\n",
              "      <td>0</td>\n",
              "      <td>0</td>\n",
              "      <td>0</td>\n",
              "      <td>0</td>\n",
              "      <td>0</td>\n",
              "      <td>0</td>\n",
              "      <td>0</td>\n",
              "      <td>0</td>\n",
              "      <td>0</td>\n",
              "      <td>0</td>\n",
              "    </tr>\n",
              "    <tr>\n",
              "      <th>3</th>\n",
              "      <td>0</td>\n",
              "      <td>0</td>\n",
              "      <td>0</td>\n",
              "      <td>1</td>\n",
              "      <td>0</td>\n",
              "      <td>0</td>\n",
              "      <td>0</td>\n",
              "      <td>0</td>\n",
              "      <td>0</td>\n",
              "      <td>0</td>\n",
              "      <td>0</td>\n",
              "      <td>1</td>\n",
              "      <td>0</td>\n",
              "      <td>0</td>\n",
              "      <td>0</td>\n",
              "    </tr>\n",
              "    <tr>\n",
              "      <th>4</th>\n",
              "      <td>0</td>\n",
              "      <td>0</td>\n",
              "      <td>0</td>\n",
              "      <td>0</td>\n",
              "      <td>0</td>\n",
              "      <td>0</td>\n",
              "      <td>0</td>\n",
              "      <td>0</td>\n",
              "      <td>0</td>\n",
              "      <td>0</td>\n",
              "      <td>0</td>\n",
              "      <td>0</td>\n",
              "      <td>0</td>\n",
              "      <td>0</td>\n",
              "      <td>0</td>\n",
              "    </tr>\n",
              "  </tbody>\n",
              "</table>\n",
              "</div>"
            ],
            "text/plain": [
              "   Lead Source_Social  ...  Region Code_LATAM\n",
              "0                   0  ...                  0\n",
              "1                   0  ...                  0\n",
              "2                   0  ...                  0\n",
              "3                   0  ...                  0\n",
              "4                   0  ...                  0\n",
              "\n",
              "[5 rows x 15 columns]"
            ]
          },
          "metadata": {
            "tags": []
          },
          "execution_count": 28
        }
      ]
    },
    {
      "cell_type": "markdown",
      "metadata": {
        "id": "2rwHXlQV3E2b",
        "colab_type": "text"
      },
      "source": [
        "### Separate 'X' and 'y' into train and test sets."
      ]
    },
    {
      "cell_type": "code",
      "metadata": {
        "id": "vEhwN1uH3RfC",
        "colab_type": "code",
        "colab": {}
      },
      "source": [
        "X_train, X_test, y_train, y_test = train_test_split(X, y, test_size=0.3, random_state=0)"
      ],
      "execution_count": 0,
      "outputs": []
    },
    {
      "cell_type": "markdown",
      "metadata": {
        "id": "5Z9cpvGKTwtx",
        "colab_type": "text"
      },
      "source": [
        "### Now, we implement the Logistic Regression model."
      ]
    },
    {
      "cell_type": "code",
      "metadata": {
        "id": "OpCnFcfITwFZ",
        "colab_type": "code",
        "outputId": "a407a007-489e-4f14-e76a-65b11420f65d",
        "colab": {
          "base_uri": "https://localhost:8080/",
          "height": 731
        }
      },
      "source": [
        "import statsmodels.api as sm\n",
        "logit_model=sm.Logit(y_train,X_train)\n",
        "result=logit_model.fit(method='bfgs',maxiter=100)\n",
        "print(result.summary2())"
      ],
      "execution_count": 30,
      "outputs": [
        {
          "output_type": "stream",
          "text": [
            "Optimization terminated successfully.\n",
            "         Current function value: 0.631222\n",
            "         Iterations: 77\n",
            "         Function evaluations: 79\n",
            "         Gradient evaluations: 79\n",
            "                                     Results: Logit\n",
            "========================================================================================\n",
            "Model:                       Logit                   Pseudo R-squared:        0.037     \n",
            "Dependent Variable:          Converted?              AIC:                     1170.5125 \n",
            "Date:                        2019-07-11 19:38        BIC:                     1237.8235 \n",
            "No. Observations:            905                     Log-Likelihood:          -571.26   \n",
            "Df Model:                    13                      LL-Null:                 -593.16   \n",
            "Df Residuals:                891                     LLR p-value:             3.3023e-05\n",
            "Converged:                   1.0000                  Scale:                   1.0000    \n",
            "----------------------------------------------------------------------------------------\n",
            "                                                Coef.   Std.Err.  z  P>|z| [0.025 0.975]\n",
            "----------------------------------------------------------------------------------------\n",
            "Lead Source_Social                               0.0000      nan nan   nan    nan    nan\n",
            "Lead Source_Webinar                            -15.1219      nan nan   nan    nan    nan\n",
            "Lead Source Detail Code_Analyst Report          -1.4777      nan nan   nan    nan    nan\n",
            "Lead Source Detail Code_Free Trial               0.0684      nan nan   nan    nan    nan\n",
            "Lead Source Detail Code_Online Advertising      38.7678      nan nan   nan    nan    nan\n",
            "Revenue Line Item_24x7x365 P1 Support           -5.7451      nan nan   nan    nan    nan\n",
            "Revenue Line Item_Collabspot Classic            47.9961      nan nan   nan    nan    nan\n",
            "Revenue Line Item_Customer Journey Plug-In       2.0843      nan nan   nan    nan    nan\n",
            "Revenue Line Item_Self-Service Portal Users     15.1219      nan nan   nan    nan    nan\n",
            "Revenue Line Item_Sugar Corporate              -15.1219      nan nan   nan    nan    nan\n",
            "Revenue Line Item_Sugar Limited Use (External)  26.0853      nan nan   nan    nan    nan\n",
            "Revenue Line Item_Sugar Professional             0.0498      nan nan   nan    nan    nan\n",
            "Customer Job Title Code_Business Development    -0.9380      nan nan   nan    nan    nan\n",
            "Customer Job Title Code_Consultant              -0.3414      nan nan   nan    nan    nan\n",
            "Region Code_LATAM                               -1.5689      nan nan   nan    nan    nan\n",
            "========================================================================================\n",
            "\n"
          ],
          "name": "stdout"
        },
        {
          "output_type": "stream",
          "text": [
            "/usr/local/lib/python3.6/dist-packages/statsmodels/base/model.py:492: HessianInversionWarning: Inverting hessian failed, no bse or cov_params available\n",
            "  'available', HessianInversionWarning)\n",
            "/usr/local/lib/python3.6/dist-packages/scipy/stats/_distn_infrastructure.py:901: RuntimeWarning: invalid value encountered in greater\n",
            "  return (a < x) & (x < b)\n",
            "/usr/local/lib/python3.6/dist-packages/scipy/stats/_distn_infrastructure.py:901: RuntimeWarning: invalid value encountered in less\n",
            "  return (a < x) & (x < b)\n",
            "/usr/local/lib/python3.6/dist-packages/scipy/stats/_distn_infrastructure.py:1892: RuntimeWarning: invalid value encountered in less_equal\n",
            "  cond2 = cond0 & (x <= _a)\n"
          ],
          "name": "stderr"
        }
      ]
    },
    {
      "cell_type": "markdown",
      "metadata": {
        "id": "nEHCDYXvUt51",
        "colab_type": "text"
      },
      "source": [
        "### Logistic Regression model fitting..."
      ]
    },
    {
      "cell_type": "code",
      "metadata": {
        "id": "5ztkD_spUtCE",
        "colab_type": "code",
        "outputId": "8583ab23-8305-4132-a0b7-f8cf97164013",
        "colab": {
          "base_uri": "https://localhost:8080/",
          "height": 156
        }
      },
      "source": [
        "from sklearn.linear_model import LogisticRegression\n",
        "from sklearn import metrics\n",
        "# X_train, X_test, y_train, y_test = train_test_split(X, y, test_size=0.3, random_state=0)\n",
        "logreg = LogisticRegression(solver='lbfgs')\n",
        "logreg.fit(X_train, y_train)"
      ],
      "execution_count": 31,
      "outputs": [
        {
          "output_type": "stream",
          "text": [
            "/usr/local/lib/python3.6/dist-packages/sklearn/utils/validation.py:724: DataConversionWarning: A column-vector y was passed when a 1d array was expected. Please change the shape of y to (n_samples, ), for example using ravel().\n",
            "  y = column_or_1d(y, warn=True)\n"
          ],
          "name": "stderr"
        },
        {
          "output_type": "execute_result",
          "data": {
            "text/plain": [
              "LogisticRegression(C=1.0, class_weight=None, dual=False, fit_intercept=True,\n",
              "                   intercept_scaling=1, l1_ratio=None, max_iter=100,\n",
              "                   multi_class='warn', n_jobs=None, penalty='l2',\n",
              "                   random_state=None, solver='lbfgs', tol=0.0001, verbose=0,\n",
              "                   warm_start=False)"
            ]
          },
          "metadata": {
            "tags": []
          },
          "execution_count": 31
        }
      ]
    },
    {
      "cell_type": "markdown",
      "metadata": {
        "id": "dhdBZOT3U_PD",
        "colab_type": "text"
      },
      "source": [
        "### Now, we predict how the test set performs and calculate the accuracy."
      ]
    },
    {
      "cell_type": "code",
      "metadata": {
        "id": "_tuVmCYDVPRY",
        "colab_type": "code",
        "outputId": "57d59afa-317c-4ff8-c086-cc5ea6d8b88d",
        "colab": {
          "base_uri": "https://localhost:8080/",
          "height": 34
        }
      },
      "source": [
        "y_pred = logreg.predict(X_test)\n",
        "print('Accuracy of logistic regression classifier on test set: {:.2f}'.format(logreg.score(X_test, y_test)))"
      ],
      "execution_count": 32,
      "outputs": [
        {
          "output_type": "stream",
          "text": [
            "Accuracy of logistic regression classifier on test set: 0.63\n"
          ],
          "name": "stdout"
        }
      ]
    },
    {
      "cell_type": "markdown",
      "metadata": {
        "id": "opeb7afYVm-K",
        "colab_type": "text"
      },
      "source": [
        "### Determine the elements of the 'Confusion' matrix."
      ]
    },
    {
      "cell_type": "code",
      "metadata": {
        "id": "jdVdX8dAVsp6",
        "colab_type": "code",
        "outputId": "a0f0c721-ba03-4f1c-d654-e4b0decac828",
        "colab": {
          "base_uri": "https://localhost:8080/",
          "height": 51
        }
      },
      "source": [
        "from sklearn.metrics import confusion_matrix\n",
        "confusion_matrix = confusion_matrix(y_test, y_pred)\n",
        "print(confusion_matrix)"
      ],
      "execution_count": 33,
      "outputs": [
        {
          "output_type": "stream",
          "text": [
            "[[227  15]\n",
            " [129  18]]\n"
          ],
          "name": "stdout"
        }
      ]
    },
    {
      "cell_type": "markdown",
      "metadata": {
        "id": "u-pKroprV6pi",
        "colab_type": "text"
      },
      "source": [
        "### The Confusion matrix tells us that we have 227+18 = 245 correct predictions and 129+15 = 144 incorrect predictions.  Now, we compute the precision, recall, F-measure and support metrics."
      ]
    },
    {
      "cell_type": "markdown",
      "metadata": {
        "id": "mP9SzeJ2W7y8",
        "colab_type": "text"
      },
      "source": [
        "The **precision is the ratio tp / (tp + fp)** where tp is the number of true positives and fp the number of false positives. The precision is intuitively the ability of the classifier to not label a sample as positive if it is negative.\n",
        "The **recall is the ratio tp / (tp + fn)** where tp is the number of true positives and fn the number of false negatives. The recall is intuitively the ability of the classifier to find all the positive samples.\n",
        "The **F-beta score can be interpreted as a weighted harmonic mean of the precision and recall, where an F-beta score reaches its best value at 1 and worst score at 0.**\n",
        "The F-beta score weights the recall more than the precision by a factor of beta. beta = 1.0 means recall and precision are equally important.\n",
        "The **support is the number of occurrences of each class in y_test**."
      ]
    },
    {
      "cell_type": "code",
      "metadata": {
        "id": "qIZs2H3DWqhR",
        "colab_type": "code",
        "outputId": "89130aef-eec1-41c3-93f1-58b8ad7a3216",
        "colab": {
          "base_uri": "https://localhost:8080/",
          "height": 170
        }
      },
      "source": [
        "from sklearn.metrics import classification_report\n",
        "print(classification_report(y_test, y_pred))"
      ],
      "execution_count": 34,
      "outputs": [
        {
          "output_type": "stream",
          "text": [
            "              precision    recall  f1-score   support\n",
            "\n",
            "           0       0.64      0.94      0.76       242\n",
            "           1       0.55      0.12      0.20       147\n",
            "\n",
            "    accuracy                           0.63       389\n",
            "   macro avg       0.59      0.53      0.48       389\n",
            "weighted avg       0.60      0.63      0.55       389\n",
            "\n"
          ],
          "name": "stdout"
        }
      ]
    },
    {
      "cell_type": "markdown",
      "metadata": {
        "id": "k6aXkPURYiyU",
        "colab_type": "text"
      },
      "source": [
        "### Interpretation:  Of the entire test set, 77% of the opportunity conversions were influenced by the variables:\n",
        "\n",
        "\n",
        "*   '# of Employees Group_1000+'\n",
        "*   'Opportunity Type_Additional'\n",
        "*  'Meta Industry_Manufacturing'\n",
        "*   'Last Sales Stage 3_Order Desk Review'\n",
        "\n",
        "\n",
        "\n"
      ]
    },
    {
      "cell_type": "markdown",
      "metadata": {
        "id": "mpL0NFT8Yxo6",
        "colab_type": "text"
      },
      "source": [
        "### Receiver Operating Characteristic (ROC) Curve\n",
        "\n",
        "### The receiver operating characteristic (ROC) curve is another common tool used with binary classifiers. The dotted line represents the ROC curve of a purely random classifier; a good classifier stays as far away from that line as possible (toward the top-left corner)."
      ]
    },
    {
      "cell_type": "code",
      "metadata": {
        "id": "i5m0YhoNYyTx",
        "colab_type": "code",
        "outputId": "b283fe0f-92fe-4c59-a0f5-e0e3e40a855e",
        "colab": {
          "base_uri": "https://localhost:8080/",
          "height": 301
        }
      },
      "source": [
        "from sklearn.metrics import roc_auc_score\n",
        "from sklearn.metrics import roc_curve\n",
        "logit_roc_auc = roc_auc_score(y_test, logreg.predict(X_test))\n",
        "fpr, tpr, thresholds = roc_curve(y_test, logreg.predict_proba(X_test)[:,1])\n",
        "plt.figure()\n",
        "plt.plot(fpr, tpr, label='Logistic Regression (area = %0.2f)' % logit_roc_auc)\n",
        "plt.plot([0, 1], [0, 1],'r--')\n",
        "plt.xlim([0.0, 1.0])\n",
        "plt.ylim([0.0, 1.05])\n",
        "plt.xlabel('False Positive Rate')\n",
        "plt.ylabel('True Positive Rate')\n",
        "plt.title('Receiver operating characteristic')\n",
        "plt.legend(loc=\"lower right\")\n",
        "plt.savefig('Log_ROC')\n",
        "plt.show()"
      ],
      "execution_count": 35,
      "outputs": [
        {
          "output_type": "display_data",
          "data": {
            "image/png": "[encoded data removed]",
            "text/plain": [
              "<Figure size 432x288 with 1 Axes>"
            ]
          },
          "metadata": {
            "tags": []
          }
        }
      ]
    }
  ]
}