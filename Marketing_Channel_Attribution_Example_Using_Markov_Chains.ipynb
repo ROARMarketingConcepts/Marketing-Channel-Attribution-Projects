{
  "nbformat": 4,
  "nbformat_minor": 0,
  "metadata": {
    "colab": {
      "name": "Marketing Channel Attribution Example Using Markov Chains.ipynb",
      "version": "0.3.2",
      "provenance": [],
      "collapsed_sections": [],
      "include_colab_link": true
    },
    "kernelspec": {
      "name": "python3",
      "display_name": "Python 3"
    }
  },
  "cells": [
    {
      "cell_type": "markdown",
      "metadata": {
        "id": "view-in-github",
        "colab_type": "text"
      },
      "source": [
        "<a href=\"https://colab.research.google.com/github/ROARMarketingConcepts/SugarCRM/blob/master/Marketing_Channel_Attribution_Example_Using_Markov_Chains.ipynb\" target=\"_parent\"><img src=\"https://colab.research.google.com/assets/colab-badge.svg\" alt=\"Open In Colab\"/></a>"
      ]
    },
    {
      "cell_type": "markdown",
      "metadata": {
        "id": "jERAcrZJ8jNL",
        "colab_type": "text"
      },
      "source": [
        "## Marketing Channel Attribution Example Using Markov Chains\n",
        "\n",
        "### Markov Chains describe a sequence of possible events in which the probability of each event depends only on the state attained in the previous event. In the context of channel attribution, Markov Chains give us a framework to model user journeys and how each channel factors into the users traveling from one channel to another to eventually purchase (or not).\n",
        "\n",
        "### The underlying concept of Markov chains is that customer journey data can be processed  to identify the probabilities of moving from one event to another in a network of potential marketing channel events and conversion events."
      ]
    },
    {
      "cell_type": "markdown",
      "metadata": {
        "id": "MVsOTX3f9BP-",
        "colab_type": "text"
      },
      "source": [
        "Performed by:\n",
        "\n",
        "Ken Wood\n",
        "\n",
        "Marketing Data Scientist\n",
        "\n",
        "SugarCRM\n",
        "\n",
        "kwood@sugarcrm.com\n",
        "\n",
        "(919) 802-0065\n",
        "\n"
      ]
    },
    {
      "cell_type": "markdown",
      "metadata": {
        "id": "XhwsQEl58tcx",
        "colab_type": "text"
      },
      "source": [
        "### Mount the Google Drive where the data files are located."
      ]
    },
    {
      "cell_type": "code",
      "metadata": {
        "id": "9f2B1jVo5WzN",
        "colab_type": "code",
        "outputId": "61ac2f09-aa6a-41d8-8852-6f45ddc29221",
        "colab": {
          "base_uri": "https://localhost:8080/",
          "height": 34
        }
      },
      "source": [
        "from google.colab import drive\n",
        "drive.mount('/content/drive/')"
      ],
      "execution_count": 0,
      "outputs": [
        {
          "output_type": "stream",
          "text": [
            "Drive already mounted at /content/drive/; to attempt to forcibly remount, call drive.mount(\"/content/drive/\", force_remount=True).\n"
          ],
          "name": "stdout"
        }
      ]
    },
    {
      "cell_type": "markdown",
      "metadata": {
        "id": "ovVN_46lxUC6",
        "colab_type": "text"
      },
      "source": [
        "### Load the necessary Python software packages to perform the attribution analysis..."
      ]
    },
    {
      "cell_type": "code",
      "metadata": {
        "id": "p7WqPuZNxQb_",
        "colab_type": "code",
        "colab": {}
      },
      "source": [
        "import pandas as pd\n",
        "import numpy as np\n",
        "import seaborn as sns\n",
        "import subprocess\n",
        "from sklearn import preprocessing\n",
        "import matplotlib.pyplot as plt \n",
        "plt.rc(\"font\", size=14)\n",
        "\n",
        "sns.set(style=\"white\")\n",
        "sns.set(style=\"whitegrid\", color_codes=True)"
      ],
      "execution_count": 0,
      "outputs": []
    },
    {
      "cell_type": "markdown",
      "metadata": {
        "id": "A4WjZDWv4S3A",
        "colab_type": "text"
      },
      "source": [
        "### Load the 'Channel_attribution.csv' file from location *''/content/drive/My Drive/Colab Notebooks/Marketing Attribution - Markov Chains/'* and develop some summary statistics.\n",
        "\n"
      ]
    },
    {
      "cell_type": "code",
      "metadata": {
        "colab_type": "code",
        "id": "R5pqHgvG8c87",
        "outputId": "ec03d14b-ee4e-4ac1-c5e8-2d2322a48c8d",
        "colab": {
          "base_uri": "https://localhost:8080/",
          "height": 459
        }
      },
      "source": [
        "df = pd.read_csv('/content/drive/My Drive/Colab Notebooks/Marketing Attribution - Markov Chains/Channel_attribution.csv')\n",
        "df.info()"
      ],
      "execution_count": 0,
      "outputs": [
        {
          "output_type": "stream",
          "text": [
            "<class 'pandas.core.frame.DataFrame'>\n",
            "RangeIndex: 2392 entries, 0 to 2391\n",
            "Data columns (total 21 columns):\n",
            "R05A.01    2392 non-null int64\n",
            "R05A.02    2392 non-null int64\n",
            "R05A.03    2384 non-null float64\n",
            "R05A.04    2217 non-null float64\n",
            "R05A.05    1586 non-null float64\n",
            "R05A.06    1030 non-null float64\n",
            "R05A.07    605 non-null float64\n",
            "R05A.08    391 non-null float64\n",
            "R05A.09    228 non-null float64\n",
            "R05A.10    138 non-null float64\n",
            "R05A.11    82 non-null float64\n",
            "R05A.12    52 non-null float64\n",
            "R05A.13    29 non-null float64\n",
            "R05A.14    19 non-null float64\n",
            "R05A.15    8 non-null float64\n",
            "R05A.16    7 non-null float64\n",
            "R05A.17    4 non-null float64\n",
            "R05A.18    2 non-null float64\n",
            "R05A.19    1 non-null float64\n",
            "R05A.20    1 non-null float64\n",
            "Output     0 non-null float64\n",
            "dtypes: float64(19), int64(2)\n",
            "memory usage: 392.5 KB\n"
          ],
          "name": "stdout"
        }
      ]
    },
    {
      "cell_type": "markdown",
      "metadata": {
        "id": "1BbRK6WbHhCF",
        "colab_type": "text"
      },
      "source": [
        "### Let's examine 'Channel_attribution.csv'..."
      ]
    },
    {
      "cell_type": "code",
      "metadata": {
        "id": "ec5oAuTsjWhK",
        "colab_type": "code",
        "outputId": "40c88c29-fd05-49dc-96c8-36c7cdcbbe56",
        "colab": {
          "base_uri": "https://localhost:8080/",
          "height": 374
        }
      },
      "source": [
        "print(\"Shape of dataframe: \",df.shape,\"\\n\")             # Get shape of dataframe.\n",
        "print(df.head())                                        # Print first 5 rows of dataframe.\n",
        "print(df.describe())                                    # Get some summary stats on the dataframe variables"
      ],
      "execution_count": 0,
      "outputs": [
        {
          "output_type": "stream",
          "text": [
            "Shape of dataframe:  (2392, 21) \n",
            "\n",
            "   R05A.01  R05A.02  R05A.03  R05A.04  ...  R05A.18  R05A.19  R05A.20  Output\n",
            "0       16        4      3.0      5.0  ...      NaN      NaN      NaN     NaN\n",
            "1        2        1      9.0     10.0  ...      NaN      NaN      NaN     NaN\n",
            "2        9       13     20.0     16.0  ...      NaN      NaN      NaN     NaN\n",
            "3        8       15     20.0     21.0  ...      NaN      NaN      NaN     NaN\n",
            "4       16        9     13.0     20.0  ...      NaN      NaN      NaN     NaN\n",
            "\n",
            "[5 rows x 21 columns]\n",
            "           R05A.01      R05A.02      R05A.03  ...  R05A.19  R05A.20  Output\n",
            "count  2392.000000  2392.000000  2384.000000  ...      1.0      1.0     0.0\n",
            "mean      8.391722     9.291388    12.304530  ...     20.0     21.0     NaN\n",
            "std       4.462116     5.375250     6.524588  ...      NaN      NaN     NaN\n",
            "min       1.000000     1.000000     1.000000  ...     20.0     21.0     NaN\n",
            "25%       4.000000     4.000000     6.000000  ...     20.0     21.0     NaN\n",
            "50%      10.000000     9.000000    13.000000  ...     20.0     21.0     NaN\n",
            "75%      12.000000    13.000000    20.000000  ...     20.0     21.0     NaN\n",
            "max      19.000000    21.000000    21.000000  ...     20.0     21.0     NaN\n",
            "\n",
            "[8 rows x 21 columns]\n"
          ],
          "name": "stdout"
        }
      ]
    },
    {
      "cell_type": "markdown",
      "metadata": {
        "id": "HUCD91mduv07",
        "colab_type": "text"
      },
      "source": [
        "### Get a list of columns in df and convert all variables to type 'str'. Also, remove any trailing '.0'"
      ]
    },
    {
      "cell_type": "code",
      "metadata": {
        "id": "uQwNw3zHH61f",
        "colab_type": "code",
        "colab": {}
      },
      "source": [
        "cols = df.columns  \n",
        "\n",
        "for col in cols:\n",
        "  df[col] = df[col].astype(str)\n",
        "  df[col] = df[col].map(lambda x: str(x)[:-2] if '.' in x else str(x))"
      ],
      "execution_count": 0,
      "outputs": []
    },
    {
      "cell_type": "code",
      "metadata": {
        "id": "qNKGi1Jsvlpw",
        "colab_type": "code",
        "outputId": "b3ff2bd0-bec1-4e5e-f44c-f725c829425f",
        "colab": {
          "base_uri": "https://localhost:8080/",
          "height": 459
        }
      },
      "source": [
        "df.info()"
      ],
      "execution_count": 0,
      "outputs": [
        {
          "output_type": "stream",
          "text": [
            "<class 'pandas.core.frame.DataFrame'>\n",
            "RangeIndex: 2392 entries, 0 to 2391\n",
            "Data columns (total 21 columns):\n",
            "R05A.01    2392 non-null object\n",
            "R05A.02    2392 non-null object\n",
            "R05A.03    2392 non-null object\n",
            "R05A.04    2392 non-null object\n",
            "R05A.05    2392 non-null object\n",
            "R05A.06    2392 non-null object\n",
            "R05A.07    2392 non-null object\n",
            "R05A.08    2392 non-null object\n",
            "R05A.09    2392 non-null object\n",
            "R05A.10    2392 non-null object\n",
            "R05A.11    2392 non-null object\n",
            "R05A.12    2392 non-null object\n",
            "R05A.13    2392 non-null object\n",
            "R05A.14    2392 non-null object\n",
            "R05A.15    2392 non-null object\n",
            "R05A.16    2392 non-null object\n",
            "R05A.17    2392 non-null object\n",
            "R05A.18    2392 non-null object\n",
            "R05A.19    2392 non-null object\n",
            "R05A.20    2392 non-null object\n",
            "Output     2392 non-null object\n",
            "dtypes: object(21)\n",
            "memory usage: 392.5+ KB\n"
          ],
          "name": "stdout"
        }
      ]
    },
    {
      "cell_type": "markdown",
      "metadata": {
        "id": "-BUbp3b4wIp2",
        "colab_type": "text"
      },
      "source": [
        "### We now create the Markov chain framework where user journeys are combined into a single variable of the form 'Channel 1 > Channel 2 > Channel 3 > ...' "
      ]
    },
    {
      "cell_type": "code",
      "metadata": {
        "id": "X7sMgG0i46uE",
        "colab_type": "code",
        "colab": {}
      },
      "source": [
        "df['Path'] = ''  # First we create the 'Path' variable.\n",
        "\n",
        "for i in df.index:\n",
        "    #df.at[i, 'Path'] = 'Start'\n",
        "    for x in cols:\n",
        "        df.at[i, 'Path'] = df.at[i, 'Path'] + df.at[i, x] + ' > '"
      ],
      "execution_count": 0,
      "outputs": []
    },
    {
      "cell_type": "code",
      "metadata": {
        "id": "n8J2lkV099rh",
        "colab_type": "code",
        "outputId": "212e9321-179f-44dd-f5c4-36b435011e5e",
        "colab": {
          "base_uri": "https://localhost:8080/",
          "height": 119
        }
      },
      "source": [
        "df['Path'].head()"
      ],
      "execution_count": 0,
      "outputs": [
        {
          "output_type": "execute_result",
          "data": {
            "text/plain": [
              "0    16 > 4 > 3 > 5 > 10 > 8 > 6 > 8 > 13 > 20 > 21...\n",
              "1    2 > 1 > 9 > 10 > 1 > 4 > 3 > 21 > nan > nan > ...\n",
              "2    9 > 13 > 20 > 16 > 15 > 21 > nan > nan > nan >...\n",
              "3    8 > 15 > 20 > 21 > nan > nan > nan > nan > nan...\n",
              "4    16 > 9 > 13 > 20 > 21 > nan > nan > nan > nan ...\n",
              "Name: Path, dtype: object"
            ]
          },
          "metadata": {
            "tags": []
          },
          "execution_count": 8
        }
      ]
    },
    {
      "cell_type": "markdown",
      "metadata": {
        "id": "HjdeS95f-jTz",
        "colab_type": "text"
      },
      "source": [
        "### Since Channel 21 in our dataset is a conversion event, we will separate that channel from the path and create a separate conversion variable holding the number of conversions happening (still only 1 in our user journey level data)\n",
        "\n",
        "\n"
      ]
    },
    {
      "cell_type": "code",
      "metadata": {
        "id": "qUbAWFUdJcs9",
        "colab_type": "code",
        "colab": {}
      },
      "source": [
        "# Split path on conversion (channel 21)\n",
        "df['Path'] = df['Path'].map(lambda x: x.split(' > 21')[0])\n",
        "\n",
        "# Create conversion value we can sum to get total conversions for each path\n",
        "df['Conversion'] = 1"
      ],
      "execution_count": 0,
      "outputs": []
    },
    {
      "cell_type": "code",
      "metadata": {
        "id": "xemN_fJVzfIN",
        "colab_type": "code",
        "outputId": "01614467-e9e2-43ef-dec0-c8e1caab6f1f",
        "colab": {
          "base_uri": "https://localhost:8080/",
          "height": 272
        }
      },
      "source": [
        "df.head()"
      ],
      "execution_count": 0,
      "outputs": [
        {
          "output_type": "execute_result",
          "data": {
            "text/html": [
              "<div>\n",
              "<style scoped>\n",
              "    .dataframe tbody tr th:only-of-type {\n",
              "        vertical-align: middle;\n",
              "    }\n",
              "\n",
              "    .dataframe tbody tr th {\n",
              "        vertical-align: top;\n",
              "    }\n",
              "\n",
              "    .dataframe thead th {\n",
              "        text-align: right;\n",
              "    }\n",
              "</style>\n",
              "<table border=\"1\" class=\"dataframe\">\n",
              "  <thead>\n",
              "    <tr style=\"text-align: right;\">\n",
              "      <th></th>\n",
              "      <th>R05A.01</th>\n",
              "      <th>R05A.02</th>\n",
              "      <th>R05A.03</th>\n",
              "      <th>R05A.04</th>\n",
              "      <th>R05A.05</th>\n",
              "      <th>R05A.06</th>\n",
              "      <th>R05A.07</th>\n",
              "      <th>R05A.08</th>\n",
              "      <th>R05A.09</th>\n",
              "      <th>R05A.10</th>\n",
              "      <th>R05A.11</th>\n",
              "      <th>R05A.12</th>\n",
              "      <th>R05A.13</th>\n",
              "      <th>R05A.14</th>\n",
              "      <th>R05A.15</th>\n",
              "      <th>R05A.16</th>\n",
              "      <th>R05A.17</th>\n",
              "      <th>R05A.18</th>\n",
              "      <th>R05A.19</th>\n",
              "      <th>R05A.20</th>\n",
              "      <th>Output</th>\n",
              "      <th>Path</th>\n",
              "      <th>Conversion</th>\n",
              "    </tr>\n",
              "  </thead>\n",
              "  <tbody>\n",
              "    <tr>\n",
              "      <th>0</th>\n",
              "      <td>16</td>\n",
              "      <td>4</td>\n",
              "      <td>3</td>\n",
              "      <td>5</td>\n",
              "      <td>10</td>\n",
              "      <td>8</td>\n",
              "      <td>6</td>\n",
              "      <td>8</td>\n",
              "      <td>13</td>\n",
              "      <td>20</td>\n",
              "      <td>21</td>\n",
              "      <td>nan</td>\n",
              "      <td>nan</td>\n",
              "      <td>nan</td>\n",
              "      <td>nan</td>\n",
              "      <td>nan</td>\n",
              "      <td>nan</td>\n",
              "      <td>nan</td>\n",
              "      <td>nan</td>\n",
              "      <td>nan</td>\n",
              "      <td>nan</td>\n",
              "      <td>16 &gt; 4 &gt; 3 &gt; 5 &gt; 10 &gt; 8 &gt; 6 &gt; 8 &gt; 13 &gt; 20</td>\n",
              "      <td>1</td>\n",
              "    </tr>\n",
              "    <tr>\n",
              "      <th>1</th>\n",
              "      <td>2</td>\n",
              "      <td>1</td>\n",
              "      <td>9</td>\n",
              "      <td>10</td>\n",
              "      <td>1</td>\n",
              "      <td>4</td>\n",
              "      <td>3</td>\n",
              "      <td>21</td>\n",
              "      <td>nan</td>\n",
              "      <td>nan</td>\n",
              "      <td>nan</td>\n",
              "      <td>nan</td>\n",
              "      <td>nan</td>\n",
              "      <td>nan</td>\n",
              "      <td>nan</td>\n",
              "      <td>nan</td>\n",
              "      <td>nan</td>\n",
              "      <td>nan</td>\n",
              "      <td>nan</td>\n",
              "      <td>nan</td>\n",
              "      <td>nan</td>\n",
              "      <td>2 &gt; 1 &gt; 9 &gt; 10 &gt; 1 &gt; 4 &gt; 3</td>\n",
              "      <td>1</td>\n",
              "    </tr>\n",
              "    <tr>\n",
              "      <th>2</th>\n",
              "      <td>9</td>\n",
              "      <td>13</td>\n",
              "      <td>20</td>\n",
              "      <td>16</td>\n",
              "      <td>15</td>\n",
              "      <td>21</td>\n",
              "      <td>nan</td>\n",
              "      <td>nan</td>\n",
              "      <td>nan</td>\n",
              "      <td>nan</td>\n",
              "      <td>nan</td>\n",
              "      <td>nan</td>\n",
              "      <td>nan</td>\n",
              "      <td>nan</td>\n",
              "      <td>nan</td>\n",
              "      <td>nan</td>\n",
              "      <td>nan</td>\n",
              "      <td>nan</td>\n",
              "      <td>nan</td>\n",
              "      <td>nan</td>\n",
              "      <td>nan</td>\n",
              "      <td>9 &gt; 13 &gt; 20 &gt; 16 &gt; 15</td>\n",
              "      <td>1</td>\n",
              "    </tr>\n",
              "    <tr>\n",
              "      <th>3</th>\n",
              "      <td>8</td>\n",
              "      <td>15</td>\n",
              "      <td>20</td>\n",
              "      <td>21</td>\n",
              "      <td>nan</td>\n",
              "      <td>nan</td>\n",
              "      <td>nan</td>\n",
              "      <td>nan</td>\n",
              "      <td>nan</td>\n",
              "      <td>nan</td>\n",
              "      <td>nan</td>\n",
              "      <td>nan</td>\n",
              "      <td>nan</td>\n",
              "      <td>nan</td>\n",
              "      <td>nan</td>\n",
              "      <td>nan</td>\n",
              "      <td>nan</td>\n",
              "      <td>nan</td>\n",
              "      <td>nan</td>\n",
              "      <td>nan</td>\n",
              "      <td>nan</td>\n",
              "      <td>8 &gt; 15 &gt; 20</td>\n",
              "      <td>1</td>\n",
              "    </tr>\n",
              "    <tr>\n",
              "      <th>4</th>\n",
              "      <td>16</td>\n",
              "      <td>9</td>\n",
              "      <td>13</td>\n",
              "      <td>20</td>\n",
              "      <td>21</td>\n",
              "      <td>nan</td>\n",
              "      <td>nan</td>\n",
              "      <td>nan</td>\n",
              "      <td>nan</td>\n",
              "      <td>nan</td>\n",
              "      <td>nan</td>\n",
              "      <td>nan</td>\n",
              "      <td>nan</td>\n",
              "      <td>nan</td>\n",
              "      <td>nan</td>\n",
              "      <td>nan</td>\n",
              "      <td>nan</td>\n",
              "      <td>nan</td>\n",
              "      <td>nan</td>\n",
              "      <td>nan</td>\n",
              "      <td>nan</td>\n",
              "      <td>16 &gt; 9 &gt; 13 &gt; 20</td>\n",
              "      <td>1</td>\n",
              "    </tr>\n",
              "  </tbody>\n",
              "</table>\n",
              "</div>"
            ],
            "text/plain": [
              "  R05A.01 R05A.02  ...                                       Path Conversion\n",
              "0      16       4  ...  16 > 4 > 3 > 5 > 10 > 8 > 6 > 8 > 13 > 20          1\n",
              "1       2       1  ...                 2 > 1 > 9 > 10 > 1 > 4 > 3          1\n",
              "2       9      13  ...                      9 > 13 > 20 > 16 > 15          1\n",
              "3       8      15  ...                                8 > 15 > 20          1\n",
              "4      16       9  ...                           16 > 9 > 13 > 20          1\n",
              "\n",
              "[5 rows x 23 columns]"
            ]
          },
          "metadata": {
            "tags": []
          },
          "execution_count": 10
        }
      ]
    },
    {
      "cell_type": "markdown",
      "metadata": {
        "id": "QTqiBftXJj-Q",
        "colab_type": "text"
      },
      "source": [
        "### We’re now almost done with the initial data manipulation work. Our data still contains all the original columns, so we select the subset of columns that we need going forward. Since some users may have taken the same journey, we will group our data by unique user journeys and our conversion variable will hold the number of conversions for each respective journey."
      ]
    },
    {
      "cell_type": "code",
      "metadata": {
        "id": "8od6E2F_LS1w",
        "colab_type": "code",
        "colab": {}
      },
      "source": [
        "# Select relevant columns\n",
        "df = df[['Path', 'Conversion']]\n",
        "\n",
        "# Sum conversions by Path\n",
        "df = df.groupby('Path').sum().reset_index()\n",
        "\n",
        "# Write DF to CSV to be executed in R\n",
        "df.to_csv('/content/drive/My Drive/Colab Notebooks/Marketing Attribution - Markov Chains/Paths.csv', index=False)"
      ],
      "execution_count": 0,
      "outputs": []
    },
    {
      "cell_type": "markdown",
      "metadata": {
        "id": "VJwtHbI_LVdj",
        "colab_type": "text"
      },
      "source": [
        "### The last line in the above piece of code will output our data to a .csv file now that we’re done with the data manipulations. It might be handy to have this data available for transparency purposes, and, in our case, we will also use this .csv file to run the Markov chain attribution approach.\n",
        "\n",
        "### *   We will leverage the ChannelAttribution R library which has the theory behind Markov chains built into a single application.\n",
        "### *   We will run the R script below in R Studio and then return to Python to process the output files provided by the attribution analysis.\n",
        "\n"
      ]
    },
    {
      "cell_type": "markdown",
      "metadata": {
        "id": "hLngHsvzbjuQ",
        "colab_type": "text"
      },
      "source": [
        "### Load the Channel Attribution Package in R\n",
        "\n",
        "if(!require(ChannelAttribution)){\n",
        "  install.packages(\"ChannelAttribution\")\n",
        "  library(ChannelAttribution)\n",
        "}\n",
        "\n",
        "### Set Working Directory\n",
        "setwd <- setwd('/content/drive/My Drive/Colab Notebooks/Marketing Attribution - Markov Chains')\n",
        "\n",
        "### Read in our CSV file outputed by the Python script\n",
        "df <- read.csv('Paths.csv')\n",
        "\n",
        "### Select only the necessary columns\n",
        "df <- df[c(1,2)]\n",
        "\n",
        "### Run the Markov Model function\n",
        "M <- markov_model(df, 'Path', var_value = 'Conversion', var_conv = 'Conversion', sep = '>', order=1, out_more = TRUE)\n",
        "\n",
        "### Export the Markov model output to a csv file, to be read back into Python\n",
        "write.csv(M$result, file = \"Markov - Output - Conversion values.csv\", row.names=FALSE)\n",
        "\n",
        "### Output the transition matrix as well, for visualization purposes\n",
        "write.csv(M$transition_matrix, file = \"Markov - Output - Transition matrix.csv\", row.names=FALSE)"
      ]
    },
    {
      "cell_type": "code",
      "metadata": {
        "id": "3vNr8q_aElOy",
        "colab_type": "code",
        "outputId": "7a6b9dd4-9504-4cee-d818-87d9e3f573cb",
        "colab": {
          "base_uri": "https://localhost:8080/",
          "height": 204
        }
      },
      "source": [
        "# Load in the CSV file with the model output from R\n",
        "markov = pd.read_csv('/content/drive/My Drive/Colab Notebooks/Marketing Attribution - Markov Chains/Markov - Output - Conversion values.csv')\n",
        "\n",
        "# Select only the necessary columns and rename them\n",
        "markov = markov[['channel_name', 'total_conversions']]\n",
        "markov.columns = ['Channel', 'Conversion']\n",
        "markov.head()"
      ],
      "execution_count": 0,
      "outputs": [
        {
          "output_type": "execute_result",
          "data": {
            "text/html": [
              "<div>\n",
              "<style scoped>\n",
              "    .dataframe tbody tr th:only-of-type {\n",
              "        vertical-align: middle;\n",
              "    }\n",
              "\n",
              "    .dataframe tbody tr th {\n",
              "        vertical-align: top;\n",
              "    }\n",
              "\n",
              "    .dataframe thead th {\n",
              "        text-align: right;\n",
              "    }\n",
              "</style>\n",
              "<table border=\"1\" class=\"dataframe\">\n",
              "  <thead>\n",
              "    <tr style=\"text-align: right;\">\n",
              "      <th></th>\n",
              "      <th>Channel</th>\n",
              "      <th>Conversion</th>\n",
              "    </tr>\n",
              "  </thead>\n",
              "  <tbody>\n",
              "    <tr>\n",
              "      <th>0</th>\n",
              "      <td>1</td>\n",
              "      <td>82.314244</td>\n",
              "    </tr>\n",
              "    <tr>\n",
              "      <th>1</th>\n",
              "      <td>20</td>\n",
              "      <td>433.220946</td>\n",
              "    </tr>\n",
              "    <tr>\n",
              "      <th>2</th>\n",
              "      <td>12</td>\n",
              "      <td>84.259249</td>\n",
              "    </tr>\n",
              "    <tr>\n",
              "      <th>3</th>\n",
              "      <td>14</td>\n",
              "      <td>63.511743</td>\n",
              "    </tr>\n",
              "    <tr>\n",
              "      <th>4</th>\n",
              "      <td>13</td>\n",
              "      <td>195.942072</td>\n",
              "    </tr>\n",
              "  </tbody>\n",
              "</table>\n",
              "</div>"
            ],
            "text/plain": [
              "   Channel  Conversion\n",
              "0        1   82.314244\n",
              "1       20  433.220946\n",
              "2       12   84.259249\n",
              "3       14   63.511743\n",
              "4       13  195.942072"
            ]
          },
          "metadata": {
            "tags": []
          },
          "execution_count": 12
        }
      ]
    },
    {
      "cell_type": "code",
      "metadata": {
        "id": "CA-eG5c4XNvC",
        "colab_type": "code",
        "outputId": "d2401993-add7-4b70-b5f5-f2561ab37b87",
        "colab": {
          "base_uri": "https://localhost:8080/",
          "height": 291
        }
      },
      "source": [
        "ax = sns.barplot(x=\"Channel\", y=\"Conversion\", data=markov)"
      ],
      "execution_count": 0,
      "outputs": [
        {
          "output_type": "display_data",
          "data": {
            "image/png": "[encoded data removed]",
            "text/plain": [
              "<Figure size 432x288 with 1 Axes>"
            ]
          },
          "metadata": {
            "tags": []
          }
        }
      ]
    }
  ]
}